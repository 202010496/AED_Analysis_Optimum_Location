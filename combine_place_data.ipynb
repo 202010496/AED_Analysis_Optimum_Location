{
 "cells": [
  {
   "cell_type": "code",
   "execution_count": null,
   "metadata": {
    "colab": {
     "base_uri": "https://localhost:8080/"
    },
    "executionInfo": {
     "elapsed": 1742,
     "status": "ok",
     "timestamp": 1628521459233,
     "user": {
      "displayName": "Jinyou Kim",
      "photoUrl": "",
      "userId": "13762645804023943081"
     },
     "user_tz": -540
    },
    "id": "34ns6ZEx6oL8",
    "outputId": "6b0cc160-ac97-4034-c2f6-c8d3b027c3ef"
   },
   "outputs": [
    {
     "name": "stderr",
     "output_type": "stream",
     "text": [
      "/usr/local/lib/python3.7/dist-packages/statsmodels/tools/_testing.py:19: FutureWarning: pandas.util.testing is deprecated. Use the functions in the public API at pandas.testing instead.\n",
      "  import pandas.util.testing as tm\n"
     ]
    }
   ],
   "source": [
    "import pandas as pd\n",
    "import numpy as np\n",
    "import statsmodels.api as sm\n",
    "from sklearn.preprocessing import MinMaxScaler, StandardScaler\n",
    "import seaborn as sns\n",
    "from sklearn.linear_model import LinearRegression\n",
    "import matplotlib.pyplot as plt\n",
    "from sklearn.model_selection import train_test_split \n"
   ]
  },
  {
   "cell_type": "code",
   "execution_count": null,
   "metadata": {
    "id": "1m8uKSvM6s84"
   },
   "outputs": [],
   "source": [
    "file = pd.read_csv('내국인관광지입장객수추이.csv', encoding='cp949')\n",
    "# file2 = pd.read_csv('/content/drive/MyDrive/공빅 프로젝트/코드/final_feature.csv', encoding='cp949')"
   ]
  },
  {
   "cell_type": "code",
   "execution_count": null,
   "metadata": {
    "colab": {
     "base_uri": "https://localhost:8080/"
    },
    "executionInfo": {
     "elapsed": 262,
     "status": "ok",
     "timestamp": 1628496898119,
     "user": {
      "displayName": "Jinyou Kim",
      "photoUrl": "",
      "userId": "13762645804023943081"
     },
     "user_tz": -540
    },
    "id": "nUbP2HSt7IqD",
    "outputId": "ccc9a4a2-019a-49ff-9914-cc9cd2dd281a"
   },
   "outputs": [
    {
     "data": {
      "text/plain": [
       "51"
      ]
     },
     "execution_count": 6,
     "metadata": {
      "tags": []
     },
     "output_type": "execute_result"
    }
   ],
   "source": [
    "len(file['관광지명'].value_counts())"
   ]
  },
  {
   "cell_type": "code",
   "execution_count": null,
   "metadata": {
    "id": "EZYKPU2PcMT9"
   },
   "outputs": [],
   "source": [
    "path = '카페_크롤링_결과\\\\'"
   ]
  },
  {
   "cell_type": "code",
   "execution_count": null,
   "metadata": {
    "id": "ktbr6QPWcaFG"
   },
   "outputs": [],
   "source": [
    "구좌읍1 = pd.read_csv(path+ '구좌읍 카페 데이터 (1).csv', encoding='cp949')\n",
    "구좌읍2 = pd.read_csv(path+ '구좌읍 카페 데이터 (2).csv', encoding='cp949')\n",
    "구좌읍3 = pd.read_csv(path+ '구좌읍 카페 데이터.csv', encoding='cp949')\n",
    "구좌읍4 = pd.read_csv(path+ '구좌읍, 우도 카페 데이터.csv', encoding='cp949')\n"
   ]
  },
  {
   "cell_type": "code",
   "execution_count": null,
   "metadata": {
    "id": "uelRudL3c9LN"
   },
   "outputs": [],
   "source": [
    "\n",
    "애월읍1 = pd.read_csv(path+ '애월읍 카페 데이터(1).csv', encoding='cp949')\n",
    "애월읍2 = pd.read_csv(path+ '애월읍 카페 데이터(2).csv', encoding='cp949')\n",
    "한림읍1 = pd.read_csv(path+ '한림읍 카페 데이터(1).csv', encoding='cp949')\n",
    "한림읍2 = pd.read_csv(path+ '한림읍 카페 데이터(2).csv', encoding='cp949')\n",
    "한경면 = pd.read_csv(path+ '한경면 카페 데이터.csv', encoding='cp949')"
   ]
  },
  {
   "cell_type": "code",
   "execution_count": null,
   "metadata": {
    "id": "YdDe9BOJcfGr"
   },
   "outputs": [],
   "source": [
    "구좌애월한경한림 = pd.concat([한경면, 구좌읍1, 구좌읍2, 구좌읍3, 구좌읍4, 애월읍1, 애월읍2, 한림읍1, 한림읍2])"
   ]
  },
  {
   "cell_type": "code",
   "execution_count": null,
   "metadata": {},
   "outputs": [],
   "source": [
    "구좌애월한경한림.dropna(inplace=True)"
   ]
  },
  {
   "cell_type": "code",
   "execution_count": null,
   "metadata": {
    "id": "rULMY8PAfKHv"
   },
   "outputs": [],
   "source": [
    "구좌애월한경한림.reset_index(inplace=True)"
   ]
  },
  {
   "cell_type": "code",
   "execution_count": null,
   "metadata": {
    "colab": {
     "base_uri": "https://localhost:8080/",
     "height": 414
    },
    "executionInfo": {
     "elapsed": 275,
     "status": "ok",
     "timestamp": 1628522274683,
     "user": {
      "displayName": "Jinyou Kim",
      "photoUrl": "",
      "userId": "13762645804023943081"
     },
     "user_tz": -540
    },
    "id": "T6yqYOrHfdV8",
    "outputId": "8845a9d7-c13f-4e61-dbd8-2ebd808c6cc0"
   },
   "outputs": [
    {
     "data": {
      "text/html": [
       "<div>\n",
       "<style scoped>\n",
       "    .dataframe tbody tr th:only-of-type {\n",
       "        vertical-align: middle;\n",
       "    }\n",
       "\n",
       "    .dataframe tbody tr th {\n",
       "        vertical-align: top;\n",
       "    }\n",
       "\n",
       "    .dataframe thead th {\n",
       "        text-align: right;\n",
       "    }\n",
       "</style>\n",
       "<table border=\"1\" class=\"dataframe\">\n",
       "  <thead>\n",
       "    <tr style=\"text-align: right;\">\n",
       "      <th></th>\n",
       "      <th>index</th>\n",
       "      <th>ID</th>\n",
       "      <th>stores</th>\n",
       "      <th>X</th>\n",
       "      <th>Y</th>\n",
       "      <th>road_address</th>\n",
       "      <th>place_url</th>\n",
       "    </tr>\n",
       "  </thead>\n",
       "  <tbody>\n",
       "    <tr>\n",
       "      <th>0</th>\n",
       "      <td>0</td>\n",
       "      <td>1191501173</td>\n",
       "      <td>노을해안1014</td>\n",
       "      <td>126.168558</td>\n",
       "      <td>33.297686</td>\n",
       "      <td>제주특별자치도 제주시 한경면 노을해안로 1014</td>\n",
       "      <td>http://place.map.kakao.com/1191501173</td>\n",
       "    </tr>\n",
       "    <tr>\n",
       "      <th>1</th>\n",
       "      <td>1</td>\n",
       "      <td>839325267</td>\n",
       "      <td>바람과언덕</td>\n",
       "      <td>126.169031</td>\n",
       "      <td>33.306759</td>\n",
       "      <td>제주특별자치도 제주시 한경면 노을해안로 1203-4</td>\n",
       "      <td>http://place.map.kakao.com/839325267</td>\n",
       "    </tr>\n",
       "    <tr>\n",
       "      <th>2</th>\n",
       "      <td>2</td>\n",
       "      <td>830081272</td>\n",
       "      <td>열두달</td>\n",
       "      <td>126.170321</td>\n",
       "      <td>33.322383</td>\n",
       "      <td>제주특별자치도 제주시 한경면 용수길 37</td>\n",
       "      <td>http://place.map.kakao.com/830081272</td>\n",
       "    </tr>\n",
       "    <tr>\n",
       "      <th>3</th>\n",
       "      <td>3</td>\n",
       "      <td>209164223</td>\n",
       "      <td>제피로스</td>\n",
       "      <td>126.169009</td>\n",
       "      <td>33.317589</td>\n",
       "      <td>제주특별자치도 제주시 한경면 한경해안로 93-32</td>\n",
       "      <td>http://place.map.kakao.com/209164223</td>\n",
       "    </tr>\n",
       "    <tr>\n",
       "      <th>4</th>\n",
       "      <td>4</td>\n",
       "      <td>1313144249</td>\n",
       "      <td>클랭블루</td>\n",
       "      <td>126.177301</td>\n",
       "      <td>33.344872</td>\n",
       "      <td>제주특별자치도 제주시 한경면 한경해안로 552-22</td>\n",
       "      <td>http://place.map.kakao.com/1313144249</td>\n",
       "    </tr>\n",
       "    <tr>\n",
       "      <th>...</th>\n",
       "      <td>...</td>\n",
       "      <td>...</td>\n",
       "      <td>...</td>\n",
       "      <td>...</td>\n",
       "      <td>...</td>\n",
       "      <td>...</td>\n",
       "      <td>...</td>\n",
       "    </tr>\n",
       "    <tr>\n",
       "      <th>766</th>\n",
       "      <td>11</td>\n",
       "      <td>2113185266</td>\n",
       "      <td>새빌</td>\n",
       "      <td>126.362970</td>\n",
       "      <td>33.364311</td>\n",
       "      <td>제주특별자치도 제주시 애월읍 평화로 1529</td>\n",
       "      <td>http://place.map.kakao.com/2113185266</td>\n",
       "    </tr>\n",
       "    <tr>\n",
       "      <th>767</th>\n",
       "      <td>13</td>\n",
       "      <td>159486719</td>\n",
       "      <td>라운지엑스 애월점</td>\n",
       "      <td>126.366252</td>\n",
       "      <td>33.389881</td>\n",
       "      <td>제주특별자치도 제주시 애월읍 천덕로 880-24</td>\n",
       "      <td>http://place.map.kakao.com/159486719</td>\n",
       "    </tr>\n",
       "    <tr>\n",
       "      <th>768</th>\n",
       "      <td>14</td>\n",
       "      <td>1957735346</td>\n",
       "      <td>스페이스제로</td>\n",
       "      <td>126.366509</td>\n",
       "      <td>33.390037</td>\n",
       "      <td>제주특별자치도 제주시 애월읍 천덕로 880-24</td>\n",
       "      <td>http://place.map.kakao.com/1957735346</td>\n",
       "    </tr>\n",
       "    <tr>\n",
       "      <th>769</th>\n",
       "      <td>15</td>\n",
       "      <td>1767656990</td>\n",
       "      <td>JJ라운지</td>\n",
       "      <td>126.366601</td>\n",
       "      <td>33.390177</td>\n",
       "      <td>제주특별자치도 제주시 애월읍 천덕로 880-24</td>\n",
       "      <td>http://place.map.kakao.com/1767656990</td>\n",
       "    </tr>\n",
       "    <tr>\n",
       "      <th>770</th>\n",
       "      <td>16</td>\n",
       "      <td>45532004</td>\n",
       "      <td>커피상가</td>\n",
       "      <td>126.381100</td>\n",
       "      <td>33.397367</td>\n",
       "      <td>제주특별자치도 제주시 애월읍 상가목장길 31</td>\n",
       "      <td>http://place.map.kakao.com/45532004</td>\n",
       "    </tr>\n",
       "  </tbody>\n",
       "</table>\n",
       "<p>771 rows × 7 columns</p>\n",
       "</div>"
      ],
      "text/plain": [
       "     index  ...                              place_url\n",
       "0        0  ...  http://place.map.kakao.com/1191501173\n",
       "1        1  ...   http://place.map.kakao.com/839325267\n",
       "2        2  ...   http://place.map.kakao.com/830081272\n",
       "3        3  ...   http://place.map.kakao.com/209164223\n",
       "4        4  ...  http://place.map.kakao.com/1313144249\n",
       "..     ...  ...                                    ...\n",
       "766     11  ...  http://place.map.kakao.com/2113185266\n",
       "767     13  ...   http://place.map.kakao.com/159486719\n",
       "768     14  ...  http://place.map.kakao.com/1957735346\n",
       "769     15  ...  http://place.map.kakao.com/1767656990\n",
       "770     16  ...    http://place.map.kakao.com/45532004\n",
       "\n",
       "[771 rows x 7 columns]"
      ]
     },
     "execution_count": 30,
     "metadata": {
      "tags": []
     },
     "output_type": "execute_result"
    }
   ],
   "source": [
    "구좌애월한경한림"
   ]
  },
  {
   "cell_type": "code",
   "execution_count": null,
   "metadata": {
    "id": "nfVr4lfJ7MXp"
   },
   "outputs": [],
   "source": [
    "cafe_df = 구좌애월한경한림.drop_duplicates(['stores'], keep = 'first')"
   ]
  },
  {
   "cell_type": "code",
   "execution_count": null,
   "metadata": {
    "colab": {
     "base_uri": "https://localhost:8080/"
    },
    "executionInfo": {
     "elapsed": 258,
     "status": "ok",
     "timestamp": 1628522426799,
     "user": {
      "displayName": "Jinyou Kim",
      "photoUrl": "",
      "userId": "13762645804023943081"
     },
     "user_tz": -540
    },
    "id": "xAOJFix4f-9b",
    "outputId": "e2b68fad-0ebf-4d90-d418-1fc4d00b023b"
   },
   "outputs": [
    {
     "name": "stderr",
     "output_type": "stream",
     "text": [
      "/usr/local/lib/python3.7/dist-packages/pandas/core/frame.py:4174: SettingWithCopyWarning: \n",
      "A value is trying to be set on a copy of a slice from a DataFrame\n",
      "\n",
      "See the caveats in the documentation: https://pandas.pydata.org/pandas-docs/stable/user_guide/indexing.html#returning-a-view-versus-a-copy\n",
      "  errors=errors,\n"
     ]
    }
   ],
   "source": [
    "cafe_df.drop('index', axis=1, inplace=True)"
   ]
  },
  {
   "cell_type": "code",
   "execution_count": null,
   "metadata": {
    "id": "35sP84uNfjhk"
   },
   "outputs": [],
   "source": [
    "cafe_df.to_csv(path + '구좌애월한경한림.csv', index=False)"
   ]
  },
  {
   "cell_type": "code",
   "execution_count": 1,
   "metadata": {
    "colab": {
     "base_uri": "https://localhost:8080/"
    },
    "executionInfo": {
     "elapsed": 15293,
     "status": "ok",
     "timestamp": 1628661158616,
     "user": {
      "displayName": "Jinyou Kim",
      "photoUrl": "",
      "userId": "13762645804023943081"
     },
     "user_tz": -540
    },
    "id": "JrBz1NB2gFZr",
    "outputId": "31de7f96-7776-43b3-f7b6-9ab472ce6dbe"
   },
   "outputs": [
    {
     "name": "stdout",
     "output_type": "stream",
     "text": [
      "Mounted at /content/drive\n"
     ]
    }
   ],
   "source": [
    "from google.colab import drive\n",
    "drive.mount('\\\\')"
   ]
  },
  {
   "cell_type": "code",
   "execution_count": 52,
   "metadata": {
    "executionInfo": {
     "elapsed": 628,
     "status": "ok",
     "timestamp": 1628662500565,
     "user": {
      "displayName": "Jinyou Kim",
      "photoUrl": "",
      "userId": "13762645804023943081"
     },
     "user_tz": -540
    },
    "id": "OZJ4wBVsxML8"
   },
   "outputs": [],
   "source": [
    "import pandas as pd\n",
    "import os"
   ]
  },
  {
   "cell_type": "code",
   "execution_count": 83,
   "metadata": {
    "executionInfo": {
     "elapsed": 276,
     "status": "ok",
     "timestamp": 1628662732274,
     "user": {
      "displayName": "Jinyou Kim",
      "photoUrl": "",
      "userId": "13762645804023943081"
     },
     "user_tz": -540
    },
    "id": "A0gxswr0xVJU"
   },
   "outputs": [],
   "source": [
    "path = '카페데이터\\\\'"
   ]
  },
  {
   "cell_type": "code",
   "execution_count": 84,
   "metadata": {
    "executionInfo": {
     "elapsed": 4,
     "status": "ok",
     "timestamp": 1628662733213,
     "user": {
      "displayName": "Jinyou Kim",
      "photoUrl": "",
      "userId": "13762645804023943081"
     },
     "user_tz": -540
    },
    "id": "XRk5WLJXxSvN"
   },
   "outputs": [],
   "source": [
    "file_list = os.listdir(path)\n",
    "file_list_py = [file for file in file_list if file.endswith('.csv')]"
   ]
  },
  {
   "cell_type": "code",
   "execution_count": 85,
   "metadata": {
    "colab": {
     "base_uri": "https://localhost:8080/"
    },
    "executionInfo": {
     "elapsed": 5,
     "status": "ok",
     "timestamp": 1628662733621,
     "user": {
      "displayName": "Jinyou Kim",
      "photoUrl": "",
      "userId": "13762645804023943081"
     },
     "user_tz": -540
    },
    "id": "Imfa7wxoxcyq",
    "outputId": "61fb1c21-b85b-4bb0-ae30-42ba63e105e8"
   },
   "outputs": [
    {
     "data": {
      "text/plain": [
       "['남원읍 카페 데이터(1).csv',\n",
       " '대정읍 카페 데이터(1).csv',\n",
       " '남원읍 카페 데이터(2).csv',\n",
       " '대정읍 카페 데이터(2).csv',\n",
       " '대정읍 카페 데이터(3).csv',\n",
       " '안덕면 카페 데이터(1).csv',\n",
       " '남원읍 카페 데이터(4).csv',\n",
       " '안덕면 카페 데이터(2).csv',\n",
       " '남원읍 카페 데이터(3).csv',\n",
       " '서귀포시 카페 데이터(1).csv',\n",
       " '서귀포시 카페 데이터(2).csv',\n",
       " '서귀포시 카페 데이터(3).csv',\n",
       " '서귀포시 카페 데이터(4).csv',\n",
       " '성산읍 카페.csv',\n",
       " '한라산 카페.csv',\n",
       " '표선면 카페 (1).csv',\n",
       " '애월읍 카페 (1).csv',\n",
       " '표선면 카페 (2).csv',\n",
       " '우도 카페.csv']"
      ]
     },
     "execution_count": 85,
     "metadata": {
      "tags": []
     },
     "output_type": "execute_result"
    }
   ],
   "source": [
    "file_list_py"
   ]
  },
  {
   "cell_type": "code",
   "execution_count": 56,
   "metadata": {
    "executionInfo": {
     "elapsed": 287,
     "status": "ok",
     "timestamp": 1628662508456,
     "user": {
      "displayName": "Jinyou Kim",
      "photoUrl": "",
      "userId": "13762645804023943081"
     },
     "user_tz": -540
    },
    "id": "1iTpf2t4xdu3"
   },
   "outputs": [],
   "source": [
    "file_name = []\n",
    "for file in file_list:\n",
    "    if file.count(\".\") == 1: \n",
    "        name = file.split('.')[0]\n",
    "        file_name.append(name)\n",
    "    else:\n",
    "        for k in range(len(file)-1,0,-1):\n",
    "            if file[k]=='.':\n",
    "                file_name.append(file[:k])\n",
    "                break"
   ]
  },
  {
   "cell_type": "code",
   "execution_count": 57,
   "metadata": {
    "colab": {
     "base_uri": "https://localhost:8080/"
    },
    "executionInfo": {
     "elapsed": 3,
     "status": "ok",
     "timestamp": 1628662508724,
     "user": {
      "displayName": "Jinyou Kim",
      "photoUrl": "",
      "userId": "13762645804023943081"
     },
     "user_tz": -540
    },
    "id": "W-aAwaXuxpA3",
    "outputId": "b7a99ffa-10ed-4857-f85d-7f0e1c684e67"
   },
   "outputs": [
    {
     "data": {
      "text/plain": [
       "['남원읍 카페 데이터(1)',\n",
       " '대정읍 카페 데이터(1)',\n",
       " '남원읍 카페 데이터(2)',\n",
       " '대정읍 카페 데이터(2)',\n",
       " '대정읍 카페 데이터(3)',\n",
       " '안덕면 카페 데이터(1)',\n",
       " '남원읍 카페 데이터(4)',\n",
       " '안덕면 카페 데이터(2)',\n",
       " '남원읍 카페 데이터(3)',\n",
       " '서귀포시 카페 데이터(1)',\n",
       " '서귀포시 카페 데이터(2)',\n",
       " '서귀포시 카페 데이터(3)',\n",
       " '서귀포시 카페 데이터(4)',\n",
       " '성산읍 카페',\n",
       " '한라산 카페',\n",
       " '표선면 카페 (1)',\n",
       " '애월읍 카페 (1)',\n",
       " '표선면 카페 (2)',\n",
       " '우도 카페']"
      ]
     },
     "execution_count": 57,
     "metadata": {
      "tags": []
     },
     "output_type": "execute_result"
    }
   ],
   "source": [
    "file_name"
   ]
  },
  {
   "cell_type": "code",
   "execution_count": 86,
   "metadata": {
    "colab": {
     "base_uri": "https://localhost:8080/"
    },
    "executionInfo": {
     "elapsed": 255,
     "status": "ok",
     "timestamp": 1628662740548,
     "user": {
      "displayName": "Jinyou Kim",
      "photoUrl": "",
      "userId": "13762645804023943081"
     },
     "user_tz": -540
    },
    "id": "xi1a_c3ty_cx",
    "outputId": "582e078b-3d4d-4600-d2a2-84604c02daf4"
   },
   "outputs": [
    {
     "data": {
      "text/plain": [
       "['남원읍 카페 데이터(1).csv',\n",
       " '대정읍 카페 데이터(1).csv',\n",
       " '남원읍 카페 데이터(2).csv',\n",
       " '대정읍 카페 데이터(2).csv',\n",
       " '대정읍 카페 데이터(3).csv',\n",
       " '안덕면 카페 데이터(1).csv',\n",
       " '남원읍 카페 데이터(4).csv',\n",
       " '안덕면 카페 데이터(2).csv',\n",
       " '남원읍 카페 데이터(3).csv',\n",
       " '서귀포시 카페 데이터(1).csv',\n",
       " '서귀포시 카페 데이터(2).csv',\n",
       " '서귀포시 카페 데이터(3).csv',\n",
       " '서귀포시 카페 데이터(4).csv',\n",
       " '성산읍 카페.csv',\n",
       " '한라산 카페.csv',\n",
       " '표선면 카페 (1).csv',\n",
       " '애월읍 카페 (1).csv',\n",
       " '표선면 카페 (2).csv',\n",
       " '우도 카페.csv']"
      ]
     },
     "execution_count": 86,
     "metadata": {
      "tags": []
     },
     "output_type": "execute_result"
    }
   ],
   "source": [
    "file_list_py"
   ]
  },
  {
   "cell_type": "code",
   "execution_count": 73,
   "metadata": {
    "executionInfo": {
     "elapsed": 626,
     "status": "ok",
     "timestamp": 1628662671159,
     "user": {
      "displayName": "Jinyou Kim",
      "photoUrl": "",
      "userId": "13762645804023943081"
     },
     "user_tz": -540
    },
    "id": "tsIFtMT2xq3G"
   },
   "outputs": [],
   "source": [
    "df = pd.DataFrame()\n",
    "for i in file_list_py[:22]:\n",
    "\n",
    "    data = pd.read_csv(path + i, encoding='cp949')\n",
    "    # date = str('20') +i.split('.')[0]\n",
    "        \n",
    "    # print(data)\n",
    "    df = pd.concat([df, data])"
   ]
  },
  {
   "cell_type": "code",
   "execution_count": 74,
   "metadata": {
    "colab": {
     "base_uri": "https://localhost:8080/",
     "height": 447
    },
    "executionInfo": {
     "elapsed": 243,
     "status": "ok",
     "timestamp": 1628662672740,
     "user": {
      "displayName": "Jinyou Kim",
      "photoUrl": "",
      "userId": "13762645804023943081"
     },
     "user_tz": -540
    },
    "id": "4K0k8434zvYv",
    "outputId": "76c49644-ec99-4243-ffdf-fea719c50e15"
   },
   "outputs": [
    {
     "data": {
      "text/html": [
       "<div>\n",
       "<style scoped>\n",
       "    .dataframe tbody tr th:only-of-type {\n",
       "        vertical-align: middle;\n",
       "    }\n",
       "\n",
       "    .dataframe tbody tr th {\n",
       "        vertical-align: top;\n",
       "    }\n",
       "\n",
       "    .dataframe thead th {\n",
       "        text-align: right;\n",
       "    }\n",
       "</style>\n",
       "<table border=\"1\" class=\"dataframe\">\n",
       "  <thead>\n",
       "    <tr style=\"text-align: right;\">\n",
       "      <th></th>\n",
       "      <th>ID</th>\n",
       "      <th>stores</th>\n",
       "      <th>X</th>\n",
       "      <th>Y</th>\n",
       "      <th>road_address</th>\n",
       "      <th>place_url</th>\n",
       "    </tr>\n",
       "  </thead>\n",
       "  <tbody>\n",
       "    <tr>\n",
       "      <th>0</th>\n",
       "      <td>847127040</td>\n",
       "      <td>이루후제</td>\n",
       "      <td>126.630162</td>\n",
       "      <td>33.259740</td>\n",
       "      <td>제주특별자치도 서귀포시 남원읍 하신로 63</td>\n",
       "      <td>http://place.map.kakao.com/847127040</td>\n",
       "    </tr>\n",
       "    <tr>\n",
       "      <th>1</th>\n",
       "      <td>568528624</td>\n",
       "      <td>미미파스타</td>\n",
       "      <td>126.624683</td>\n",
       "      <td>33.258669</td>\n",
       "      <td>제주특별자치도 서귀포시 남원읍 하례로 98</td>\n",
       "      <td>http://place.map.kakao.com/568528624</td>\n",
       "    </tr>\n",
       "    <tr>\n",
       "      <th>2</th>\n",
       "      <td>735371074</td>\n",
       "      <td>안녕소깍</td>\n",
       "      <td>126.624734</td>\n",
       "      <td>33.258656</td>\n",
       "      <td>제주특별자치도 서귀포시 남원읍 하례로 98</td>\n",
       "      <td>http://place.map.kakao.com/735371074</td>\n",
       "    </tr>\n",
       "    <tr>\n",
       "      <th>3</th>\n",
       "      <td>1207678819</td>\n",
       "      <td>하례점빵</td>\n",
       "      <td>126.623349</td>\n",
       "      <td>33.271347</td>\n",
       "      <td>제주특별자치도 서귀포시 남원읍 하례로 272</td>\n",
       "      <td>http://place.map.kakao.com/1207678819</td>\n",
       "    </tr>\n",
       "    <tr>\n",
       "      <th>4</th>\n",
       "      <td>9164820</td>\n",
       "      <td>쇠소깍가든소연이네</td>\n",
       "      <td>126.624380</td>\n",
       "      <td>33.264206</td>\n",
       "      <td>제주특별자치도 서귀포시 남원읍 하례로166번길 1</td>\n",
       "      <td>http://place.map.kakao.com/9164820</td>\n",
       "    </tr>\n",
       "    <tr>\n",
       "      <th>...</th>\n",
       "      <td>...</td>\n",
       "      <td>...</td>\n",
       "      <td>...</td>\n",
       "      <td>...</td>\n",
       "      <td>...</td>\n",
       "      <td>...</td>\n",
       "    </tr>\n",
       "    <tr>\n",
       "      <th>7879</th>\n",
       "      <td>9961374</td>\n",
       "      <td>월계토종닭</td>\n",
       "      <td>126.573733</td>\n",
       "      <td>33.471706</td>\n",
       "      <td>제주특별자치도 제주시 월평1길 8</td>\n",
       "      <td>http://place.map.kakao.com/9961374</td>\n",
       "    </tr>\n",
       "    <tr>\n",
       "      <th>7880</th>\n",
       "      <td>99092488</td>\n",
       "      <td>커피템플</td>\n",
       "      <td>126.570242</td>\n",
       "      <td>33.478142</td>\n",
       "      <td>제주특별자치도 제주시 영평길 269</td>\n",
       "      <td>http://place.map.kakao.com/99092488</td>\n",
       "    </tr>\n",
       "    <tr>\n",
       "      <th>7881</th>\n",
       "      <td>977029026</td>\n",
       "      <td>정희네두루치기</td>\n",
       "      <td>126.569357</td>\n",
       "      <td>33.474176</td>\n",
       "      <td>제주특별자치도 제주시 아봉로 248-56</td>\n",
       "      <td>http://place.map.kakao.com/977029026</td>\n",
       "    </tr>\n",
       "    <tr>\n",
       "      <th>7882</th>\n",
       "      <td>9316649</td>\n",
       "      <td>영평원두막가든</td>\n",
       "      <td>126.572663</td>\n",
       "      <td>33.484682</td>\n",
       "      <td>제주특별자치도 제주시 영평길 185-1</td>\n",
       "      <td>http://place.map.kakao.com/9316649</td>\n",
       "    </tr>\n",
       "    <tr>\n",
       "      <th>7883</th>\n",
       "      <td>13085540</td>\n",
       "      <td>빵을굽는사람들 제주본점</td>\n",
       "      <td>126.568621</td>\n",
       "      <td>33.511386</td>\n",
       "      <td>제주특별자치도 제주시 연삼로 776</td>\n",
       "      <td>http://place.map.kakao.com/13085540</td>\n",
       "    </tr>\n",
       "  </tbody>\n",
       "</table>\n",
       "<p>30753 rows × 6 columns</p>\n",
       "</div>"
      ],
      "text/plain": [
       "              ID  ...                              place_url\n",
       "0      847127040  ...   http://place.map.kakao.com/847127040\n",
       "1      568528624  ...   http://place.map.kakao.com/568528624\n",
       "2      735371074  ...   http://place.map.kakao.com/735371074\n",
       "3     1207678819  ...  http://place.map.kakao.com/1207678819\n",
       "4        9164820  ...     http://place.map.kakao.com/9164820\n",
       "...          ...  ...                                    ...\n",
       "7879     9961374  ...     http://place.map.kakao.com/9961374\n",
       "7880    99092488  ...    http://place.map.kakao.com/99092488\n",
       "7881   977029026  ...   http://place.map.kakao.com/977029026\n",
       "7882     9316649  ...     http://place.map.kakao.com/9316649\n",
       "7883    13085540  ...    http://place.map.kakao.com/13085540\n",
       "\n",
       "[30753 rows x 6 columns]"
      ]
     },
     "execution_count": 74,
     "metadata": {
      "tags": []
     },
     "output_type": "execute_result"
    }
   ],
   "source": [
    "df"
   ]
  },
  {
   "cell_type": "code",
   "execution_count": 75,
   "metadata": {
    "executionInfo": {
     "elapsed": 692,
     "status": "ok",
     "timestamp": 1628662678473,
     "user": {
      "displayName": "Jinyou Kim",
      "photoUrl": "",
      "userId": "13762645804023943081"
     },
     "user_tz": -540
    },
    "id": "CoMqnR-mz6fK"
   },
   "outputs": [],
   "source": [
    "df2 = pd.DataFrame()\n",
    "for i in file_list_py[22:]:\n",
    "\n",
    "    data = pd.read_csv(path + i)\n",
    "    # date = str('20') +i.split('.')[0]\n",
    "        \n",
    "    # print(data)\n",
    "    df2 = pd.concat([df2, data])"
   ]
  },
  {
   "cell_type": "code",
   "execution_count": 76,
   "metadata": {
    "colab": {
     "base_uri": "https://localhost:8080/",
     "height": 464
    },
    "executionInfo": {
     "elapsed": 284,
     "status": "ok",
     "timestamp": 1628662680017,
     "user": {
      "displayName": "Jinyou Kim",
      "photoUrl": "",
      "userId": "13762645804023943081"
     },
     "user_tz": -540
    },
    "id": "JXlGxjrR0AUM",
    "outputId": "d1703545-fd07-4cbc-9d7f-f9ea9b066db9"
   },
   "outputs": [
    {
     "data": {
      "text/html": [
       "<div>\n",
       "<style scoped>\n",
       "    .dataframe tbody tr th:only-of-type {\n",
       "        vertical-align: middle;\n",
       "    }\n",
       "\n",
       "    .dataframe tbody tr th {\n",
       "        vertical-align: top;\n",
       "    }\n",
       "\n",
       "    .dataframe thead th {\n",
       "        text-align: right;\n",
       "    }\n",
       "</style>\n",
       "<table border=\"1\" class=\"dataframe\">\n",
       "  <thead>\n",
       "    <tr style=\"text-align: right;\">\n",
       "      <th></th>\n",
       "      <th>ID</th>\n",
       "      <th>stores</th>\n",
       "      <th>X</th>\n",
       "      <th>Y</th>\n",
       "      <th>road_address</th>\n",
       "      <th>place_url</th>\n",
       "    </tr>\n",
       "  </thead>\n",
       "  <tbody>\n",
       "    <tr>\n",
       "      <th>0</th>\n",
       "      <td>184833911</td>\n",
       "      <td>통돌이돈통가</td>\n",
       "      <td>126.804051</td>\n",
       "      <td>33.333033</td>\n",
       "      <td>제주특별자치도 서귀포시 표선면 돈오름로 55</td>\n",
       "      <td>http://place.map.kakao.com/184833911</td>\n",
       "    </tr>\n",
       "    <tr>\n",
       "      <th>1</th>\n",
       "      <td>1727990140</td>\n",
       "      <td>장수상회</td>\n",
       "      <td>126.803097</td>\n",
       "      <td>33.384586</td>\n",
       "      <td>제주특별자치도 서귀포시 표선면 성읍정의현로22번길 20-1</td>\n",
       "      <td>http://place.map.kakao.com/1727990140</td>\n",
       "    </tr>\n",
       "    <tr>\n",
       "      <th>2</th>\n",
       "      <td>8401015</td>\n",
       "      <td>삼다말고기식육점</td>\n",
       "      <td>126.805201</td>\n",
       "      <td>33.388328</td>\n",
       "      <td>제주특별자치도 서귀포시 표선면 중산간동로 4585</td>\n",
       "      <td>http://place.map.kakao.com/8401015</td>\n",
       "    </tr>\n",
       "    <tr>\n",
       "      <th>3</th>\n",
       "      <td>383832662</td>\n",
       "      <td>성읍치킨튀</td>\n",
       "      <td>126.803121</td>\n",
       "      <td>33.384422</td>\n",
       "      <td>제주특별자치도 서귀포시 표선면 성읍정의현로22번길 18-8</td>\n",
       "      <td>http://place.map.kakao.com/383832662</td>\n",
       "    </tr>\n",
       "    <tr>\n",
       "      <th>4</th>\n",
       "      <td>214751469</td>\n",
       "      <td>성읍뚱보식당</td>\n",
       "      <td>126.802936</td>\n",
       "      <td>33.384487</td>\n",
       "      <td>제주특별자치도 서귀포시 표선면 성읍정의현로22번길 20</td>\n",
       "      <td>http://place.map.kakao.com/214751469</td>\n",
       "    </tr>\n",
       "    <tr>\n",
       "      <th>...</th>\n",
       "      <td>...</td>\n",
       "      <td>...</td>\n",
       "      <td>...</td>\n",
       "      <td>...</td>\n",
       "      <td>...</td>\n",
       "      <td>...</td>\n",
       "    </tr>\n",
       "    <tr>\n",
       "      <th>115</th>\n",
       "      <td>810010254</td>\n",
       "      <td>의령소바 성산점</td>\n",
       "      <td>126.856736</td>\n",
       "      <td>33.372190</td>\n",
       "      <td>제주특별자치도 서귀포시 성산읍 삼달로 120</td>\n",
       "      <td>http://place.map.kakao.com/810010254</td>\n",
       "    </tr>\n",
       "    <tr>\n",
       "      <th>116</th>\n",
       "      <td>1831132402</td>\n",
       "      <td>나의왼손</td>\n",
       "      <td>126.855156</td>\n",
       "      <td>33.372125</td>\n",
       "      <td>제주특별자치도 서귀포시 성산읍 삼달로 133</td>\n",
       "      <td>http://place.map.kakao.com/1831132402</td>\n",
       "    </tr>\n",
       "    <tr>\n",
       "      <th>117</th>\n",
       "      <td>1815751486</td>\n",
       "      <td>구포집</td>\n",
       "      <td>126.856394</td>\n",
       "      <td>33.371917</td>\n",
       "      <td>제주특별자치도 서귀포시 성산읍 삼달로 119</td>\n",
       "      <td>http://place.map.kakao.com/1815751486</td>\n",
       "    </tr>\n",
       "    <tr>\n",
       "      <th>118</th>\n",
       "      <td>13571332</td>\n",
       "      <td>두모악무인찻집</td>\n",
       "      <td>126.854183</td>\n",
       "      <td>33.372086</td>\n",
       "      <td>제주특별자치도 서귀포시 성산읍 삼달로 137</td>\n",
       "      <td>http://place.map.kakao.com/13571332</td>\n",
       "    </tr>\n",
       "    <tr>\n",
       "      <th>119</th>\n",
       "      <td>1151783946</td>\n",
       "      <td>삼팔육</td>\n",
       "      <td>126.860304</td>\n",
       "      <td>33.371783</td>\n",
       "      <td>제주특별자치도 서귀포시 성산읍 삼달로 86</td>\n",
       "      <td>http://place.map.kakao.com/1151783946</td>\n",
       "    </tr>\n",
       "  </tbody>\n",
       "</table>\n",
       "<p>35947 rows × 6 columns</p>\n",
       "</div>"
      ],
      "text/plain": [
       "             ID  ...                              place_url\n",
       "0     184833911  ...   http://place.map.kakao.com/184833911\n",
       "1    1727990140  ...  http://place.map.kakao.com/1727990140\n",
       "2       8401015  ...     http://place.map.kakao.com/8401015\n",
       "3     383832662  ...   http://place.map.kakao.com/383832662\n",
       "4     214751469  ...   http://place.map.kakao.com/214751469\n",
       "..          ...  ...                                    ...\n",
       "115   810010254  ...   http://place.map.kakao.com/810010254\n",
       "116  1831132402  ...  http://place.map.kakao.com/1831132402\n",
       "117  1815751486  ...  http://place.map.kakao.com/1815751486\n",
       "118    13571332  ...    http://place.map.kakao.com/13571332\n",
       "119  1151783946  ...  http://place.map.kakao.com/1151783946\n",
       "\n",
       "[35947 rows x 6 columns]"
      ]
     },
     "execution_count": 76,
     "metadata": {
      "tags": []
     },
     "output_type": "execute_result"
    }
   ],
   "source": [
    "df2"
   ]
  },
  {
   "cell_type": "code",
   "execution_count": 77,
   "metadata": {
    "executionInfo": {
     "elapsed": 275,
     "status": "ok",
     "timestamp": 1628662711075,
     "user": {
      "displayName": "Jinyou Kim",
      "photoUrl": "",
      "userId": "13762645804023943081"
     },
     "user_tz": -540
    },
    "id": "gt6UCi7SzcKK"
   },
   "outputs": [],
   "source": [
    "df_rest = pd.concat([df, df2])"
   ]
  },
  {
   "cell_type": "code",
   "execution_count": 78,
   "metadata": {
    "executionInfo": {
     "elapsed": 3,
     "status": "ok",
     "timestamp": 1628662711368,
     "user": {
      "displayName": "Jinyou Kim",
      "photoUrl": "",
      "userId": "13762645804023943081"
     },
     "user_tz": -540
    },
    "id": "T6EOJCFIy-X9"
   },
   "outputs": [],
   "source": [
    "df_rest = df_rest.reset_index(drop = True)"
   ]
  },
  {
   "cell_type": "code",
   "execution_count": 79,
   "metadata": {
    "executionInfo": {
     "elapsed": 4,
     "status": "ok",
     "timestamp": 1628662712169,
     "user": {
      "displayName": "Jinyou Kim",
      "photoUrl": "",
      "userId": "13762645804023943081"
     },
     "user_tz": -540
    },
    "id": "Q-6DknYa0tIW"
   },
   "outputs": [],
   "source": [
    "df_rest_com = df_rest.drop_duplicates(['ID'],  keep = 'first')"
   ]
  },
  {
   "cell_type": "code",
   "execution_count": 80,
   "metadata": {
    "executionInfo": {
     "elapsed": 376,
     "status": "ok",
     "timestamp": 1628662713968,
     "user": {
      "displayName": "Jinyou Kim",
      "photoUrl": "",
      "userId": "13762645804023943081"
     },
     "user_tz": -540
    },
    "id": "a_P9fxQe0tyg"
   },
   "outputs": [],
   "source": [
    "df_rest_com = df_rest_com.reset_index(drop = True)"
   ]
  },
  {
   "cell_type": "code",
   "execution_count": 82,
   "metadata": {
    "executionInfo": {
     "elapsed": 234,
     "status": "ok",
     "timestamp": 1628662720711,
     "user": {
      "displayName": "Jinyou Kim",
      "photoUrl": "",
      "userId": "13762645804023943081"
     },
     "user_tz": -540
    },
    "id": "Y3XzCkrH1KOS"
   },
   "outputs": [],
   "source": [
    "df_rest_com.to_csv(path+'제주식당.csv')"
   ]
  },
  {
   "cell_type": "code",
   "execution_count": 81,
   "metadata": {
    "colab": {
     "base_uri": "https://localhost:8080/",
     "height": 414
    },
    "executionInfo": {
     "elapsed": 253,
     "status": "ok",
     "timestamp": 1628662716438,
     "user": {
      "displayName": "Jinyou Kim",
      "photoUrl": "",
      "userId": "13762645804023943081"
     },
     "user_tz": -540
    },
    "id": "M-hTmt4t1K2J",
    "outputId": "212c4949-ee76-4cd2-bcaf-c6ef265a010f"
   },
   "outputs": [
    {
     "data": {
      "text/html": [
       "<div>\n",
       "<style scoped>\n",
       "    .dataframe tbody tr th:only-of-type {\n",
       "        vertical-align: middle;\n",
       "    }\n",
       "\n",
       "    .dataframe tbody tr th {\n",
       "        vertical-align: top;\n",
       "    }\n",
       "\n",
       "    .dataframe thead th {\n",
       "        text-align: right;\n",
       "    }\n",
       "</style>\n",
       "<table border=\"1\" class=\"dataframe\">\n",
       "  <thead>\n",
       "    <tr style=\"text-align: right;\">\n",
       "      <th></th>\n",
       "      <th>ID</th>\n",
       "      <th>stores</th>\n",
       "      <th>X</th>\n",
       "      <th>Y</th>\n",
       "      <th>road_address</th>\n",
       "      <th>place_url</th>\n",
       "    </tr>\n",
       "  </thead>\n",
       "  <tbody>\n",
       "    <tr>\n",
       "      <th>0</th>\n",
       "      <td>847127040</td>\n",
       "      <td>이루후제</td>\n",
       "      <td>126.630162</td>\n",
       "      <td>33.259740</td>\n",
       "      <td>제주특별자치도 서귀포시 남원읍 하신로 63</td>\n",
       "      <td>http://place.map.kakao.com/847127040</td>\n",
       "    </tr>\n",
       "    <tr>\n",
       "      <th>1</th>\n",
       "      <td>568528624</td>\n",
       "      <td>미미파스타</td>\n",
       "      <td>126.624683</td>\n",
       "      <td>33.258669</td>\n",
       "      <td>제주특별자치도 서귀포시 남원읍 하례로 98</td>\n",
       "      <td>http://place.map.kakao.com/568528624</td>\n",
       "    </tr>\n",
       "    <tr>\n",
       "      <th>2</th>\n",
       "      <td>735371074</td>\n",
       "      <td>안녕소깍</td>\n",
       "      <td>126.624734</td>\n",
       "      <td>33.258656</td>\n",
       "      <td>제주특별자치도 서귀포시 남원읍 하례로 98</td>\n",
       "      <td>http://place.map.kakao.com/735371074</td>\n",
       "    </tr>\n",
       "    <tr>\n",
       "      <th>3</th>\n",
       "      <td>1207678819</td>\n",
       "      <td>하례점빵</td>\n",
       "      <td>126.623349</td>\n",
       "      <td>33.271347</td>\n",
       "      <td>제주특별자치도 서귀포시 남원읍 하례로 272</td>\n",
       "      <td>http://place.map.kakao.com/1207678819</td>\n",
       "    </tr>\n",
       "    <tr>\n",
       "      <th>4</th>\n",
       "      <td>9164820</td>\n",
       "      <td>쇠소깍가든소연이네</td>\n",
       "      <td>126.624380</td>\n",
       "      <td>33.264206</td>\n",
       "      <td>제주특별자치도 서귀포시 남원읍 하례로166번길 1</td>\n",
       "      <td>http://place.map.kakao.com/9164820</td>\n",
       "    </tr>\n",
       "    <tr>\n",
       "      <th>...</th>\n",
       "      <td>...</td>\n",
       "      <td>...</td>\n",
       "      <td>...</td>\n",
       "      <td>...</td>\n",
       "      <td>...</td>\n",
       "      <td>...</td>\n",
       "    </tr>\n",
       "    <tr>\n",
       "      <th>16881</th>\n",
       "      <td>9721815</td>\n",
       "      <td>대진가든</td>\n",
       "      <td>126.813076</td>\n",
       "      <td>33.402979</td>\n",
       "      <td>제주특별자치도 서귀포시 표선면 서성일로 180</td>\n",
       "      <td>http://place.map.kakao.com/9721815</td>\n",
       "    </tr>\n",
       "    <tr>\n",
       "      <th>16882</th>\n",
       "      <td>9288427</td>\n",
       "      <td>오름골식당</td>\n",
       "      <td>126.813149</td>\n",
       "      <td>33.403072</td>\n",
       "      <td>제주특별자치도 서귀포시 표선면 서성일로 180</td>\n",
       "      <td>http://place.map.kakao.com/9288427</td>\n",
       "    </tr>\n",
       "    <tr>\n",
       "      <th>16883</th>\n",
       "      <td>26982415</td>\n",
       "      <td>모구리</td>\n",
       "      <td>126.818208</td>\n",
       "      <td>33.406286</td>\n",
       "      <td>제주특별자치도 서귀포시 성산읍 서성일로 241</td>\n",
       "      <td>http://place.map.kakao.com/26982415</td>\n",
       "    </tr>\n",
       "    <tr>\n",
       "      <th>16884</th>\n",
       "      <td>26586646</td>\n",
       "      <td>나그네식당</td>\n",
       "      <td>126.817833</td>\n",
       "      <td>33.406520</td>\n",
       "      <td>제주특별자치도 서귀포시 성산읍 서성일로 239</td>\n",
       "      <td>http://place.map.kakao.com/26586646</td>\n",
       "    </tr>\n",
       "    <tr>\n",
       "      <th>16885</th>\n",
       "      <td>1622846474</td>\n",
       "      <td>풀가개비</td>\n",
       "      <td>126.827096</td>\n",
       "      <td>33.410471</td>\n",
       "      <td>제주특별자치도 서귀포시 성산읍 서성일로 335</td>\n",
       "      <td>http://place.map.kakao.com/1622846474</td>\n",
       "    </tr>\n",
       "  </tbody>\n",
       "</table>\n",
       "<p>16886 rows × 6 columns</p>\n",
       "</div>"
      ],
      "text/plain": [
       "               ID  ...                              place_url\n",
       "0       847127040  ...   http://place.map.kakao.com/847127040\n",
       "1       568528624  ...   http://place.map.kakao.com/568528624\n",
       "2       735371074  ...   http://place.map.kakao.com/735371074\n",
       "3      1207678819  ...  http://place.map.kakao.com/1207678819\n",
       "4         9164820  ...     http://place.map.kakao.com/9164820\n",
       "...           ...  ...                                    ...\n",
       "16881     9721815  ...     http://place.map.kakao.com/9721815\n",
       "16882     9288427  ...     http://place.map.kakao.com/9288427\n",
       "16883    26982415  ...    http://place.map.kakao.com/26982415\n",
       "16884    26586646  ...    http://place.map.kakao.com/26586646\n",
       "16885  1622846474  ...  http://place.map.kakao.com/1622846474\n",
       "\n",
       "[16886 rows x 6 columns]"
      ]
     },
     "execution_count": 81,
     "metadata": {
      "tags": []
     },
     "output_type": "execute_result"
    }
   ],
   "source": [
    "df_rest_com"
   ]
  },
  {
   "cell_type": "markdown",
   "metadata": {
    "id": "8CaSsOx52lkd"
   },
   "source": [
    "#카페"
   ]
  },
  {
   "cell_type": "code",
   "execution_count": 87,
   "metadata": {
    "executionInfo": {
     "elapsed": 277,
     "status": "ok",
     "timestamp": 1628662777163,
     "user": {
      "displayName": "Jinyou Kim",
      "photoUrl": "",
      "userId": "13762645804023943081"
     },
     "user_tz": -540
    },
    "id": "Lt1bpplx2lMu"
   },
   "outputs": [],
   "source": [
    "df = pd.DataFrame()\n",
    "for i in file_list_py[:13]:\n",
    "\n",
    "    data = pd.read_csv(path + i, encoding='cp949')\n",
    "    # date = str('20') +i.split('.')[0]\n",
    "        \n",
    "    # print(data)\n",
    "    df = pd.concat([df, data])\n",
    "    "
   ]
  },
  {
   "cell_type": "code",
   "execution_count": 88,
   "metadata": {
    "executionInfo": {
     "elapsed": 2073,
     "status": "ok",
     "timestamp": 1628662779476,
     "user": {
      "displayName": "Jinyou Kim",
      "photoUrl": "",
      "userId": "13762645804023943081"
     },
     "user_tz": -540
    },
    "id": "8g68Ihjv2qWo"
   },
   "outputs": [],
   "source": [
    "df2 = pd.DataFrame()\n",
    "for i in file_list_py[13:]:\n",
    "\n",
    "    data = pd.read_csv(path + i)\n",
    "    # date = str('20') +i.split('.')[0]\n",
    "        \n",
    "    # print(data)\n",
    "    df2 = pd.concat([df2, data])\n",
    "    "
   ]
  },
  {
   "cell_type": "code",
   "execution_count": 89,
   "metadata": {
    "executionInfo": {
     "elapsed": 2,
     "status": "ok",
     "timestamp": 1628662786173,
     "user": {
      "displayName": "Jinyou Kim",
      "photoUrl": "",
      "userId": "13762645804023943081"
     },
     "user_tz": -540
    },
    "id": "j275TAGL3cNP"
   },
   "outputs": [],
   "source": [
    "df_rest = pd.concat([df, df2])"
   ]
  },
  {
   "cell_type": "code",
   "execution_count": 90,
   "metadata": {
    "executionInfo": {
     "elapsed": 339,
     "status": "ok",
     "timestamp": 1628662791709,
     "user": {
      "displayName": "Jinyou Kim",
      "photoUrl": "",
      "userId": "13762645804023943081"
     },
     "user_tz": -540
    },
    "id": "MDdjxHxa3eWY"
   },
   "outputs": [],
   "source": [
    "df_rest = df_rest.reset_index(drop = True)"
   ]
  },
  {
   "cell_type": "code",
   "execution_count": 91,
   "metadata": {
    "executionInfo": {
     "elapsed": 301,
     "status": "ok",
     "timestamp": 1628662795631,
     "user": {
      "displayName": "Jinyou Kim",
      "photoUrl": "",
      "userId": "13762645804023943081"
     },
     "user_tz": -540
    },
    "id": "hNbo6A0i3ftG"
   },
   "outputs": [],
   "source": [
    "df_rest_com = df_rest.drop_duplicates(['ID'],  keep = 'first')"
   ]
  },
  {
   "cell_type": "code",
   "execution_count": 92,
   "metadata": {
    "executionInfo": {
     "elapsed": 368,
     "status": "ok",
     "timestamp": 1628662800926,
     "user": {
      "displayName": "Jinyou Kim",
      "photoUrl": "",
      "userId": "13762645804023943081"
     },
     "user_tz": -540
    },
    "id": "q6UoZu-Y3grN"
   },
   "outputs": [],
   "source": [
    "df_rest_com = df_rest_com.reset_index(drop = True)"
   ]
  },
  {
   "cell_type": "code",
   "execution_count": null,
   "metadata": {
    "id": "30J2mUKS3h2a"
   },
   "outputs": [],
   "source": []
  },
  {
   "cell_type": "code",
   "execution_count": 93,
   "metadata": {
    "colab": {
     "base_uri": "https://localhost:8080/",
     "height": 414
    },
    "executionInfo": {
     "elapsed": 251,
     "status": "ok",
     "timestamp": 1628662807054,
     "user": {
      "displayName": "Jinyou Kim",
      "photoUrl": "",
      "userId": "13762645804023943081"
     },
     "user_tz": -540
    },
    "id": "WFDgl1kL3jAO",
    "outputId": "eddb2cb9-89cd-4f5c-96c4-9c174b292e55"
   },
   "outputs": [
    {
     "data": {
      "text/html": [
       "<div>\n",
       "<style scoped>\n",
       "    .dataframe tbody tr th:only-of-type {\n",
       "        vertical-align: middle;\n",
       "    }\n",
       "\n",
       "    .dataframe tbody tr th {\n",
       "        vertical-align: top;\n",
       "    }\n",
       "\n",
       "    .dataframe thead th {\n",
       "        text-align: right;\n",
       "    }\n",
       "</style>\n",
       "<table border=\"1\" class=\"dataframe\">\n",
       "  <thead>\n",
       "    <tr style=\"text-align: right;\">\n",
       "      <th></th>\n",
       "      <th>ID</th>\n",
       "      <th>stores</th>\n",
       "      <th>X</th>\n",
       "      <th>Y</th>\n",
       "      <th>road_address</th>\n",
       "      <th>place_url</th>\n",
       "    </tr>\n",
       "  </thead>\n",
       "  <tbody>\n",
       "    <tr>\n",
       "      <th>0</th>\n",
       "      <td>934978608</td>\n",
       "      <td>놀소랑</td>\n",
       "      <td>126.622666</td>\n",
       "      <td>33.274512</td>\n",
       "      <td>제주특별자치도 서귀포시 남원읍 하례로 306</td>\n",
       "      <td>http://place.map.kakao.com/934978608</td>\n",
       "    </tr>\n",
       "    <tr>\n",
       "      <th>1</th>\n",
       "      <td>264131343</td>\n",
       "      <td>우리마을해픈살롱 내창</td>\n",
       "      <td>126.621333</td>\n",
       "      <td>33.281977</td>\n",
       "      <td>제주특별자치도 서귀포시 남원읍 하례로 393</td>\n",
       "      <td>http://place.map.kakao.com/264131343</td>\n",
       "    </tr>\n",
       "    <tr>\n",
       "      <th>2</th>\n",
       "      <td>718003524</td>\n",
       "      <td>하례로379</td>\n",
       "      <td>126.621836</td>\n",
       "      <td>33.280680</td>\n",
       "      <td>제주특별자치도 서귀포시 남원읍 하례로 379</td>\n",
       "      <td>http://place.map.kakao.com/718003524</td>\n",
       "    </tr>\n",
       "    <tr>\n",
       "      <th>3</th>\n",
       "      <td>895381140</td>\n",
       "      <td>카페내창</td>\n",
       "      <td>126.621333</td>\n",
       "      <td>33.281977</td>\n",
       "      <td>제주특별자치도 서귀포시 남원읍 하례로 393</td>\n",
       "      <td>http://place.map.kakao.com/895381140</td>\n",
       "    </tr>\n",
       "    <tr>\n",
       "      <th>4</th>\n",
       "      <td>2134223730</td>\n",
       "      <td>섬올리브정원</td>\n",
       "      <td>126.620442</td>\n",
       "      <td>33.297280</td>\n",
       "      <td>제주특별자치도 서귀포시 남원읍 신례로 386-49</td>\n",
       "      <td>http://place.map.kakao.com/2134223730</td>\n",
       "    </tr>\n",
       "    <tr>\n",
       "      <th>...</th>\n",
       "      <td>...</td>\n",
       "      <td>...</td>\n",
       "      <td>...</td>\n",
       "      <td>...</td>\n",
       "      <td>...</td>\n",
       "      <td>...</td>\n",
       "    </tr>\n",
       "    <tr>\n",
       "      <th>763</th>\n",
       "      <td>1766646437</td>\n",
       "      <td>잔디가미</td>\n",
       "      <td>126.964416</td>\n",
       "      <td>33.513533</td>\n",
       "      <td>제주특별자치도 제주시 우도면 우도해안길 912</td>\n",
       "      <td>http://place.map.kakao.com/1766646437</td>\n",
       "    </tr>\n",
       "    <tr>\n",
       "      <th>764</th>\n",
       "      <td>1734694391</td>\n",
       "      <td>우도예쁘다</td>\n",
       "      <td>126.965511</td>\n",
       "      <td>33.511344</td>\n",
       "      <td>제주특별자치도 제주시 우도면 우도해안길 940</td>\n",
       "      <td>http://place.map.kakao.com/1734694391</td>\n",
       "    </tr>\n",
       "    <tr>\n",
       "      <th>765</th>\n",
       "      <td>1082954673</td>\n",
       "      <td>나포리카페</td>\n",
       "      <td>126.968734</td>\n",
       "      <td>33.514818</td>\n",
       "      <td>제주특별자치도 제주시 우도면 안비양길 47-3</td>\n",
       "      <td>http://place.map.kakao.com/1082954673</td>\n",
       "    </tr>\n",
       "    <tr>\n",
       "      <th>766</th>\n",
       "      <td>1036297229</td>\n",
       "      <td>우도해녀922</td>\n",
       "      <td>126.964692</td>\n",
       "      <td>33.512829</td>\n",
       "      <td>제주특별자치도 제주시 우도면 우도해안길 922</td>\n",
       "      <td>http://place.map.kakao.com/1036297229</td>\n",
       "    </tr>\n",
       "    <tr>\n",
       "      <th>767</th>\n",
       "      <td>738625487</td>\n",
       "      <td>사랑가게 옹기종기</td>\n",
       "      <td>126.963737</td>\n",
       "      <td>33.510651</td>\n",
       "      <td>제주특별자치도 제주시 우도면 우도비양길 101</td>\n",
       "      <td>http://place.map.kakao.com/738625487</td>\n",
       "    </tr>\n",
       "  </tbody>\n",
       "</table>\n",
       "<p>768 rows × 6 columns</p>\n",
       "</div>"
      ],
      "text/plain": [
       "             ID  ...                              place_url\n",
       "0     934978608  ...   http://place.map.kakao.com/934978608\n",
       "1     264131343  ...   http://place.map.kakao.com/264131343\n",
       "2     718003524  ...   http://place.map.kakao.com/718003524\n",
       "3     895381140  ...   http://place.map.kakao.com/895381140\n",
       "4    2134223730  ...  http://place.map.kakao.com/2134223730\n",
       "..          ...  ...                                    ...\n",
       "763  1766646437  ...  http://place.map.kakao.com/1766646437\n",
       "764  1734694391  ...  http://place.map.kakao.com/1734694391\n",
       "765  1082954673  ...  http://place.map.kakao.com/1082954673\n",
       "766  1036297229  ...  http://place.map.kakao.com/1036297229\n",
       "767   738625487  ...   http://place.map.kakao.com/738625487\n",
       "\n",
       "[768 rows x 6 columns]"
      ]
     },
     "execution_count": 93,
     "metadata": {
      "tags": []
     },
     "output_type": "execute_result"
    }
   ],
   "source": [
    "df_rest_com"
   ]
  },
  {
   "cell_type": "code",
   "execution_count": 95,
   "metadata": {
    "executionInfo": {
     "elapsed": 260,
     "status": "ok",
     "timestamp": 1628662887126,
     "user": {
      "displayName": "Jinyou Kim",
      "photoUrl": "",
      "userId": "13762645804023943081"
     },
     "user_tz": -540
    },
    "id": "OJgPCtpz3jeH"
   },
   "outputs": [],
   "source": [
    "df_rest_com.to_csv(path+'제주카페나머지.csv')"
   ]
  },
  {
   "cell_type": "code",
   "execution_count": null,
   "metadata": {
    "id": "wPKxFGaf30oZ"
   },
   "outputs": [],
   "source": []
  }
 ],
 "metadata": {
  "colab": {
   "name": "카페식당합치기.ipynb",
   "provenance": []
  },
  "kernelspec": {
   "display_name": "Python 3 (ipykernel)",
   "language": "python",
   "name": "python3"
  },
  "language_info": {
   "codemirror_mode": {
    "name": "ipython",
    "version": 3
   },
   "file_extension": ".py",
   "mimetype": "text/x-python",
   "name": "python",
   "nbconvert_exporter": "python",
   "pygments_lexer": "ipython3",
   "version": "3.8.10"
  }
 },
 "nbformat": 4,
 "nbformat_minor": 1
}
