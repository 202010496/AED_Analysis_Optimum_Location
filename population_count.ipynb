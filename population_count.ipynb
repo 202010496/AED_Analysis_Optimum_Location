{
 "cells": [
  {
   "cell_type": "code",
   "execution_count": null,
   "metadata": {
    "id": "UVYSqX9UT1PB"
   },
   "outputs": [],
   "source": [
    "import pandas as pd"
   ]
  },
  {
   "cell_type": "code",
   "execution_count": null,
   "metadata": {
    "id": "sb0DUKPlUY9p"
   },
   "outputs": [],
   "source": [
    "path = '\\\\people'"
   ]
  },
  {
   "cell_type": "code",
   "execution_count": null,
   "metadata": {
    "id": "boaJ3_NYUN9k"
   },
   "outputs": [],
   "source": [
    "data2018 = pd.read_csv(path + '[2018.07] 제주도 버스 유동인구 데이터.csv', encoding='cp949')\n",
    "data2020 = pd.read_csv(path + '[2020.4] 제주도 버스 유동인구 데이터.csv', encoding='cp949')"
   ]
  },
  {
   "cell_type": "code",
   "execution_count": null,
   "metadata": {
    "colab": {
     "base_uri": "https://localhost:8080/",
     "height": 302
    },
    "executionInfo": {
     "elapsed": 256,
     "status": "ok",
     "timestamp": 1627965837565,
     "user": {
      "displayName": "Jinyou Kim",
      "photoUrl": "",
      "userId": "13762645804023943081"
     },
     "user_tz": -540
    },
    "id": "71BeBbGvUj-G",
    "outputId": "70af1234-fc9d-4ef0-ae23-f6478c6736c5"
   },
   "outputs": [
    {
     "data": {
      "text/html": [
       "<div>\n",
       "<style scoped>\n",
       "    .dataframe tbody tr th:only-of-type {\n",
       "        vertical-align: middle;\n",
       "    }\n",
       "\n",
       "    .dataframe tbody tr th {\n",
       "        vertical-align: top;\n",
       "    }\n",
       "\n",
       "    .dataframe thead th {\n",
       "        text-align: right;\n",
       "    }\n",
       "</style>\n",
       "<table border=\"1\" class=\"dataframe\">\n",
       "  <thead>\n",
       "    <tr style=\"text-align: right;\">\n",
       "      <th></th>\n",
       "      <th>일자</th>\n",
       "      <th>버스 노선명</th>\n",
       "      <th>정류소 아이디</th>\n",
       "      <th>정류소명</th>\n",
       "      <th>이용자 수</th>\n",
       "      <th>시도명</th>\n",
       "      <th>읍면동명</th>\n",
       "      <th>거주인구</th>\n",
       "      <th>근무인구</th>\n",
       "      <th>방문인구</th>\n",
       "      <th>데이터기준일자</th>\n",
       "    </tr>\n",
       "  </thead>\n",
       "  <tbody>\n",
       "    <tr>\n",
       "      <th>0</th>\n",
       "      <td>2018-07-01</td>\n",
       "      <td>101-1(제주국제공항(일주동로,516도로)~서귀포버스터미널)</td>\n",
       "      <td>149</td>\n",
       "      <td>시외버스터미널</td>\n",
       "      <td>72</td>\n",
       "      <td>제주시</td>\n",
       "      <td>아라동</td>\n",
       "      <td>856661.464</td>\n",
       "      <td>48914.989</td>\n",
       "      <td>238498.657</td>\n",
       "      <td>2020-12-15</td>\n",
       "    </tr>\n",
       "    <tr>\n",
       "      <th>1</th>\n",
       "      <td>2018-07-01</td>\n",
       "      <td>415-1(한라수목원~국제여객선터미널)</td>\n",
       "      <td>285</td>\n",
       "      <td>시민회관</td>\n",
       "      <td>35</td>\n",
       "      <td>제주시</td>\n",
       "      <td>이도1동</td>\n",
       "      <td>164947.008</td>\n",
       "      <td>19239.512</td>\n",
       "      <td>154885.934</td>\n",
       "      <td>2020-12-15</td>\n",
       "    </tr>\n",
       "    <tr>\n",
       "      <th>2</th>\n",
       "      <td>2018-07-01</td>\n",
       "      <td>415-1(한라수목원~국제여객선터미널)</td>\n",
       "      <td>319</td>\n",
       "      <td>연동주민센터</td>\n",
       "      <td>25</td>\n",
       "      <td>제주시</td>\n",
       "      <td>연동</td>\n",
       "      <td>1078693.158</td>\n",
       "      <td>89117.158</td>\n",
       "      <td>413533.999</td>\n",
       "      <td>2020-12-15</td>\n",
       "    </tr>\n",
       "    <tr>\n",
       "      <th>3</th>\n",
       "      <td>2018-07-01</td>\n",
       "      <td>415-1(한라수목원~국제여객선터미널)</td>\n",
       "      <td>320</td>\n",
       "      <td>신제주로터리</td>\n",
       "      <td>53</td>\n",
       "      <td>제주시</td>\n",
       "      <td>연동</td>\n",
       "      <td>1078693.158</td>\n",
       "      <td>89117.158</td>\n",
       "      <td>413533.999</td>\n",
       "      <td>2020-12-15</td>\n",
       "    </tr>\n",
       "    <tr>\n",
       "      <th>4</th>\n",
       "      <td>2018-07-01</td>\n",
       "      <td>415-1(한라수목원~국제여객선터미널)</td>\n",
       "      <td>358</td>\n",
       "      <td>한라병원</td>\n",
       "      <td>65</td>\n",
       "      <td>제주시</td>\n",
       "      <td>연동</td>\n",
       "      <td>1078693.158</td>\n",
       "      <td>89117.158</td>\n",
       "      <td>413533.999</td>\n",
       "      <td>2020-12-15</td>\n",
       "    </tr>\n",
       "  </tbody>\n",
       "</table>\n",
       "</div>"
      ],
      "text/plain": [
       "           일자                              버스 노선명  ...        방문인구     데이터기준일자\n",
       "0  2018-07-01  101-1(제주국제공항(일주동로,516도로)~서귀포버스터미널)  ...  238498.657  2020-12-15\n",
       "1  2018-07-01               415-1(한라수목원~국제여객선터미널)  ...  154885.934  2020-12-15\n",
       "2  2018-07-01               415-1(한라수목원~국제여객선터미널)  ...  413533.999  2020-12-15\n",
       "3  2018-07-01               415-1(한라수목원~국제여객선터미널)  ...  413533.999  2020-12-15\n",
       "4  2018-07-01               415-1(한라수목원~국제여객선터미널)  ...  413533.999  2020-12-15\n",
       "\n",
       "[5 rows x 11 columns]"
      ]
     },
     "execution_count": 10,
     "metadata": {
      "tags": []
     },
     "output_type": "execute_result"
    }
   ],
   "source": [
    "data2018.head()"
   ]
  },
  {
   "cell_type": "code",
   "execution_count": null,
   "metadata": {
    "colab": {
     "base_uri": "https://localhost:8080/",
     "height": 414
    },
    "executionInfo": {
     "elapsed": 238,
     "status": "ok",
     "timestamp": 1627965921304,
     "user": {
      "displayName": "Jinyou Kim",
      "photoUrl": "",
      "userId": "13762645804023943081"
     },
     "user_tz": -540
    },
    "id": "j64rbAdmU06J",
    "outputId": "64d50cf0-30ca-43a0-f52f-1018b749e502"
   },
   "outputs": [
    {
     "data": {
      "text/html": [
       "<div>\n",
       "<style scoped>\n",
       "    .dataframe tbody tr th:only-of-type {\n",
       "        vertical-align: middle;\n",
       "    }\n",
       "\n",
       "    .dataframe tbody tr th {\n",
       "        vertical-align: top;\n",
       "    }\n",
       "\n",
       "    .dataframe thead th {\n",
       "        text-align: right;\n",
       "    }\n",
       "</style>\n",
       "<table border=\"1\" class=\"dataframe\">\n",
       "  <thead>\n",
       "    <tr style=\"text-align: right;\">\n",
       "      <th></th>\n",
       "      <th>일자</th>\n",
       "      <th>읍면동명</th>\n",
       "      <th>거주인구</th>\n",
       "      <th>근무인구</th>\n",
       "      <th>방문인구</th>\n",
       "    </tr>\n",
       "  </thead>\n",
       "  <tbody>\n",
       "    <tr>\n",
       "      <th>0</th>\n",
       "      <td>2018-07-01</td>\n",
       "      <td>아라동</td>\n",
       "      <td>856661.464</td>\n",
       "      <td>48914.989</td>\n",
       "      <td>238498.657</td>\n",
       "    </tr>\n",
       "    <tr>\n",
       "      <th>1</th>\n",
       "      <td>2018-07-01</td>\n",
       "      <td>이도1동</td>\n",
       "      <td>164947.008</td>\n",
       "      <td>19239.512</td>\n",
       "      <td>154885.934</td>\n",
       "    </tr>\n",
       "    <tr>\n",
       "      <th>2</th>\n",
       "      <td>2018-07-01</td>\n",
       "      <td>연동</td>\n",
       "      <td>1078693.158</td>\n",
       "      <td>89117.158</td>\n",
       "      <td>413533.999</td>\n",
       "    </tr>\n",
       "    <tr>\n",
       "      <th>3</th>\n",
       "      <td>2018-07-01</td>\n",
       "      <td>연동</td>\n",
       "      <td>1078693.158</td>\n",
       "      <td>89117.158</td>\n",
       "      <td>413533.999</td>\n",
       "    </tr>\n",
       "    <tr>\n",
       "      <th>4</th>\n",
       "      <td>2018-07-01</td>\n",
       "      <td>연동</td>\n",
       "      <td>1078693.158</td>\n",
       "      <td>89117.158</td>\n",
       "      <td>413533.999</td>\n",
       "    </tr>\n",
       "    <tr>\n",
       "      <th>...</th>\n",
       "      <td>...</td>\n",
       "      <td>...</td>\n",
       "      <td>...</td>\n",
       "      <td>...</td>\n",
       "      <td>...</td>\n",
       "    </tr>\n",
       "    <tr>\n",
       "      <th>1427584</th>\n",
       "      <td>2018-12-31</td>\n",
       "      <td>천지동</td>\n",
       "      <td>14981.697</td>\n",
       "      <td>2243.991</td>\n",
       "      <td>48350.739</td>\n",
       "    </tr>\n",
       "    <tr>\n",
       "      <th>1427585</th>\n",
       "      <td>2018-12-31</td>\n",
       "      <td>천지동</td>\n",
       "      <td>14981.697</td>\n",
       "      <td>2243.991</td>\n",
       "      <td>48350.739</td>\n",
       "    </tr>\n",
       "    <tr>\n",
       "      <th>1427586</th>\n",
       "      <td>2018-12-31</td>\n",
       "      <td>천지동</td>\n",
       "      <td>14981.697</td>\n",
       "      <td>2243.991</td>\n",
       "      <td>48350.739</td>\n",
       "    </tr>\n",
       "    <tr>\n",
       "      <th>1427587</th>\n",
       "      <td>2018-12-31</td>\n",
       "      <td>천지동</td>\n",
       "      <td>14981.697</td>\n",
       "      <td>2243.991</td>\n",
       "      <td>48350.739</td>\n",
       "    </tr>\n",
       "    <tr>\n",
       "      <th>1427588</th>\n",
       "      <td>2018-12-31</td>\n",
       "      <td>대륜동</td>\n",
       "      <td>287609.542</td>\n",
       "      <td>24669.053</td>\n",
       "      <td>221057.964</td>\n",
       "    </tr>\n",
       "  </tbody>\n",
       "</table>\n",
       "<p>1427589 rows × 5 columns</p>\n",
       "</div>"
      ],
      "text/plain": [
       "                 일자  읍면동명         거주인구       근무인구        방문인구\n",
       "0        2018-07-01   아라동   856661.464  48914.989  238498.657\n",
       "1        2018-07-01  이도1동   164947.008  19239.512  154885.934\n",
       "2        2018-07-01    연동  1078693.158  89117.158  413533.999\n",
       "3        2018-07-01    연동  1078693.158  89117.158  413533.999\n",
       "4        2018-07-01    연동  1078693.158  89117.158  413533.999\n",
       "...             ...   ...          ...        ...         ...\n",
       "1427584  2018-12-31   천지동    14981.697   2243.991   48350.739\n",
       "1427585  2018-12-31   천지동    14981.697   2243.991   48350.739\n",
       "1427586  2018-12-31   천지동    14981.697   2243.991   48350.739\n",
       "1427587  2018-12-31   천지동    14981.697   2243.991   48350.739\n",
       "1427588  2018-12-31   대륜동   287609.542  24669.053  221057.964\n",
       "\n",
       "[1427589 rows x 5 columns]"
      ]
     },
     "execution_count": 11,
     "metadata": {
      "tags": []
     },
     "output_type": "execute_result"
    }
   ],
   "source": [
    "data2018.loc[:, ['일자', '읍면동명', '거주인구', '근무인구', '방문인구']]"
   ]
  },
  {
   "cell_type": "code",
   "execution_count": null,
   "metadata": {
    "colab": {
     "base_uri": "https://localhost:8080/"
    },
    "executionInfo": {
     "elapsed": 227,
     "status": "ok",
     "timestamp": 1627966136853,
     "user": {
      "displayName": "Jinyou Kim",
      "photoUrl": "",
      "userId": "13762645804023943081"
     },
     "user_tz": -540
    },
    "id": "gUBTd_JxVJW2",
    "outputId": "63c38371-b87f-4991-f1ea-bb165266ac85"
   },
   "outputs": [
    {
     "name": "stderr",
     "output_type": "stream",
     "text": [
      "/usr/local/lib/python3.7/dist-packages/ipykernel_launcher.py:1: FutureWarning: Indexing with multiple keys (implicitly converted to a tuple of keys) will be deprecated, use a list instead.\n",
      "  \"\"\"Entry point for launching an IPython kernel.\n"
     ]
    }
   ],
   "source": [
    "df = pd.DataFrame(data2018.groupby(['읍면동명'])['거주인구', '근무인구', '방문인구'].mean())"
   ]
  },
  {
   "cell_type": "code",
   "execution_count": null,
   "metadata": {
    "id": "alK1jjmQVfQ_"
   },
   "outputs": [],
   "source": [
    "df.reset_index(inplace=True)"
   ]
  },
  {
   "cell_type": "code",
   "execution_count": null,
   "metadata": {
    "id": "G0D3bPeDVjvp"
   },
   "outputs": [],
   "source": [
    "a = ['거주인구', '근무인구', '방문인구']\n",
    "for i in a:\n",
    "  df[a] = df[a].astype(int)"
   ]
  },
  {
   "cell_type": "code",
   "execution_count": null,
   "metadata": {
    "id": "wYztEiQRWJ9T"
   },
   "outputs": [],
   "source": [
    "df.to_csv(path + '2018년 제주도 거주근무방문인구.csv', index=False)"
   ]
  },
  {
   "cell_type": "code",
   "execution_count": null,
   "metadata": {
    "colab": {
     "base_uri": "https://localhost:8080/"
    },
    "executionInfo": {
     "elapsed": 234,
     "status": "ok",
     "timestamp": 1627966269606,
     "user": {
      "displayName": "Jinyou Kim",
      "photoUrl": "",
      "userId": "13762645804023943081"
     },
     "user_tz": -540
    },
    "id": "EXWA_6k9WVSn",
    "outputId": "a066913d-bc94-4911-85e2-7e89850c6aa7"
   },
   "outputs": [
    {
     "name": "stderr",
     "output_type": "stream",
     "text": [
      "/usr/local/lib/python3.7/dist-packages/ipykernel_launcher.py:1: FutureWarning: Indexing with multiple keys (implicitly converted to a tuple of keys) will be deprecated, use a list instead.\n",
      "  \"\"\"Entry point for launching an IPython kernel.\n"
     ]
    }
   ],
   "source": [
    "df2 = pd.DataFrame(data2020.groupby(['읍면동명'])['거주인구', '근무인구', '방문인구'].mean())"
   ]
  },
  {
   "cell_type": "code",
   "execution_count": null,
   "metadata": {
    "id": "nJ2OOYNOWeY_"
   },
   "outputs": [],
   "source": [
    "df2.reset_index(inplace=True)"
   ]
  },
  {
   "cell_type": "code",
   "execution_count": null,
   "metadata": {
    "id": "YIq0p-3rWf2D"
   },
   "outputs": [],
   "source": [
    "a = ['거주인구', '근무인구', '방문인구']\n",
    "for i in a:\n",
    "  df2[a] = df2[a].astype(int)"
   ]
  },
  {
   "cell_type": "code",
   "execution_count": null,
   "metadata": {
    "id": "rmeJE3foWg3L"
   },
   "outputs": [],
   "source": [
    "df2.to_csv(path + '2020년 제주도 거주근무방문인구.csv', index=False)"
   ]
  },
  {
   "cell_type": "code",
   "execution_count": null,
   "metadata": {
    "id": "BfbKetvNWlYs"
   },
   "outputs": [],
   "source": []
  }
 ],
 "metadata": {
  "colab": {
   "name": "인구데이터 추출.ipynb",
   "provenance": []
  },
  "kernelspec": {
   "display_name": "Python 3 (ipykernel)",
   "language": "python",
   "name": "python3"
  },
  "language_info": {
   "codemirror_mode": {
    "name": "ipython",
    "version": 3
   },
   "file_extension": ".py",
   "mimetype": "text/x-python",
   "name": "python",
   "nbconvert_exporter": "python",
   "pygments_lexer": "ipython3",
   "version": "3.8.10"
  }
 },
 "nbformat": 4,
 "nbformat_minor": 1
}
