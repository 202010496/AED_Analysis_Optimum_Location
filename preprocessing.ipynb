{
 "cells": [
  {
   "cell_type": "code",
   "execution_count": null,
   "metadata": {
    "colab": {
     "base_uri": "https://localhost:8080/"
    },
    "executionInfo": {
     "elapsed": 16210,
     "status": "ok",
     "timestamp": 1628489080056,
     "user": {
      "displayName": "Jinyou Kim",
      "photoUrl": "",
      "userId": "13762645804023943081"
     },
     "user_tz": -540
    },
    "id": "6PCTXO7GfLtD",
    "outputId": "ec50fa96-43f5-497f-fcbd-d45410714fa0"
   },
   "outputs": [
    {
     "name": "stdout",
     "output_type": "stream",
     "text": [
      "Mounted at /content/drive\n"
     ]
    }
   ],
   "source": [
    "from google.colab import drive\n",
    "drive.mount('\\\\')"
   ]
  },
  {
   "cell_type": "code",
   "execution_count": null,
   "metadata": {
    "colab": {
     "base_uri": "https://localhost:8080/"
    },
    "executionInfo": {
     "elapsed": 10349,
     "status": "ok",
     "timestamp": 1628489091760,
     "user": {
      "displayName": "Jinyou Kim",
      "photoUrl": "",
      "userId": "13762645804023943081"
     },
     "user_tz": -540
    },
    "id": "t_wCZpZhmc5S",
    "outputId": "fda35258-5e33-4f54-dca1-6b0e2545abc7"
   },
   "outputs": [
    {
     "name": "stdout",
     "output_type": "stream",
     "text": [
      "Reading package lists... Done\n",
      "Building dependency tree       \n",
      "Reading state information... Done\n",
      "The following NEW packages will be installed:\n",
      "  fonts-nanum\n",
      "0 upgraded, 1 newly installed, 0 to remove and 40 not upgraded.\n",
      "Need to get 9,604 kB of archives.\n",
      "After this operation, 29.5 MB of additional disk space will be used.\n",
      "Get:1 http://archive.ubuntu.com/ubuntu bionic/universe amd64 fonts-nanum all 20170925-1 [9,604 kB]\n",
      "Fetched 9,604 kB in 2s (5,572 kB/s)\n",
      "debconf: unable to initialize frontend: Dialog\n",
      "debconf: (No usable dialog-like program is installed, so the dialog based frontend cannot be used. at /usr/share/perl5/Debconf/FrontEnd/Dialog.pm line 76, <> line 1.)\n",
      "debconf: falling back to frontend: Readline\n",
      "debconf: unable to initialize frontend: Readline\n",
      "debconf: (This frontend requires a controlling tty.)\n",
      "debconf: falling back to frontend: Teletype\n",
      "dpkg-preconfigure: unable to re-open stdin: \n",
      "Selecting previously unselected package fonts-nanum.\n",
      "(Reading database ... 160837 files and directories currently installed.)\n",
      "Preparing to unpack .../fonts-nanum_20170925-1_all.deb ...\n",
      "Unpacking fonts-nanum (20170925-1) ...\n",
      "Setting up fonts-nanum (20170925-1) ...\n",
      "Processing triggers for fontconfig (2.12.6-0ubuntu2) ...\n",
      "/usr/share/fonts: caching, new cache contents: 0 fonts, 1 dirs\n",
      "/usr/share/fonts/truetype: caching, new cache contents: 0 fonts, 3 dirs\n",
      "/usr/share/fonts/truetype/humor-sans: caching, new cache contents: 1 fonts, 0 dirs\n",
      "/usr/share/fonts/truetype/liberation: caching, new cache contents: 16 fonts, 0 dirs\n",
      "/usr/share/fonts/truetype/nanum: caching, new cache contents: 10 fonts, 0 dirs\n",
      "/usr/local/share/fonts: caching, new cache contents: 0 fonts, 0 dirs\n",
      "/root/.local/share/fonts: skipping, no such directory\n",
      "/root/.fonts: skipping, no such directory\n",
      "/var/cache/fontconfig: cleaning cache directory\n",
      "/root/.cache/fontconfig: not cleaning non-existent cache directory\n",
      "/root/.fontconfig: not cleaning non-existent cache directory\n",
      "fc-cache: succeeded\n"
     ]
    }
   ],
   "source": [
    "!sudo apt-get install -y fonts-nanum\n",
    "!sudo fc-cache -fv\n",
    "!rm ~/.cache/matplotlib -rf"
   ]
  },
  {
   "cell_type": "code",
   "execution_count": null,
   "metadata": {
    "colab": {
     "base_uri": "https://localhost:8080/"
    },
    "executionInfo": {
     "elapsed": 1920,
     "status": "ok",
     "timestamp": 1628489093678,
     "user": {
      "displayName": "Jinyou Kim",
      "photoUrl": "",
      "userId": "13762645804023943081"
     },
     "user_tz": -540
    },
    "id": "qvMz6piNmvkc",
    "outputId": "d769e4b9-9da9-4dd4-d1d7-e8366fda3f02"
   },
   "outputs": [
    {
     "name": "stderr",
     "output_type": "stream",
     "text": [
      "/usr/local/lib/python3.7/dist-packages/statsmodels/tools/_testing.py:19: FutureWarning: pandas.util.testing is deprecated. Use the functions in the public API at pandas.testing instead.\n",
      "  import pandas.util.testing as tm\n"
     ]
    }
   ],
   "source": [
    "import pandas as pd\n",
    "import numpy as np\n",
    "import matplotlib.pyplot as plt\n",
    "plt.rc('font', family='NanumBarunGothic')\n",
    "from sklearn.ensemble import RandomForestRegressor\n",
    "from sklearn.tree import DecisionTreeClassifier, DecisionTreeRegressor\n",
    "from sklearn.preprocessing import OneHotEncoder, MinMaxScaler, RobustScaler, Normalizer, StandardScaler\n",
    "from sklearn.model_selection import cross_validate, KFold, train_test_split, cross_val_score\n",
    "from sklearn.decomposition import PCA\n",
    "from sklearn.metrics import mean_squared_error\n",
    "from sklearn.cluster import KMeans, SpectralClustering\n",
    "from patsy import dmatrices\n",
    "import statsmodels.api as sm\n",
    "from statsmodels.stats.outliers_influence import variance_inflation_factor\n",
    "from tqdm import tqdm"
   ]
  },
  {
   "cell_type": "code",
   "execution_count": null,
   "metadata": {
    "id": "WzHwJFaVm2ma"
   },
   "outputs": [],
   "source": [
    "path = '수요예측\\\\'"
   ]
  },
  {
   "cell_type": "code",
   "execution_count": null,
   "metadata": {
    "id": "hFcgkn34m_GV"
   },
   "outputs": [],
   "source": [
    "file1 = pd.read_csv(path + '제주도_시간대별_그리드_유동인구_비율포함_20150131.csv', encoding='cp949')\n",
    "file2 = pd.read_csv(path + '제주도_시간대별_그리드_유동인구_비율포함_20151031.csv', encoding='cp949')\n",
    "gyukja = pd.read_csv(path + '250m격자기준좌표.csv', encoding='cp949')"
   ]
  },
  {
   "cell_type": "code",
   "execution_count": null,
   "metadata": {
    "colab": {
     "base_uri": "https://localhost:8080/",
     "height": 372
    },
    "executionInfo": {
     "elapsed": 7,
     "status": "ok",
     "timestamp": 1628489097654,
     "user": {
      "displayName": "Jinyou Kim",
      "photoUrl": "",
      "userId": "13762645804023943081"
     },
     "user_tz": -540
    },
    "id": "0YRbJkaRt5iY",
    "outputId": "efd32e41-0aaf-4581-a9b2-12d156d63bc7"
   },
   "outputs": [
    {
     "data": {
      "text/html": [
       "<div>\n",
       "<style scoped>\n",
       "    .dataframe tbody tr th:only-of-type {\n",
       "        vertical-align: middle;\n",
       "    }\n",
       "\n",
       "    .dataframe tbody tr th {\n",
       "        vertical-align: top;\n",
       "    }\n",
       "\n",
       "    .dataframe thead th {\n",
       "        text-align: right;\n",
       "    }\n",
       "</style>\n",
       "<table border=\"1\" class=\"dataframe\">\n",
       "  <thead>\n",
       "    <tr style=\"text-align: right;\">\n",
       "      <th></th>\n",
       "      <th>기준년월</th>\n",
       "      <th>격자 좌표(250m)</th>\n",
       "      <th>00시~01시 유동인구</th>\n",
       "      <th>01시~02시 유동인구</th>\n",
       "      <th>02시~03시 유동인구</th>\n",
       "      <th>03시~04시 유동인구</th>\n",
       "      <th>04시~05시 유동인구</th>\n",
       "      <th>05시~06시 유동인구</th>\n",
       "      <th>06시~07시 유동인구</th>\n",
       "      <th>07시~08시 유동인구</th>\n",
       "      <th>08시~09시 유동인구</th>\n",
       "      <th>09시~10시 유동인구</th>\n",
       "      <th>10시~11시 유동인구</th>\n",
       "      <th>11시~12시 유동인구</th>\n",
       "      <th>12시~13시 유동인구</th>\n",
       "      <th>13시~14시 유동인구</th>\n",
       "      <th>14시~15시 유동인구</th>\n",
       "      <th>15시~16시 유동인구</th>\n",
       "      <th>16시~17시 유동인구</th>\n",
       "      <th>17시~18시 유동인구</th>\n",
       "      <th>18시~19시 유동인구</th>\n",
       "      <th>19시~20시 유동인구</th>\n",
       "      <th>20시~21시 유동인구</th>\n",
       "      <th>21시~22시 유동인구</th>\n",
       "      <th>22시~23시 유동인구</th>\n",
       "      <th>23시~00시 유동인구</th>\n",
       "      <th>00시~01시 유동인구 비율</th>\n",
       "      <th>01시~02시 유동인구 비율</th>\n",
       "      <th>02시~03시 유동인구 비율</th>\n",
       "      <th>03시~04시 유동인구 비율</th>\n",
       "      <th>04시~05시 유동인구 비율</th>\n",
       "      <th>05시~06시 유동인구 비율</th>\n",
       "      <th>06시~07시 유동인구 비율</th>\n",
       "      <th>07시~08시 유동인구 비율</th>\n",
       "      <th>08시~09시 유동인구 비율</th>\n",
       "      <th>09시~10시 유동인구 비율</th>\n",
       "      <th>10시~11시 유동인구 비율</th>\n",
       "      <th>11시~12시 유동인구 비율</th>\n",
       "      <th>12시~13시 유동인구 비율</th>\n",
       "      <th>13시~14시 유동인구 비율</th>\n",
       "      <th>14시~15시 유동인구 비율</th>\n",
       "      <th>15시~16시 유동인구 비율</th>\n",
       "      <th>16시~17시 유동인구 비율</th>\n",
       "      <th>17시~18시 유동인구 비율</th>\n",
       "      <th>18시~19시 유동인구 비율</th>\n",
       "      <th>19시~20시 유동인구 비율</th>\n",
       "      <th>20시~21시 유동인구 비율</th>\n",
       "      <th>21시~22시 유동인구 비율</th>\n",
       "      <th>22시~23시 유동인구 비율</th>\n",
       "      <th>23시~00시 유동인구 비율</th>\n",
       "      <th>데이터기준일자</th>\n",
       "    </tr>\n",
       "  </thead>\n",
       "  <tbody>\n",
       "    <tr>\n",
       "      <th>0</th>\n",
       "      <td>2015-01</td>\n",
       "      <td>다다06B00C</td>\n",
       "      <td>194.497419</td>\n",
       "      <td>143.757097</td>\n",
       "      <td>114.303226</td>\n",
       "      <td>86.920645</td>\n",
       "      <td>74.153226</td>\n",
       "      <td>87.136452</td>\n",
       "      <td>130.974194</td>\n",
       "      <td>275.309355</td>\n",
       "      <td>508.254193</td>\n",
       "      <td>779.134516</td>\n",
       "      <td>921.126452</td>\n",
       "      <td>981.390645</td>\n",
       "      <td>967.112903</td>\n",
       "      <td>1005.580000</td>\n",
       "      <td>1003.061613</td>\n",
       "      <td>965.913548</td>\n",
       "      <td>995.931290</td>\n",
       "      <td>1077.305484</td>\n",
       "      <td>1082.694839</td>\n",
       "      <td>854.884839</td>\n",
       "      <td>716.236452</td>\n",
       "      <td>597.364839</td>\n",
       "      <td>388.944516</td>\n",
       "      <td>262.644839</td>\n",
       "      <td>0.005562</td>\n",
       "      <td>0.005618</td>\n",
       "      <td>0.005438</td>\n",
       "      <td>0.005234</td>\n",
       "      <td>0.004642</td>\n",
       "      <td>0.004534</td>\n",
       "      <td>0.004367</td>\n",
       "      <td>0.004781</td>\n",
       "      <td>0.005208</td>\n",
       "      <td>0.005522</td>\n",
       "      <td>0.005543</td>\n",
       "      <td>0.005510</td>\n",
       "      <td>0.005436</td>\n",
       "      <td>0.005651</td>\n",
       "      <td>0.005702</td>\n",
       "      <td>0.005443</td>\n",
       "      <td>0.005449</td>\n",
       "      <td>0.005437</td>\n",
       "      <td>0.005598</td>\n",
       "      <td>0.005784</td>\n",
       "      <td>0.005950</td>\n",
       "      <td>0.005945</td>\n",
       "      <td>0.005597</td>\n",
       "      <td>0.005527</td>\n",
       "      <td>2015-01-31</td>\n",
       "    </tr>\n",
       "    <tr>\n",
       "      <th>1</th>\n",
       "      <td>2015-01</td>\n",
       "      <td>다다06C00C</td>\n",
       "      <td>39.689032</td>\n",
       "      <td>29.149677</td>\n",
       "      <td>23.965161</td>\n",
       "      <td>17.630000</td>\n",
       "      <td>14.946452</td>\n",
       "      <td>15.857742</td>\n",
       "      <td>22.868710</td>\n",
       "      <td>46.638065</td>\n",
       "      <td>82.478065</td>\n",
       "      <td>128.218387</td>\n",
       "      <td>153.713871</td>\n",
       "      <td>163.090323</td>\n",
       "      <td>159.608387</td>\n",
       "      <td>163.152581</td>\n",
       "      <td>164.109032</td>\n",
       "      <td>162.646129</td>\n",
       "      <td>168.309032</td>\n",
       "      <td>183.426774</td>\n",
       "      <td>192.222581</td>\n",
       "      <td>152.804839</td>\n",
       "      <td>125.014839</td>\n",
       "      <td>105.290645</td>\n",
       "      <td>74.902903</td>\n",
       "      <td>52.049032</td>\n",
       "      <td>0.001135</td>\n",
       "      <td>0.001139</td>\n",
       "      <td>0.001140</td>\n",
       "      <td>0.001062</td>\n",
       "      <td>0.000936</td>\n",
       "      <td>0.000825</td>\n",
       "      <td>0.000762</td>\n",
       "      <td>0.000810</td>\n",
       "      <td>0.000845</td>\n",
       "      <td>0.000909</td>\n",
       "      <td>0.000925</td>\n",
       "      <td>0.000916</td>\n",
       "      <td>0.000897</td>\n",
       "      <td>0.000917</td>\n",
       "      <td>0.000933</td>\n",
       "      <td>0.000917</td>\n",
       "      <td>0.000921</td>\n",
       "      <td>0.000926</td>\n",
       "      <td>0.000994</td>\n",
       "      <td>0.001034</td>\n",
       "      <td>0.001039</td>\n",
       "      <td>0.001048</td>\n",
       "      <td>0.001078</td>\n",
       "      <td>0.001095</td>\n",
       "      <td>2015-01-31</td>\n",
       "    </tr>\n",
       "    <tr>\n",
       "      <th>2</th>\n",
       "      <td>2015-01</td>\n",
       "      <td>다나05B99A</td>\n",
       "      <td>30.085484</td>\n",
       "      <td>21.446452</td>\n",
       "      <td>17.081290</td>\n",
       "      <td>11.660323</td>\n",
       "      <td>10.721290</td>\n",
       "      <td>12.789355</td>\n",
       "      <td>20.000323</td>\n",
       "      <td>41.938065</td>\n",
       "      <td>74.014516</td>\n",
       "      <td>116.520000</td>\n",
       "      <td>143.129355</td>\n",
       "      <td>158.845161</td>\n",
       "      <td>162.468064</td>\n",
       "      <td>163.439677</td>\n",
       "      <td>163.104194</td>\n",
       "      <td>167.342581</td>\n",
       "      <td>172.635161</td>\n",
       "      <td>186.688064</td>\n",
       "      <td>193.322258</td>\n",
       "      <td>148.124516</td>\n",
       "      <td>119.253548</td>\n",
       "      <td>101.770968</td>\n",
       "      <td>69.487419</td>\n",
       "      <td>44.452258</td>\n",
       "      <td>0.000860</td>\n",
       "      <td>0.000838</td>\n",
       "      <td>0.000813</td>\n",
       "      <td>0.000702</td>\n",
       "      <td>0.000671</td>\n",
       "      <td>0.000666</td>\n",
       "      <td>0.000667</td>\n",
       "      <td>0.000728</td>\n",
       "      <td>0.000758</td>\n",
       "      <td>0.000826</td>\n",
       "      <td>0.000861</td>\n",
       "      <td>0.000892</td>\n",
       "      <td>0.000913</td>\n",
       "      <td>0.000918</td>\n",
       "      <td>0.000927</td>\n",
       "      <td>0.000943</td>\n",
       "      <td>0.000945</td>\n",
       "      <td>0.000942</td>\n",
       "      <td>0.000999</td>\n",
       "      <td>0.001002</td>\n",
       "      <td>0.000991</td>\n",
       "      <td>0.001013</td>\n",
       "      <td>0.001000</td>\n",
       "      <td>0.000936</td>\n",
       "      <td>2015-01-31</td>\n",
       "    </tr>\n",
       "    <tr>\n",
       "      <th>3</th>\n",
       "      <td>2015-01</td>\n",
       "      <td>다다05B00C</td>\n",
       "      <td>153.049032</td>\n",
       "      <td>111.151290</td>\n",
       "      <td>90.284194</td>\n",
       "      <td>68.203226</td>\n",
       "      <td>59.268710</td>\n",
       "      <td>60.395484</td>\n",
       "      <td>82.628065</td>\n",
       "      <td>155.159032</td>\n",
       "      <td>276.835484</td>\n",
       "      <td>442.083226</td>\n",
       "      <td>541.451935</td>\n",
       "      <td>582.218710</td>\n",
       "      <td>575.083548</td>\n",
       "      <td>588.657742</td>\n",
       "      <td>589.288064</td>\n",
       "      <td>592.700645</td>\n",
       "      <td>617.566774</td>\n",
       "      <td>656.370968</td>\n",
       "      <td>688.528710</td>\n",
       "      <td>557.255807</td>\n",
       "      <td>455.641936</td>\n",
       "      <td>390.546452</td>\n",
       "      <td>283.845806</td>\n",
       "      <td>202.110645</td>\n",
       "      <td>0.004376</td>\n",
       "      <td>0.004343</td>\n",
       "      <td>0.004295</td>\n",
       "      <td>0.004107</td>\n",
       "      <td>0.003710</td>\n",
       "      <td>0.003143</td>\n",
       "      <td>0.002755</td>\n",
       "      <td>0.002694</td>\n",
       "      <td>0.002836</td>\n",
       "      <td>0.003133</td>\n",
       "      <td>0.003258</td>\n",
       "      <td>0.003269</td>\n",
       "      <td>0.003232</td>\n",
       "      <td>0.003308</td>\n",
       "      <td>0.003350</td>\n",
       "      <td>0.003340</td>\n",
       "      <td>0.003379</td>\n",
       "      <td>0.003312</td>\n",
       "      <td>0.003560</td>\n",
       "      <td>0.003770</td>\n",
       "      <td>0.003785</td>\n",
       "      <td>0.003887</td>\n",
       "      <td>0.004084</td>\n",
       "      <td>0.004253</td>\n",
       "      <td>2015-01-31</td>\n",
       "    </tr>\n",
       "    <tr>\n",
       "      <th>4</th>\n",
       "      <td>2015-01</td>\n",
       "      <td>다다05C00D</td>\n",
       "      <td>59.621935</td>\n",
       "      <td>43.564194</td>\n",
       "      <td>35.652581</td>\n",
       "      <td>26.703871</td>\n",
       "      <td>22.887419</td>\n",
       "      <td>23.128387</td>\n",
       "      <td>31.820000</td>\n",
       "      <td>62.128065</td>\n",
       "      <td>110.730968</td>\n",
       "      <td>174.586774</td>\n",
       "      <td>211.708710</td>\n",
       "      <td>226.140000</td>\n",
       "      <td>222.253871</td>\n",
       "      <td>226.438710</td>\n",
       "      <td>227.062581</td>\n",
       "      <td>227.711613</td>\n",
       "      <td>237.304839</td>\n",
       "      <td>256.556129</td>\n",
       "      <td>272.153548</td>\n",
       "      <td>216.783226</td>\n",
       "      <td>175.845161</td>\n",
       "      <td>150.011613</td>\n",
       "      <td>109.524194</td>\n",
       "      <td>77.792903</td>\n",
       "      <td>0.001705</td>\n",
       "      <td>0.001702</td>\n",
       "      <td>0.001696</td>\n",
       "      <td>0.001608</td>\n",
       "      <td>0.001433</td>\n",
       "      <td>0.001204</td>\n",
       "      <td>0.001061</td>\n",
       "      <td>0.001079</td>\n",
       "      <td>0.001135</td>\n",
       "      <td>0.001237</td>\n",
       "      <td>0.001274</td>\n",
       "      <td>0.001270</td>\n",
       "      <td>0.001249</td>\n",
       "      <td>0.001272</td>\n",
       "      <td>0.001291</td>\n",
       "      <td>0.001283</td>\n",
       "      <td>0.001298</td>\n",
       "      <td>0.001295</td>\n",
       "      <td>0.001407</td>\n",
       "      <td>0.001467</td>\n",
       "      <td>0.001461</td>\n",
       "      <td>0.001493</td>\n",
       "      <td>0.001576</td>\n",
       "      <td>0.001637</td>\n",
       "      <td>2015-01-31</td>\n",
       "    </tr>\n",
       "  </tbody>\n",
       "</table>\n",
       "</div>"
      ],
      "text/plain": [
       "      기준년월 격자 좌표(250m)  ...  23시~00시 유동인구 비율     데이터기준일자\n",
       "0  2015-01    다다06B00C  ...         0.005527  2015-01-31\n",
       "1  2015-01    다다06C00C  ...         0.001095  2015-01-31\n",
       "2  2015-01    다나05B99A  ...         0.000936  2015-01-31\n",
       "3  2015-01    다다05B00C  ...         0.004253  2015-01-31\n",
       "4  2015-01    다다05C00D  ...         0.001637  2015-01-31\n",
       "\n",
       "[5 rows x 51 columns]"
      ]
     },
     "execution_count": 6,
     "metadata": {
      "tags": []
     },
     "output_type": "execute_result"
    }
   ],
   "source": [
    "file1.head()"
   ]
  },
  {
   "cell_type": "code",
   "execution_count": null,
   "metadata": {
    "colab": {
     "base_uri": "https://localhost:8080/",
     "height": 202
    },
    "executionInfo": {
     "elapsed": 4,
     "status": "ok",
     "timestamp": 1628489098600,
     "user": {
      "displayName": "Jinyou Kim",
      "photoUrl": "",
      "userId": "13762645804023943081"
     },
     "user_tz": -540
    },
    "id": "1r6GNXjrg3ql",
    "outputId": "5362f8e4-f46a-4e1f-88e2-51185f4878c5"
   },
   "outputs": [
    {
     "data": {
      "text/html": [
       "<div>\n",
       "<style scoped>\n",
       "    .dataframe tbody tr th:only-of-type {\n",
       "        vertical-align: middle;\n",
       "    }\n",
       "\n",
       "    .dataframe tbody tr th {\n",
       "        vertical-align: top;\n",
       "    }\n",
       "\n",
       "    .dataframe thead th {\n",
       "        text-align: right;\n",
       "    }\n",
       "</style>\n",
       "<table border=\"1\" class=\"dataframe\">\n",
       "  <thead>\n",
       "    <tr style=\"text-align: right;\">\n",
       "      <th></th>\n",
       "      <th>가로좌표 (X Coord)</th>\n",
       "      <th>세로좌표 (Y Coord)</th>\n",
       "      <th>국가지점좌표계250키(SPO_NO_250)</th>\n",
       "    </tr>\n",
       "  </thead>\n",
       "  <tbody>\n",
       "    <tr>\n",
       "      <th>0</th>\n",
       "      <td>884875.0001</td>\n",
       "      <td>1458875</td>\n",
       "      <td>나나84D58D</td>\n",
       "    </tr>\n",
       "    <tr>\n",
       "      <th>1</th>\n",
       "      <td>885125.0001</td>\n",
       "      <td>1458875</td>\n",
       "      <td>나나85D58A</td>\n",
       "    </tr>\n",
       "    <tr>\n",
       "      <th>2</th>\n",
       "      <td>884875.0001</td>\n",
       "      <td>1459125</td>\n",
       "      <td>나나84A59D</td>\n",
       "    </tr>\n",
       "    <tr>\n",
       "      <th>3</th>\n",
       "      <td>885125.0001</td>\n",
       "      <td>1459125</td>\n",
       "      <td>나나85A59A</td>\n",
       "    </tr>\n",
       "    <tr>\n",
       "      <th>4</th>\n",
       "      <td>884875.0001</td>\n",
       "      <td>1459375</td>\n",
       "      <td>나나84B59D</td>\n",
       "    </tr>\n",
       "  </tbody>\n",
       "</table>\n",
       "</div>"
      ],
      "text/plain": [
       "   가로좌표 (X Coord)  세로좌표 (Y Coord) 국가지점좌표계250키(SPO_NO_250)\n",
       "0     884875.0001         1458875                나나84D58D\n",
       "1     885125.0001         1458875                나나85D58A\n",
       "2     884875.0001         1459125                나나84A59D\n",
       "3     885125.0001         1459125                나나85A59A\n",
       "4     884875.0001         1459375                나나84B59D"
      ]
     },
     "execution_count": 7,
     "metadata": {
      "tags": []
     },
     "output_type": "execute_result"
    }
   ],
   "source": [
    "gyukja.head()"
   ]
  },
  {
   "cell_type": "code",
   "execution_count": null,
   "metadata": {
    "colab": {
     "base_uri": "https://localhost:8080/",
     "height": 1000
    },
    "executionInfo": {
     "elapsed": 283,
     "status": "ok",
     "timestamp": 1627989322830,
     "user": {
      "displayName": "Jinyou Kim",
      "photoUrl": "",
      "userId": "13762645804023943081"
     },
     "user_tz": -540
    },
    "id": "VhVeqW12uC6R",
    "outputId": "8a726f0b-be3d-4bbf-b3eb-1446453633b6"
   },
   "outputs": [
    {
     "data": {
      "text/html": [
       "<div>\n",
       "<style scoped>\n",
       "    .dataframe tbody tr th:only-of-type {\n",
       "        vertical-align: middle;\n",
       "    }\n",
       "\n",
       "    .dataframe tbody tr th {\n",
       "        vertical-align: top;\n",
       "    }\n",
       "\n",
       "    .dataframe thead th {\n",
       "        text-align: right;\n",
       "    }\n",
       "</style>\n",
       "<table border=\"1\" class=\"dataframe\">\n",
       "  <thead>\n",
       "    <tr style=\"text-align: right;\">\n",
       "      <th></th>\n",
       "      <th>count</th>\n",
       "      <th>mean</th>\n",
       "      <th>std</th>\n",
       "      <th>min</th>\n",
       "      <th>25%</th>\n",
       "      <th>50%</th>\n",
       "      <th>75%</th>\n",
       "      <th>max</th>\n",
       "    </tr>\n",
       "  </thead>\n",
       "  <tbody>\n",
       "    <tr>\n",
       "      <th>00시~01시 유동인구</th>\n",
       "      <td>13365.0</td>\n",
       "      <td>2.616616</td>\n",
       "      <td>13.960913</td>\n",
       "      <td>0.000000e+00</td>\n",
       "      <td>0.073226</td>\n",
       "      <td>0.222903</td>\n",
       "      <td>0.756452</td>\n",
       "      <td>432.689677</td>\n",
       "    </tr>\n",
       "    <tr>\n",
       "      <th>01시~02시 유동인구</th>\n",
       "      <td>13365.0</td>\n",
       "      <td>1.914730</td>\n",
       "      <td>10.328992</td>\n",
       "      <td>0.000000e+00</td>\n",
       "      <td>0.055806</td>\n",
       "      <td>0.170000</td>\n",
       "      <td>0.566774</td>\n",
       "      <td>331.789677</td>\n",
       "    </tr>\n",
       "    <tr>\n",
       "      <th>02시~03시 유동인구</th>\n",
       "      <td>13365.0</td>\n",
       "      <td>1.572813</td>\n",
       "      <td>8.300213</td>\n",
       "      <td>0.000000e+00</td>\n",
       "      <td>0.051290</td>\n",
       "      <td>0.153226</td>\n",
       "      <td>0.504839</td>\n",
       "      <td>272.238710</td>\n",
       "    </tr>\n",
       "    <tr>\n",
       "      <th>03시~04시 유동인구</th>\n",
       "      <td>13365.0</td>\n",
       "      <td>1.242619</td>\n",
       "      <td>6.299816</td>\n",
       "      <td>0.000000e+00</td>\n",
       "      <td>0.042903</td>\n",
       "      <td>0.128710</td>\n",
       "      <td>0.428387</td>\n",
       "      <td>198.585806</td>\n",
       "    </tr>\n",
       "    <tr>\n",
       "      <th>04시~05시 유동인구</th>\n",
       "      <td>13365.0</td>\n",
       "      <td>1.195195</td>\n",
       "      <td>5.544954</td>\n",
       "      <td>0.000000e+00</td>\n",
       "      <td>0.048065</td>\n",
       "      <td>0.140323</td>\n",
       "      <td>0.456129</td>\n",
       "      <td>156.502258</td>\n",
       "    </tr>\n",
       "    <tr>\n",
       "      <th>05시~06시 유동인구</th>\n",
       "      <td>13365.0</td>\n",
       "      <td>1.437865</td>\n",
       "      <td>6.031205</td>\n",
       "      <td>0.000000e+00</td>\n",
       "      <td>0.064194</td>\n",
       "      <td>0.188710</td>\n",
       "      <td>0.599677</td>\n",
       "      <td>135.499677</td>\n",
       "    </tr>\n",
       "    <tr>\n",
       "      <th>06시~07시 유동인구</th>\n",
       "      <td>13365.0</td>\n",
       "      <td>2.244195</td>\n",
       "      <td>8.525009</td>\n",
       "      <td>0.000000e+00</td>\n",
       "      <td>0.121290</td>\n",
       "      <td>0.346774</td>\n",
       "      <td>1.066774</td>\n",
       "      <td>155.104194</td>\n",
       "    </tr>\n",
       "    <tr>\n",
       "      <th>07시~08시 유동인구</th>\n",
       "      <td>13365.0</td>\n",
       "      <td>4.308566</td>\n",
       "      <td>15.592805</td>\n",
       "      <td>0.000000e+00</td>\n",
       "      <td>0.250000</td>\n",
       "      <td>0.736129</td>\n",
       "      <td>2.222581</td>\n",
       "      <td>304.115161</td>\n",
       "    </tr>\n",
       "    <tr>\n",
       "      <th>08시~09시 유동인구</th>\n",
       "      <td>13365.0</td>\n",
       "      <td>7.302535</td>\n",
       "      <td>26.595010</td>\n",
       "      <td>3.548387e-03</td>\n",
       "      <td>0.429032</td>\n",
       "      <td>1.276129</td>\n",
       "      <td>3.768387</td>\n",
       "      <td>514.837097</td>\n",
       "    </tr>\n",
       "    <tr>\n",
       "      <th>09시~10시 유동인구</th>\n",
       "      <td>13365.0</td>\n",
       "      <td>10.556918</td>\n",
       "      <td>39.830660</td>\n",
       "      <td>5.483871e-03</td>\n",
       "      <td>0.614839</td>\n",
       "      <td>1.774194</td>\n",
       "      <td>5.284194</td>\n",
       "      <td>779.134516</td>\n",
       "    </tr>\n",
       "    <tr>\n",
       "      <th>10시~11시 유동인구</th>\n",
       "      <td>13365.0</td>\n",
       "      <td>12.434554</td>\n",
       "      <td>47.982674</td>\n",
       "      <td>8.709677e-03</td>\n",
       "      <td>0.712258</td>\n",
       "      <td>2.053871</td>\n",
       "      <td>6.030000</td>\n",
       "      <td>921.126452</td>\n",
       "    </tr>\n",
       "    <tr>\n",
       "      <th>11시~12시 유동인구</th>\n",
       "      <td>13365.0</td>\n",
       "      <td>13.325671</td>\n",
       "      <td>52.232458</td>\n",
       "      <td>5.806452e-03</td>\n",
       "      <td>0.739355</td>\n",
       "      <td>2.143871</td>\n",
       "      <td>6.328065</td>\n",
       "      <td>981.390645</td>\n",
       "    </tr>\n",
       "    <tr>\n",
       "      <th>12시~13시 유동인구</th>\n",
       "      <td>13365.0</td>\n",
       "      <td>13.311738</td>\n",
       "      <td>52.590093</td>\n",
       "      <td>6.129032e-03</td>\n",
       "      <td>0.717419</td>\n",
       "      <td>2.089032</td>\n",
       "      <td>6.229677</td>\n",
       "      <td>984.696129</td>\n",
       "    </tr>\n",
       "    <tr>\n",
       "      <th>13시~14시 유동인구</th>\n",
       "      <td>13365.0</td>\n",
       "      <td>13.315546</td>\n",
       "      <td>53.539500</td>\n",
       "      <td>6.774194e-03</td>\n",
       "      <td>0.700000</td>\n",
       "      <td>2.044516</td>\n",
       "      <td>6.077097</td>\n",
       "      <td>1011.442258</td>\n",
       "    </tr>\n",
       "    <tr>\n",
       "      <th>14시~15시 유동인구</th>\n",
       "      <td>13365.0</td>\n",
       "      <td>13.161156</td>\n",
       "      <td>53.366107</td>\n",
       "      <td>6.451613e-03</td>\n",
       "      <td>0.682581</td>\n",
       "      <td>2.017097</td>\n",
       "      <td>5.981290</td>\n",
       "      <td>1020.890000</td>\n",
       "    </tr>\n",
       "    <tr>\n",
       "      <th>15시~16시 유동인구</th>\n",
       "      <td>13365.0</td>\n",
       "      <td>13.277191</td>\n",
       "      <td>54.002949</td>\n",
       "      <td>5.161290e-03</td>\n",
       "      <td>0.680000</td>\n",
       "      <td>2.013226</td>\n",
       "      <td>5.982581</td>\n",
       "      <td>1019.375484</td>\n",
       "    </tr>\n",
       "    <tr>\n",
       "      <th>16시~17시 유동인구</th>\n",
       "      <td>13365.0</td>\n",
       "      <td>13.675916</td>\n",
       "      <td>56.004112</td>\n",
       "      <td>5.806452e-03</td>\n",
       "      <td>0.669355</td>\n",
       "      <td>2.020323</td>\n",
       "      <td>6.055806</td>\n",
       "      <td>1069.408065</td>\n",
       "    </tr>\n",
       "    <tr>\n",
       "      <th>17시~18시 유동인구</th>\n",
       "      <td>13365.0</td>\n",
       "      <td>14.826864</td>\n",
       "      <td>60.896393</td>\n",
       "      <td>6.451613e-03</td>\n",
       "      <td>0.667419</td>\n",
       "      <td>2.094194</td>\n",
       "      <td>6.433226</td>\n",
       "      <td>1147.588710</td>\n",
       "    </tr>\n",
       "    <tr>\n",
       "      <th>18시~19시 유동인구</th>\n",
       "      <td>13365.0</td>\n",
       "      <td>14.472075</td>\n",
       "      <td>63.026695</td>\n",
       "      <td>2.258065e-03</td>\n",
       "      <td>0.527419</td>\n",
       "      <td>1.671290</td>\n",
       "      <td>5.458387</td>\n",
       "      <td>1227.640645</td>\n",
       "    </tr>\n",
       "    <tr>\n",
       "      <th>19시~20시 유동인구</th>\n",
       "      <td>13365.0</td>\n",
       "      <td>11.058569</td>\n",
       "      <td>50.544330</td>\n",
       "      <td>0.000000e+00</td>\n",
       "      <td>0.345161</td>\n",
       "      <td>1.118710</td>\n",
       "      <td>3.752903</td>\n",
       "      <td>1069.350968</td>\n",
       "    </tr>\n",
       "    <tr>\n",
       "      <th>20시~21시 유동인구</th>\n",
       "      <td>13365.0</td>\n",
       "      <td>9.006330</td>\n",
       "      <td>41.989400</td>\n",
       "      <td>0.000000e+00</td>\n",
       "      <td>0.268710</td>\n",
       "      <td>0.861935</td>\n",
       "      <td>2.953548</td>\n",
       "      <td>944.133226</td>\n",
       "    </tr>\n",
       "    <tr>\n",
       "      <th>21시~22시 유동인구</th>\n",
       "      <td>13365.0</td>\n",
       "      <td>7.517736</td>\n",
       "      <td>35.995796</td>\n",
       "      <td>0.000000e+00</td>\n",
       "      <td>0.208710</td>\n",
       "      <td>0.673548</td>\n",
       "      <td>2.358387</td>\n",
       "      <td>849.889355</td>\n",
       "    </tr>\n",
       "    <tr>\n",
       "      <th>22시~23시 유동인구</th>\n",
       "      <td>13365.0</td>\n",
       "      <td>5.199883</td>\n",
       "      <td>25.829047</td>\n",
       "      <td>0.000000e+00</td>\n",
       "      <td>0.140968</td>\n",
       "      <td>0.443226</td>\n",
       "      <td>1.536452</td>\n",
       "      <td>672.343226</td>\n",
       "    </tr>\n",
       "    <tr>\n",
       "      <th>23시~00시 유동인구</th>\n",
       "      <td>13365.0</td>\n",
       "      <td>3.555340</td>\n",
       "      <td>18.473342</td>\n",
       "      <td>0.000000e+00</td>\n",
       "      <td>0.093226</td>\n",
       "      <td>0.289355</td>\n",
       "      <td>1.000323</td>\n",
       "      <td>532.527419</td>\n",
       "    </tr>\n",
       "    <tr>\n",
       "      <th>00시~01시 유동인구 비율</th>\n",
       "      <td>13365.0</td>\n",
       "      <td>0.000075</td>\n",
       "      <td>0.000399</td>\n",
       "      <td>0.000000e+00</td>\n",
       "      <td>0.000002</td>\n",
       "      <td>0.000006</td>\n",
       "      <td>0.000022</td>\n",
       "      <td>0.012373</td>\n",
       "    </tr>\n",
       "    <tr>\n",
       "      <th>01시~02시 유동인구 비율</th>\n",
       "      <td>13365.0</td>\n",
       "      <td>0.000075</td>\n",
       "      <td>0.000404</td>\n",
       "      <td>0.000000e+00</td>\n",
       "      <td>0.000002</td>\n",
       "      <td>0.000007</td>\n",
       "      <td>0.000022</td>\n",
       "      <td>0.012965</td>\n",
       "    </tr>\n",
       "    <tr>\n",
       "      <th>02시~03시 유동인구 비율</th>\n",
       "      <td>13365.0</td>\n",
       "      <td>0.000075</td>\n",
       "      <td>0.000395</td>\n",
       "      <td>0.000000e+00</td>\n",
       "      <td>0.000002</td>\n",
       "      <td>0.000007</td>\n",
       "      <td>0.000024</td>\n",
       "      <td>0.012951</td>\n",
       "    </tr>\n",
       "    <tr>\n",
       "      <th>03시~04시 유동인구 비율</th>\n",
       "      <td>13365.0</td>\n",
       "      <td>0.000075</td>\n",
       "      <td>0.000379</td>\n",
       "      <td>0.000000e+00</td>\n",
       "      <td>0.000003</td>\n",
       "      <td>0.000008</td>\n",
       "      <td>0.000026</td>\n",
       "      <td>0.011958</td>\n",
       "    </tr>\n",
       "    <tr>\n",
       "      <th>04시~05시 유동인구 비율</th>\n",
       "      <td>13365.0</td>\n",
       "      <td>0.000075</td>\n",
       "      <td>0.000347</td>\n",
       "      <td>0.000000e+00</td>\n",
       "      <td>0.000003</td>\n",
       "      <td>0.000009</td>\n",
       "      <td>0.000029</td>\n",
       "      <td>0.009797</td>\n",
       "    </tr>\n",
       "    <tr>\n",
       "      <th>05시~06시 유동인구 비율</th>\n",
       "      <td>13365.0</td>\n",
       "      <td>0.000075</td>\n",
       "      <td>0.000314</td>\n",
       "      <td>0.000000e+00</td>\n",
       "      <td>0.000003</td>\n",
       "      <td>0.000010</td>\n",
       "      <td>0.000031</td>\n",
       "      <td>0.007051</td>\n",
       "    </tr>\n",
       "    <tr>\n",
       "      <th>06시~07시 유동인구 비율</th>\n",
       "      <td>13365.0</td>\n",
       "      <td>0.000075</td>\n",
       "      <td>0.000284</td>\n",
       "      <td>0.000000e+00</td>\n",
       "      <td>0.000004</td>\n",
       "      <td>0.000012</td>\n",
       "      <td>0.000036</td>\n",
       "      <td>0.005171</td>\n",
       "    </tr>\n",
       "    <tr>\n",
       "      <th>07시~08시 유동인구 비율</th>\n",
       "      <td>13365.0</td>\n",
       "      <td>0.000075</td>\n",
       "      <td>0.000271</td>\n",
       "      <td>0.000000e+00</td>\n",
       "      <td>0.000004</td>\n",
       "      <td>0.000013</td>\n",
       "      <td>0.000039</td>\n",
       "      <td>0.005281</td>\n",
       "    </tr>\n",
       "    <tr>\n",
       "      <th>08시~09시 유동인구 비율</th>\n",
       "      <td>13365.0</td>\n",
       "      <td>0.000075</td>\n",
       "      <td>0.000272</td>\n",
       "      <td>3.640000e-08</td>\n",
       "      <td>0.000004</td>\n",
       "      <td>0.000013</td>\n",
       "      <td>0.000039</td>\n",
       "      <td>0.005275</td>\n",
       "    </tr>\n",
       "    <tr>\n",
       "      <th>09시~10시 유동인구 비율</th>\n",
       "      <td>13365.0</td>\n",
       "      <td>0.000075</td>\n",
       "      <td>0.000282</td>\n",
       "      <td>3.890000e-08</td>\n",
       "      <td>0.000004</td>\n",
       "      <td>0.000013</td>\n",
       "      <td>0.000037</td>\n",
       "      <td>0.005522</td>\n",
       "    </tr>\n",
       "    <tr>\n",
       "      <th>10시~11시 유동인구 비율</th>\n",
       "      <td>13365.0</td>\n",
       "      <td>0.000075</td>\n",
       "      <td>0.000289</td>\n",
       "      <td>5.240000e-08</td>\n",
       "      <td>0.000004</td>\n",
       "      <td>0.000012</td>\n",
       "      <td>0.000036</td>\n",
       "      <td>0.005543</td>\n",
       "    </tr>\n",
       "    <tr>\n",
       "      <th>11시~12시 유동인구 비율</th>\n",
       "      <td>13365.0</td>\n",
       "      <td>0.000075</td>\n",
       "      <td>0.000293</td>\n",
       "      <td>3.260000e-08</td>\n",
       "      <td>0.000004</td>\n",
       "      <td>0.000012</td>\n",
       "      <td>0.000035</td>\n",
       "      <td>0.005510</td>\n",
       "    </tr>\n",
       "    <tr>\n",
       "      <th>12시~13시 유동인구 비율</th>\n",
       "      <td>13365.0</td>\n",
       "      <td>0.000075</td>\n",
       "      <td>0.000296</td>\n",
       "      <td>3.440000e-08</td>\n",
       "      <td>0.000004</td>\n",
       "      <td>0.000012</td>\n",
       "      <td>0.000035</td>\n",
       "      <td>0.005535</td>\n",
       "    </tr>\n",
       "    <tr>\n",
       "      <th>13시~14시 유동인구 비율</th>\n",
       "      <td>13365.0</td>\n",
       "      <td>0.000075</td>\n",
       "      <td>0.000301</td>\n",
       "      <td>3.810000e-08</td>\n",
       "      <td>0.000004</td>\n",
       "      <td>0.000012</td>\n",
       "      <td>0.000034</td>\n",
       "      <td>0.005683</td>\n",
       "    </tr>\n",
       "    <tr>\n",
       "      <th>14시~15시 유동인구 비율</th>\n",
       "      <td>13365.0</td>\n",
       "      <td>0.000075</td>\n",
       "      <td>0.000303</td>\n",
       "      <td>3.670000e-08</td>\n",
       "      <td>0.000004</td>\n",
       "      <td>0.000012</td>\n",
       "      <td>0.000034</td>\n",
       "      <td>0.005804</td>\n",
       "    </tr>\n",
       "    <tr>\n",
       "      <th>15시~16시 유동인구 비율</th>\n",
       "      <td>13365.0</td>\n",
       "      <td>0.000075</td>\n",
       "      <td>0.000304</td>\n",
       "      <td>2.910000e-08</td>\n",
       "      <td>0.000004</td>\n",
       "      <td>0.000011</td>\n",
       "      <td>0.000034</td>\n",
       "      <td>0.005745</td>\n",
       "    </tr>\n",
       "    <tr>\n",
       "      <th>16시~17시 유동인구 비율</th>\n",
       "      <td>13365.0</td>\n",
       "      <td>0.000075</td>\n",
       "      <td>0.000306</td>\n",
       "      <td>3.180000e-08</td>\n",
       "      <td>0.000004</td>\n",
       "      <td>0.000011</td>\n",
       "      <td>0.000033</td>\n",
       "      <td>0.005851</td>\n",
       "    </tr>\n",
       "    <tr>\n",
       "      <th>17시~18시 유동인구 비율</th>\n",
       "      <td>13365.0</td>\n",
       "      <td>0.000075</td>\n",
       "      <td>0.000307</td>\n",
       "      <td>3.260000e-08</td>\n",
       "      <td>0.000003</td>\n",
       "      <td>0.000011</td>\n",
       "      <td>0.000033</td>\n",
       "      <td>0.005791</td>\n",
       "    </tr>\n",
       "    <tr>\n",
       "      <th>18시~19시 유동인구 비율</th>\n",
       "      <td>13365.0</td>\n",
       "      <td>0.000075</td>\n",
       "      <td>0.000326</td>\n",
       "      <td>1.170000e-08</td>\n",
       "      <td>0.000003</td>\n",
       "      <td>0.000009</td>\n",
       "      <td>0.000028</td>\n",
       "      <td>0.006347</td>\n",
       "    </tr>\n",
       "    <tr>\n",
       "      <th>19시~20시 유동인구 비율</th>\n",
       "      <td>13365.0</td>\n",
       "      <td>0.000075</td>\n",
       "      <td>0.000342</td>\n",
       "      <td>0.000000e+00</td>\n",
       "      <td>0.000002</td>\n",
       "      <td>0.000008</td>\n",
       "      <td>0.000025</td>\n",
       "      <td>0.007235</td>\n",
       "    </tr>\n",
       "    <tr>\n",
       "      <th>20시~21시 유동인구 비율</th>\n",
       "      <td>13365.0</td>\n",
       "      <td>0.000075</td>\n",
       "      <td>0.000349</td>\n",
       "      <td>0.000000e+00</td>\n",
       "      <td>0.000002</td>\n",
       "      <td>0.000007</td>\n",
       "      <td>0.000024</td>\n",
       "      <td>0.007844</td>\n",
       "    </tr>\n",
       "    <tr>\n",
       "      <th>21시~22시 유동인구 비율</th>\n",
       "      <td>13365.0</td>\n",
       "      <td>0.000075</td>\n",
       "      <td>0.000358</td>\n",
       "      <td>0.000000e+00</td>\n",
       "      <td>0.000002</td>\n",
       "      <td>0.000007</td>\n",
       "      <td>0.000023</td>\n",
       "      <td>0.008459</td>\n",
       "    </tr>\n",
       "    <tr>\n",
       "      <th>22시~23시 유동인구 비율</th>\n",
       "      <td>13365.0</td>\n",
       "      <td>0.000075</td>\n",
       "      <td>0.000372</td>\n",
       "      <td>0.000000e+00</td>\n",
       "      <td>0.000002</td>\n",
       "      <td>0.000006</td>\n",
       "      <td>0.000022</td>\n",
       "      <td>0.009674</td>\n",
       "    </tr>\n",
       "    <tr>\n",
       "      <th>23시~00시 유동인구 비율</th>\n",
       "      <td>13365.0</td>\n",
       "      <td>0.000075</td>\n",
       "      <td>0.000389</td>\n",
       "      <td>0.000000e+00</td>\n",
       "      <td>0.000002</td>\n",
       "      <td>0.000006</td>\n",
       "      <td>0.000021</td>\n",
       "      <td>0.011207</td>\n",
       "    </tr>\n",
       "  </tbody>\n",
       "</table>\n",
       "</div>"
      ],
      "text/plain": [
       "                   count       mean        std  ...       50%       75%          max\n",
       "00시~01시 유동인구     13365.0   2.616616  13.960913  ...  0.222903  0.756452   432.689677\n",
       "01시~02시 유동인구     13365.0   1.914730  10.328992  ...  0.170000  0.566774   331.789677\n",
       "02시~03시 유동인구     13365.0   1.572813   8.300213  ...  0.153226  0.504839   272.238710\n",
       "03시~04시 유동인구     13365.0   1.242619   6.299816  ...  0.128710  0.428387   198.585806\n",
       "04시~05시 유동인구     13365.0   1.195195   5.544954  ...  0.140323  0.456129   156.502258\n",
       "05시~06시 유동인구     13365.0   1.437865   6.031205  ...  0.188710  0.599677   135.499677\n",
       "06시~07시 유동인구     13365.0   2.244195   8.525009  ...  0.346774  1.066774   155.104194\n",
       "07시~08시 유동인구     13365.0   4.308566  15.592805  ...  0.736129  2.222581   304.115161\n",
       "08시~09시 유동인구     13365.0   7.302535  26.595010  ...  1.276129  3.768387   514.837097\n",
       "09시~10시 유동인구     13365.0  10.556918  39.830660  ...  1.774194  5.284194   779.134516\n",
       "10시~11시 유동인구     13365.0  12.434554  47.982674  ...  2.053871  6.030000   921.126452\n",
       "11시~12시 유동인구     13365.0  13.325671  52.232458  ...  2.143871  6.328065   981.390645\n",
       "12시~13시 유동인구     13365.0  13.311738  52.590093  ...  2.089032  6.229677   984.696129\n",
       "13시~14시 유동인구     13365.0  13.315546  53.539500  ...  2.044516  6.077097  1011.442258\n",
       "14시~15시 유동인구     13365.0  13.161156  53.366107  ...  2.017097  5.981290  1020.890000\n",
       "15시~16시 유동인구     13365.0  13.277191  54.002949  ...  2.013226  5.982581  1019.375484\n",
       "16시~17시 유동인구     13365.0  13.675916  56.004112  ...  2.020323  6.055806  1069.408065\n",
       "17시~18시 유동인구     13365.0  14.826864  60.896393  ...  2.094194  6.433226  1147.588710\n",
       "18시~19시 유동인구     13365.0  14.472075  63.026695  ...  1.671290  5.458387  1227.640645\n",
       "19시~20시 유동인구     13365.0  11.058569  50.544330  ...  1.118710  3.752903  1069.350968\n",
       "20시~21시 유동인구     13365.0   9.006330  41.989400  ...  0.861935  2.953548   944.133226\n",
       "21시~22시 유동인구     13365.0   7.517736  35.995796  ...  0.673548  2.358387   849.889355\n",
       "22시~23시 유동인구     13365.0   5.199883  25.829047  ...  0.443226  1.536452   672.343226\n",
       "23시~00시 유동인구     13365.0   3.555340  18.473342  ...  0.289355  1.000323   532.527419\n",
       "00시~01시 유동인구 비율  13365.0   0.000075   0.000399  ...  0.000006  0.000022     0.012373\n",
       "01시~02시 유동인구 비율  13365.0   0.000075   0.000404  ...  0.000007  0.000022     0.012965\n",
       "02시~03시 유동인구 비율  13365.0   0.000075   0.000395  ...  0.000007  0.000024     0.012951\n",
       "03시~04시 유동인구 비율  13365.0   0.000075   0.000379  ...  0.000008  0.000026     0.011958\n",
       "04시~05시 유동인구 비율  13365.0   0.000075   0.000347  ...  0.000009  0.000029     0.009797\n",
       "05시~06시 유동인구 비율  13365.0   0.000075   0.000314  ...  0.000010  0.000031     0.007051\n",
       "06시~07시 유동인구 비율  13365.0   0.000075   0.000284  ...  0.000012  0.000036     0.005171\n",
       "07시~08시 유동인구 비율  13365.0   0.000075   0.000271  ...  0.000013  0.000039     0.005281\n",
       "08시~09시 유동인구 비율  13365.0   0.000075   0.000272  ...  0.000013  0.000039     0.005275\n",
       "09시~10시 유동인구 비율  13365.0   0.000075   0.000282  ...  0.000013  0.000037     0.005522\n",
       "10시~11시 유동인구 비율  13365.0   0.000075   0.000289  ...  0.000012  0.000036     0.005543\n",
       "11시~12시 유동인구 비율  13365.0   0.000075   0.000293  ...  0.000012  0.000035     0.005510\n",
       "12시~13시 유동인구 비율  13365.0   0.000075   0.000296  ...  0.000012  0.000035     0.005535\n",
       "13시~14시 유동인구 비율  13365.0   0.000075   0.000301  ...  0.000012  0.000034     0.005683\n",
       "14시~15시 유동인구 비율  13365.0   0.000075   0.000303  ...  0.000012  0.000034     0.005804\n",
       "15시~16시 유동인구 비율  13365.0   0.000075   0.000304  ...  0.000011  0.000034     0.005745\n",
       "16시~17시 유동인구 비율  13365.0   0.000075   0.000306  ...  0.000011  0.000033     0.005851\n",
       "17시~18시 유동인구 비율  13365.0   0.000075   0.000307  ...  0.000011  0.000033     0.005791\n",
       "18시~19시 유동인구 비율  13365.0   0.000075   0.000326  ...  0.000009  0.000028     0.006347\n",
       "19시~20시 유동인구 비율  13365.0   0.000075   0.000342  ...  0.000008  0.000025     0.007235\n",
       "20시~21시 유동인구 비율  13365.0   0.000075   0.000349  ...  0.000007  0.000024     0.007844\n",
       "21시~22시 유동인구 비율  13365.0   0.000075   0.000358  ...  0.000007  0.000023     0.008459\n",
       "22시~23시 유동인구 비율  13365.0   0.000075   0.000372  ...  0.000006  0.000022     0.009674\n",
       "23시~00시 유동인구 비율  13365.0   0.000075   0.000389  ...  0.000006  0.000021     0.011207\n",
       "\n",
       "[48 rows x 8 columns]"
      ]
     },
     "execution_count": 10,
     "metadata": {
      "tags": []
     },
     "output_type": "execute_result"
    }
   ],
   "source": [
    "file1.describe().transpose()"
   ]
  },
  {
   "cell_type": "code",
   "execution_count": null,
   "metadata": {
    "colab": {
     "base_uri": "https://localhost:8080/"
    },
    "executionInfo": {
     "elapsed": 447,
     "status": "ok",
     "timestamp": 1628144927699,
     "user": {
      "displayName": "Jinyou Kim",
      "photoUrl": "",
      "userId": "13762645804023943081"
     },
     "user_tz": -540
    },
    "id": "x7ic3rkQuKlH",
    "outputId": "d52dd3b9-ef6f-46f0-ad90-738d92ed565f"
   },
   "outputs": [
    {
     "data": {
      "text/plain": [
       "02시~03시 유동인구 비율     0.000075\n",
       "06시~07시 유동인구 비율     0.000075\n",
       "03시~04시 유동인구 비율     0.000075\n",
       "01시~02시 유동인구 비율     0.000075\n",
       "04시~05시 유동인구 비율     0.000075\n",
       "13시~14시 유동인구 비율     0.000075\n",
       "07시~08시 유동인구 비율     0.000075\n",
       "00시~01시 유동인구 비율     0.000075\n",
       "15시~16시 유동인구 비율     0.000075\n",
       "16시~17시 유동인구 비율     0.000075\n",
       "11시~12시 유동인구 비율     0.000075\n",
       "20시~21시 유동인구 비율     0.000075\n",
       "12시~13시 유동인구 비율     0.000075\n",
       "18시~19시 유동인구 비율     0.000075\n",
       "08시~09시 유동인구 비율     0.000075\n",
       "21시~22시 유동인구 비율     0.000075\n",
       "23시~00시 유동인구 비율     0.000075\n",
       "09시~10시 유동인구 비율     0.000075\n",
       "14시~15시 유동인구 비율     0.000075\n",
       "22시~23시 유동인구 비율     0.000075\n",
       "05시~06시 유동인구 비율     0.000075\n",
       "10시~11시 유동인구 비율     0.000075\n",
       "19시~20시 유동인구 비율     0.000075\n",
       "17시~18시 유동인구 비율     0.000075\n",
       "04시~05시 유동인구        1.195195\n",
       "03시~04시 유동인구        1.242619\n",
       "05시~06시 유동인구        1.437865\n",
       "02시~03시 유동인구        1.572813\n",
       "01시~02시 유동인구        1.914730\n",
       "06시~07시 유동인구        2.244195\n",
       "00시~01시 유동인구        2.616616\n",
       "23시~00시 유동인구        3.555340\n",
       "07시~08시 유동인구        4.308566\n",
       "22시~23시 유동인구        5.199883\n",
       "08시~09시 유동인구        7.302535\n",
       "21시~22시 유동인구        7.517736\n",
       "20시~21시 유동인구        9.006330\n",
       "09시~10시 유동인구       10.556918\n",
       "19시~20시 유동인구       11.058569\n",
       "10시~11시 유동인구       12.434554\n",
       "14시~15시 유동인구       13.161156\n",
       "15시~16시 유동인구       13.277191\n",
       "12시~13시 유동인구       13.311738\n",
       "13시~14시 유동인구       13.315546\n",
       "11시~12시 유동인구       13.325671\n",
       "16시~17시 유동인구       13.675916\n",
       "18시~19시 유동인구       14.472075\n",
       "17시~18시 유동인구       14.826864\n",
       "Name: mean, dtype: float64"
      ]
     },
     "execution_count": 17,
     "metadata": {
      "tags": []
     },
     "output_type": "execute_result"
    }
   ],
   "source": [
    "file1.describe().transpose()['mean'].sort_values()"
   ]
  },
  {
   "cell_type": "code",
   "execution_count": null,
   "metadata": {
    "id": "5k_AslNFuPKp"
   },
   "outputs": [],
   "source": [
    "file1 = file1.loc[:, ['격자 좌표(250m)', '14시~15시 유동인구']]\n",
    "file1.rename(columns={'격자 좌표(250m)': '격자좌표', '14시~15시 유동인구':'0131유동인구'}, inplace=True)"
   ]
  },
  {
   "cell_type": "code",
   "execution_count": null,
   "metadata": {
    "colab": {
     "base_uri": "https://localhost:8080/",
     "height": 414
    },
    "executionInfo": {
     "elapsed": 269,
     "status": "ok",
     "timestamp": 1628144929626,
     "user": {
      "displayName": "Jinyou Kim",
      "photoUrl": "",
      "userId": "13762645804023943081"
     },
     "user_tz": -540
    },
    "id": "2ArFBSm3xdZL",
    "outputId": "ca12daf5-8caf-40c1-f4a0-cff44f3c28da"
   },
   "outputs": [
    {
     "data": {
      "text/html": [
       "<div>\n",
       "<style scoped>\n",
       "    .dataframe tbody tr th:only-of-type {\n",
       "        vertical-align: middle;\n",
       "    }\n",
       "\n",
       "    .dataframe tbody tr th {\n",
       "        vertical-align: top;\n",
       "    }\n",
       "\n",
       "    .dataframe thead th {\n",
       "        text-align: right;\n",
       "    }\n",
       "</style>\n",
       "<table border=\"1\" class=\"dataframe\">\n",
       "  <thead>\n",
       "    <tr style=\"text-align: right;\">\n",
       "      <th></th>\n",
       "      <th>격자좌표</th>\n",
       "      <th>0131유동인구</th>\n",
       "    </tr>\n",
       "  </thead>\n",
       "  <tbody>\n",
       "    <tr>\n",
       "      <th>0</th>\n",
       "      <td>다다06B00C</td>\n",
       "      <td>1003.061613</td>\n",
       "    </tr>\n",
       "    <tr>\n",
       "      <th>1</th>\n",
       "      <td>다다06C00C</td>\n",
       "      <td>164.109032</td>\n",
       "    </tr>\n",
       "    <tr>\n",
       "      <th>2</th>\n",
       "      <td>다나05B99A</td>\n",
       "      <td>163.104194</td>\n",
       "    </tr>\n",
       "    <tr>\n",
       "      <th>3</th>\n",
       "      <td>다다05B00C</td>\n",
       "      <td>589.288064</td>\n",
       "    </tr>\n",
       "    <tr>\n",
       "      <th>4</th>\n",
       "      <td>다다05C00D</td>\n",
       "      <td>227.062581</td>\n",
       "    </tr>\n",
       "    <tr>\n",
       "      <th>...</th>\n",
       "      <td>...</td>\n",
       "      <td>...</td>\n",
       "    </tr>\n",
       "    <tr>\n",
       "      <th>13360</th>\n",
       "      <td>다다28B00B</td>\n",
       "      <td>0.386452</td>\n",
       "    </tr>\n",
       "    <tr>\n",
       "      <th>13361</th>\n",
       "      <td>다다48D01A</td>\n",
       "      <td>0.091613</td>\n",
       "    </tr>\n",
       "    <tr>\n",
       "      <th>13362</th>\n",
       "      <td>다나20C98A</td>\n",
       "      <td>0.054194</td>\n",
       "    </tr>\n",
       "    <tr>\n",
       "      <th>13363</th>\n",
       "      <td>다다48C00B</td>\n",
       "      <td>0.079677</td>\n",
       "    </tr>\n",
       "    <tr>\n",
       "      <th>13364</th>\n",
       "      <td>나나96B96D</td>\n",
       "      <td>0.116129</td>\n",
       "    </tr>\n",
       "  </tbody>\n",
       "</table>\n",
       "<p>13365 rows × 2 columns</p>\n",
       "</div>"
      ],
      "text/plain": [
       "           격자좌표     0131유동인구\n",
       "0      다다06B00C  1003.061613\n",
       "1      다다06C00C   164.109032\n",
       "2      다나05B99A   163.104194\n",
       "3      다다05B00C   589.288064\n",
       "4      다다05C00D   227.062581\n",
       "...         ...          ...\n",
       "13360  다다28B00B     0.386452\n",
       "13361  다다48D01A     0.091613\n",
       "13362  다나20C98A     0.054194\n",
       "13363  다다48C00B     0.079677\n",
       "13364  나나96B96D     0.116129\n",
       "\n",
       "[13365 rows x 2 columns]"
      ]
     },
     "execution_count": 19,
     "metadata": {
      "tags": []
     },
     "output_type": "execute_result"
    }
   ],
   "source": [
    "file1"
   ]
  },
  {
   "cell_type": "code",
   "execution_count": null,
   "metadata": {
    "id": "ErjMHDgDxVDr"
   },
   "outputs": [],
   "source": [
    "file2 = file2.loc[:, ['지번코드', '14시~15시 유동인구']]\n",
    "file2.rename(columns={'지번코드': '격자좌표', '14시~15시 유동인구':'1031유동인구'}, inplace=True)"
   ]
  },
  {
   "cell_type": "code",
   "execution_count": null,
   "metadata": {
    "colab": {
     "base_uri": "https://localhost:8080/",
     "height": 414
    },
    "executionInfo": {
     "elapsed": 5,
     "status": "ok",
     "timestamp": 1628144930326,
     "user": {
      "displayName": "Jinyou Kim",
      "photoUrl": "",
      "userId": "13762645804023943081"
     },
     "user_tz": -540
    },
    "id": "skGNq7fMxWZp",
    "outputId": "e9d3eeff-9736-4161-cc02-d1f726d904b1"
   },
   "outputs": [
    {
     "data": {
      "text/html": [
       "<div>\n",
       "<style scoped>\n",
       "    .dataframe tbody tr th:only-of-type {\n",
       "        vertical-align: middle;\n",
       "    }\n",
       "\n",
       "    .dataframe tbody tr th {\n",
       "        vertical-align: top;\n",
       "    }\n",
       "\n",
       "    .dataframe thead th {\n",
       "        text-align: right;\n",
       "    }\n",
       "</style>\n",
       "<table border=\"1\" class=\"dataframe\">\n",
       "  <thead>\n",
       "    <tr style=\"text-align: right;\">\n",
       "      <th></th>\n",
       "      <th>격자좌표</th>\n",
       "      <th>1031유동인구</th>\n",
       "    </tr>\n",
       "  </thead>\n",
       "  <tbody>\n",
       "    <tr>\n",
       "      <th>0</th>\n",
       "      <td>다다10C02A</td>\n",
       "      <td>153.36</td>\n",
       "    </tr>\n",
       "    <tr>\n",
       "      <th>1</th>\n",
       "      <td>다다09A03C</td>\n",
       "      <td>196.37</td>\n",
       "    </tr>\n",
       "    <tr>\n",
       "      <th>2</th>\n",
       "      <td>다다09D02C</td>\n",
       "      <td>395.62</td>\n",
       "    </tr>\n",
       "    <tr>\n",
       "      <th>3</th>\n",
       "      <td>다다09D02D</td>\n",
       "      <td>185.97</td>\n",
       "    </tr>\n",
       "    <tr>\n",
       "      <th>4</th>\n",
       "      <td>다다09C02C</td>\n",
       "      <td>424.63</td>\n",
       "    </tr>\n",
       "    <tr>\n",
       "      <th>...</th>\n",
       "      <td>...</td>\n",
       "      <td>...</td>\n",
       "    </tr>\n",
       "    <tr>\n",
       "      <th>16681</th>\n",
       "      <td>나나91B72B</td>\n",
       "      <td>0.50</td>\n",
       "    </tr>\n",
       "    <tr>\n",
       "      <th>16682</th>\n",
       "      <td>나나90C74A</td>\n",
       "      <td>0.81</td>\n",
       "    </tr>\n",
       "    <tr>\n",
       "      <th>16683</th>\n",
       "      <td>나나87D71A</td>\n",
       "      <td>0.76</td>\n",
       "    </tr>\n",
       "    <tr>\n",
       "      <th>16684</th>\n",
       "      <td>나나94B74C</td>\n",
       "      <td>0.66</td>\n",
       "    </tr>\n",
       "    <tr>\n",
       "      <th>16685</th>\n",
       "      <td>나나92B83A</td>\n",
       "      <td>0.60</td>\n",
       "    </tr>\n",
       "  </tbody>\n",
       "</table>\n",
       "<p>16686 rows × 2 columns</p>\n",
       "</div>"
      ],
      "text/plain": [
       "           격자좌표  1031유동인구\n",
       "0      다다10C02A    153.36\n",
       "1      다다09A03C    196.37\n",
       "2      다다09D02C    395.62\n",
       "3      다다09D02D    185.97\n",
       "4      다다09C02C    424.63\n",
       "...         ...       ...\n",
       "16681  나나91B72B      0.50\n",
       "16682  나나90C74A      0.81\n",
       "16683  나나87D71A      0.76\n",
       "16684  나나94B74C      0.66\n",
       "16685  나나92B83A      0.60\n",
       "\n",
       "[16686 rows x 2 columns]"
      ]
     },
     "execution_count": 21,
     "metadata": {
      "tags": []
     },
     "output_type": "execute_result"
    }
   ],
   "source": [
    "file2"
   ]
  },
  {
   "cell_type": "code",
   "execution_count": null,
   "metadata": {
    "id": "27AmGRDDyNiY"
   },
   "outputs": [],
   "source": [
    "dataset = pd.merge(file1, file2, on='격자좌표')"
   ]
  },
  {
   "cell_type": "code",
   "execution_count": null,
   "metadata": {
    "colab": {
     "base_uri": "https://localhost:8080/",
     "height": 414
    },
    "executionInfo": {
     "elapsed": 7,
     "status": "ok",
     "timestamp": 1628144934649,
     "user": {
      "displayName": "Jinyou Kim",
      "photoUrl": "",
      "userId": "13762645804023943081"
     },
     "user_tz": -540
    },
    "id": "mStaT0XEyWpW",
    "outputId": "dff6f073-adec-4b2b-9bbc-75f84d60c830"
   },
   "outputs": [
    {
     "data": {
      "text/html": [
       "<div>\n",
       "<style scoped>\n",
       "    .dataframe tbody tr th:only-of-type {\n",
       "        vertical-align: middle;\n",
       "    }\n",
       "\n",
       "    .dataframe tbody tr th {\n",
       "        vertical-align: top;\n",
       "    }\n",
       "\n",
       "    .dataframe thead th {\n",
       "        text-align: right;\n",
       "    }\n",
       "</style>\n",
       "<table border=\"1\" class=\"dataframe\">\n",
       "  <thead>\n",
       "    <tr style=\"text-align: right;\">\n",
       "      <th></th>\n",
       "      <th>격자좌표</th>\n",
       "      <th>0131유동인구</th>\n",
       "      <th>1031유동인구</th>\n",
       "    </tr>\n",
       "  </thead>\n",
       "  <tbody>\n",
       "    <tr>\n",
       "      <th>0</th>\n",
       "      <td>다다06B00C</td>\n",
       "      <td>1003.061613</td>\n",
       "      <td>572.16</td>\n",
       "    </tr>\n",
       "    <tr>\n",
       "      <th>1</th>\n",
       "      <td>다다06C00C</td>\n",
       "      <td>164.109032</td>\n",
       "      <td>158.71</td>\n",
       "    </tr>\n",
       "    <tr>\n",
       "      <th>2</th>\n",
       "      <td>다나05B99A</td>\n",
       "      <td>163.104194</td>\n",
       "      <td>225.12</td>\n",
       "    </tr>\n",
       "    <tr>\n",
       "      <th>3</th>\n",
       "      <td>다다05B00C</td>\n",
       "      <td>589.288064</td>\n",
       "      <td>382.08</td>\n",
       "    </tr>\n",
       "    <tr>\n",
       "      <th>4</th>\n",
       "      <td>다다05C00D</td>\n",
       "      <td>227.062581</td>\n",
       "      <td>162.91</td>\n",
       "    </tr>\n",
       "    <tr>\n",
       "      <th>...</th>\n",
       "      <td>...</td>\n",
       "      <td>...</td>\n",
       "      <td>...</td>\n",
       "    </tr>\n",
       "    <tr>\n",
       "      <th>13319</th>\n",
       "      <td>다다28B00B</td>\n",
       "      <td>0.386452</td>\n",
       "      <td>0.34</td>\n",
       "    </tr>\n",
       "    <tr>\n",
       "      <th>13320</th>\n",
       "      <td>다다48D01A</td>\n",
       "      <td>0.091613</td>\n",
       "      <td>1.76</td>\n",
       "    </tr>\n",
       "    <tr>\n",
       "      <th>13321</th>\n",
       "      <td>다나20C98A</td>\n",
       "      <td>0.054194</td>\n",
       "      <td>0.04</td>\n",
       "    </tr>\n",
       "    <tr>\n",
       "      <th>13322</th>\n",
       "      <td>다다48C00B</td>\n",
       "      <td>0.079677</td>\n",
       "      <td>0.12</td>\n",
       "    </tr>\n",
       "    <tr>\n",
       "      <th>13323</th>\n",
       "      <td>나나96B96D</td>\n",
       "      <td>0.116129</td>\n",
       "      <td>1.42</td>\n",
       "    </tr>\n",
       "  </tbody>\n",
       "</table>\n",
       "<p>13324 rows × 3 columns</p>\n",
       "</div>"
      ],
      "text/plain": [
       "           격자좌표     0131유동인구  1031유동인구\n",
       "0      다다06B00C  1003.061613    572.16\n",
       "1      다다06C00C   164.109032    158.71\n",
       "2      다나05B99A   163.104194    225.12\n",
       "3      다다05B00C   589.288064    382.08\n",
       "4      다다05C00D   227.062581    162.91\n",
       "...         ...          ...       ...\n",
       "13319  다다28B00B     0.386452      0.34\n",
       "13320  다다48D01A     0.091613      1.76\n",
       "13321  다나20C98A     0.054194      0.04\n",
       "13322  다다48C00B     0.079677      0.12\n",
       "13323  나나96B96D     0.116129      1.42\n",
       "\n",
       "[13324 rows x 3 columns]"
      ]
     },
     "execution_count": 23,
     "metadata": {
      "tags": []
     },
     "output_type": "execute_result"
    }
   ],
   "source": [
    "dataset"
   ]
  },
  {
   "cell_type": "code",
   "execution_count": null,
   "metadata": {
    "id": "BIT0ZYrDu6wZ"
   },
   "outputs": [],
   "source": [
    "gyukja.rename(columns={'가로좌표 (X Coord)': '가로좌표', '세로좌표 (Y Coord)':'세로좌표', '국가지점좌표계250키(SPO_NO_250)':'격자좌표'}, inplace=True)"
   ]
  },
  {
   "cell_type": "code",
   "execution_count": null,
   "metadata": {
    "id": "Drv-sHRAwfja"
   },
   "outputs": [],
   "source": [
    "dataset2 = pd.merge(dataset, gyukja, on='격자좌표')"
   ]
  },
  {
   "cell_type": "code",
   "execution_count": null,
   "metadata": {
    "id": "xr_yw55Pw9iX"
   },
   "outputs": [],
   "source": [
    "dataset2.drop('격자좌표', axis=1, inplace=True)"
   ]
  },
  {
   "cell_type": "code",
   "execution_count": null,
   "metadata": {
    "colab": {
     "base_uri": "https://localhost:8080/",
     "height": 414
    },
    "executionInfo": {
     "elapsed": 6,
     "status": "ok",
     "timestamp": 1628144937078,
     "user": {
      "displayName": "Jinyou Kim",
      "photoUrl": "",
      "userId": "13762645804023943081"
     },
     "user_tz": -540
    },
    "id": "iB6K88Wrym1m",
    "outputId": "2f977ae0-8c30-403e-814d-05c06882935e"
   },
   "outputs": [
    {
     "data": {
      "text/html": [
       "<div>\n",
       "<style scoped>\n",
       "    .dataframe tbody tr th:only-of-type {\n",
       "        vertical-align: middle;\n",
       "    }\n",
       "\n",
       "    .dataframe tbody tr th {\n",
       "        vertical-align: top;\n",
       "    }\n",
       "\n",
       "    .dataframe thead th {\n",
       "        text-align: right;\n",
       "    }\n",
       "</style>\n",
       "<table border=\"1\" class=\"dataframe\">\n",
       "  <thead>\n",
       "    <tr style=\"text-align: right;\">\n",
       "      <th></th>\n",
       "      <th>0131유동인구</th>\n",
       "      <th>1031유동인구</th>\n",
       "      <th>가로좌표</th>\n",
       "      <th>세로좌표</th>\n",
       "    </tr>\n",
       "  </thead>\n",
       "  <tbody>\n",
       "    <tr>\n",
       "      <th>0</th>\n",
       "      <td>1003.061613</td>\n",
       "      <td>572.16</td>\n",
       "      <td>906625.0001</td>\n",
       "      <td>1500375</td>\n",
       "    </tr>\n",
       "    <tr>\n",
       "      <th>1</th>\n",
       "      <td>164.109032</td>\n",
       "      <td>158.71</td>\n",
       "      <td>906625.0001</td>\n",
       "      <td>1500625</td>\n",
       "    </tr>\n",
       "    <tr>\n",
       "      <th>2</th>\n",
       "      <td>163.104194</td>\n",
       "      <td>225.12</td>\n",
       "      <td>905125.0001</td>\n",
       "      <td>1499375</td>\n",
       "    </tr>\n",
       "    <tr>\n",
       "      <th>3</th>\n",
       "      <td>589.288064</td>\n",
       "      <td>382.08</td>\n",
       "      <td>905625.0001</td>\n",
       "      <td>1500375</td>\n",
       "    </tr>\n",
       "    <tr>\n",
       "      <th>4</th>\n",
       "      <td>227.062581</td>\n",
       "      <td>162.91</td>\n",
       "      <td>905875.0001</td>\n",
       "      <td>1500625</td>\n",
       "    </tr>\n",
       "    <tr>\n",
       "      <th>...</th>\n",
       "      <td>...</td>\n",
       "      <td>...</td>\n",
       "      <td>...</td>\n",
       "      <td>...</td>\n",
       "    </tr>\n",
       "    <tr>\n",
       "      <th>13319</th>\n",
       "      <td>0.386452</td>\n",
       "      <td>0.34</td>\n",
       "      <td>928375.0001</td>\n",
       "      <td>1500375</td>\n",
       "    </tr>\n",
       "    <tr>\n",
       "      <th>13320</th>\n",
       "      <td>0.091613</td>\n",
       "      <td>1.76</td>\n",
       "      <td>948125.0001</td>\n",
       "      <td>1501875</td>\n",
       "    </tr>\n",
       "    <tr>\n",
       "      <th>13321</th>\n",
       "      <td>0.054194</td>\n",
       "      <td>0.04</td>\n",
       "      <td>920125.0001</td>\n",
       "      <td>1498625</td>\n",
       "    </tr>\n",
       "    <tr>\n",
       "      <th>13322</th>\n",
       "      <td>0.079677</td>\n",
       "      <td>0.12</td>\n",
       "      <td>948375.0001</td>\n",
       "      <td>1500625</td>\n",
       "    </tr>\n",
       "    <tr>\n",
       "      <th>13323</th>\n",
       "      <td>0.116129</td>\n",
       "      <td>1.42</td>\n",
       "      <td>896875.0001</td>\n",
       "      <td>1496375</td>\n",
       "    </tr>\n",
       "  </tbody>\n",
       "</table>\n",
       "<p>13324 rows × 4 columns</p>\n",
       "</div>"
      ],
      "text/plain": [
       "          0131유동인구  1031유동인구         가로좌표     세로좌표\n",
       "0      1003.061613    572.16  906625.0001  1500375\n",
       "1       164.109032    158.71  906625.0001  1500625\n",
       "2       163.104194    225.12  905125.0001  1499375\n",
       "3       589.288064    382.08  905625.0001  1500375\n",
       "4       227.062581    162.91  905875.0001  1500625\n",
       "...            ...       ...          ...      ...\n",
       "13319     0.386452      0.34  928375.0001  1500375\n",
       "13320     0.091613      1.76  948125.0001  1501875\n",
       "13321     0.054194      0.04  920125.0001  1498625\n",
       "13322     0.079677      0.12  948375.0001  1500625\n",
       "13323     0.116129      1.42  896875.0001  1496375\n",
       "\n",
       "[13324 rows x 4 columns]"
      ]
     },
     "execution_count": 27,
     "metadata": {
      "tags": []
     },
     "output_type": "execute_result"
    }
   ],
   "source": [
    "dataset2"
   ]
  },
  {
   "cell_type": "code",
   "execution_count": null,
   "metadata": {
    "colab": {
     "base_uri": "https://localhost:8080/"
    },
    "executionInfo": {
     "elapsed": 4400,
     "status": "ok",
     "timestamp": 1627991653287,
     "user": {
      "displayName": "Jinyou Kim",
      "photoUrl": "",
      "userId": "13762645804023943081"
     },
     "user_tz": -540
    },
    "id": "tqN-HMW43IEa",
    "outputId": "03a79788-1d04-462f-d825-7904f2fdde63"
   },
   "outputs": [
    {
     "name": "stdout",
     "output_type": "stream",
     "text": [
      "Requirement already satisfied: pyproj in /usr/local/lib/python3.7/dist-packages (3.1.0)\n",
      "Requirement already satisfied: certifi in /usr/local/lib/python3.7/dist-packages (from pyproj) (2021.5.30)\n",
      "\u001b[31mERROR: Could not find a version that satisfies the requirement Porj (from versions: none)\u001b[0m\n",
      "\u001b[31mERROR: No matching distribution found for Porj\u001b[0m\n"
     ]
    }
   ],
   "source": [
    "!pip install pyproj"
   ]
  },
  {
   "cell_type": "code",
   "execution_count": null,
   "metadata": {
    "id": "9L2VqZl1yyj0"
   },
   "outputs": [],
   "source": [
    "import folium as f\n",
    "from pyproj import Proj, transform"
   ]
  },
  {
   "cell_type": "code",
   "execution_count": null,
   "metadata": {
    "colab": {
     "base_uri": "https://localhost:8080/"
    },
    "executionInfo": {
     "elapsed": 302,
     "status": "ok",
     "timestamp": 1627995595868,
     "user": {
      "displayName": "Jinyou Kim",
      "photoUrl": "",
      "userId": "13762645804023943081"
     },
     "user_tz": -540
    },
    "id": "Yq0nW1rKzgPd",
    "outputId": "107cb78d-1530-490e-bb1a-6ab23aa3622b"
   },
   "outputs": [
    {
     "name": "stderr",
     "output_type": "stream",
     "text": [
      "/usr/local/lib/python3.7/dist-packages/pyproj/crs/crs.py:68: FutureWarning: '+init=<authority>:<code>' syntax is deprecated. '<authority>:<code>' is the preferred initialization method. When making the change, be mindful of axis order changes: https://pyproj4.github.io/pyproj/stable/gotchas.html#axis-order-changes-in-proj-6\n",
      "  return _prepare_from_string(\" \".join(pjargs))\n",
      "/usr/local/lib/python3.7/dist-packages/pyproj/crs/crs.py:306: FutureWarning: '+init=<authority>:<code>' syntax is deprecated. '<authority>:<code>' is the preferred initialization method. When making the change, be mindful of axis order changes: https://pyproj4.github.io/pyproj/stable/gotchas.html#axis-order-changes-in-proj-6\n",
      "  projstring = _prepare_from_string(\" \".join((projstring, projkwargs)))\n",
      "/usr/local/lib/python3.7/dist-packages/pyproj/crs/crs.py:68: FutureWarning: '+init=<authority>:<code>' syntax is deprecated. '<authority>:<code>' is the preferred initialization method. When making the change, be mindful of axis order changes: https://pyproj4.github.io/pyproj/stable/gotchas.html#axis-order-changes-in-proj-6\n",
      "  return _prepare_from_string(\" \".join(pjargs))\n",
      "/usr/local/lib/python3.7/dist-packages/pyproj/crs/crs.py:306: FutureWarning: '+init=<authority>:<code>' syntax is deprecated. '<authority>:<code>' is the preferred initialization method. When making the change, be mindful of axis order changes: https://pyproj4.github.io/pyproj/stable/gotchas.html#axis-order-changes-in-proj-6\n",
      "  projstring = _prepare_from_string(\" \".join((projstring, projkwargs)))\n"
     ]
    }
   ],
   "source": [
    "# Projection 정의\n",
    "# 중부원점(Bessel): 서울 등 중부지역 EPSG:2097\n",
    "proj_1 = Proj(init='epsg:5178')\n",
    "\n",
    "# WGS84 경위도: GPS가 사용하는 좌표계 EPSG:4326\n",
    "proj_2 = Proj(init='epsg:4326')"
   ]
  },
  {
   "cell_type": "code",
   "execution_count": null,
   "metadata": {
    "colab": {
     "base_uri": "https://localhost:8080/"
    },
    "executionInfo": {
     "elapsed": 1407683,
     "status": "ok",
     "timestamp": 1627997125106,
     "user": {
      "displayName": "Jinyou Kim",
      "photoUrl": "",
      "userId": "13762645804023943081"
     },
     "user_tz": -540
    },
    "id": "duuyDdC84Dhh",
    "outputId": "adb8ef21-3808-417e-ae72-381a41a1065a"
   },
   "outputs": [
    {
     "name": "stderr",
     "output_type": "stream",
     "text": [
      "/usr/local/lib/python3.7/dist-packages/ipykernel_launcher.py:8: DeprecationWarning: This function is deprecated. See: https://pyproj4.github.io/pyproj/stable/gotchas.html#upgrading-to-pyproj-2-from-pyproj-1\n",
      "  \n"
     ]
    }
   ],
   "source": [
    "DataFrame = dataset2.copy()\n",
    "\n",
    "x_list = []\n",
    "y_list = []\n",
    "\n",
    "for idx, row in DataFrame.iterrows():\n",
    "    x, y = row['가로좌표'], row['세로좌표']\n",
    "    x_, y_ = transform(proj_1, proj_2, x, y)\n",
    "    x_list.append(x_)\n",
    "    y_list.append(y_)\n",
    "    \n",
    "dataset2['lon'] = x_list\n",
    "dataset2['lat'] = y_list"
   ]
  },
  {
   "cell_type": "code",
   "execution_count": null,
   "metadata": {
    "colab": {
     "base_uri": "https://localhost:8080/",
     "height": 414
    },
    "executionInfo": {
     "elapsed": 237,
     "status": "ok",
     "timestamp": 1627997195108,
     "user": {
      "displayName": "Jinyou Kim",
      "photoUrl": "",
      "userId": "13762645804023943081"
     },
     "user_tz": -540
    },
    "id": "-z1hR7bqFpJi",
    "outputId": "ec7800f6-b296-404b-fdbc-2c27c8a9cc16"
   },
   "outputs": [
    {
     "data": {
      "text/html": [
       "<div>\n",
       "<style scoped>\n",
       "    .dataframe tbody tr th:only-of-type {\n",
       "        vertical-align: middle;\n",
       "    }\n",
       "\n",
       "    .dataframe tbody tr th {\n",
       "        vertical-align: top;\n",
       "    }\n",
       "\n",
       "    .dataframe thead th {\n",
       "        text-align: right;\n",
       "    }\n",
       "</style>\n",
       "<table border=\"1\" class=\"dataframe\">\n",
       "  <thead>\n",
       "    <tr style=\"text-align: right;\">\n",
       "      <th></th>\n",
       "      <th>0131유동인구</th>\n",
       "      <th>1031유동인구</th>\n",
       "      <th>가로좌표</th>\n",
       "      <th>세로좌표</th>\n",
       "      <th>lon</th>\n",
       "      <th>lat</th>\n",
       "    </tr>\n",
       "  </thead>\n",
       "  <tbody>\n",
       "    <tr>\n",
       "      <th>0</th>\n",
       "      <td>1003.061613</td>\n",
       "      <td>572.16</td>\n",
       "      <td>906625.0001</td>\n",
       "      <td>1500375</td>\n",
       "      <td>126.492711</td>\n",
       "      <td>33.493925</td>\n",
       "    </tr>\n",
       "    <tr>\n",
       "      <th>1</th>\n",
       "      <td>164.109032</td>\n",
       "      <td>158.71</td>\n",
       "      <td>906625.0001</td>\n",
       "      <td>1500625</td>\n",
       "      <td>126.492685</td>\n",
       "      <td>33.496180</td>\n",
       "    </tr>\n",
       "    <tr>\n",
       "      <th>2</th>\n",
       "      <td>163.104194</td>\n",
       "      <td>225.12</td>\n",
       "      <td>905125.0001</td>\n",
       "      <td>1499375</td>\n",
       "      <td>126.476672</td>\n",
       "      <td>33.484775</td>\n",
       "    </tr>\n",
       "    <tr>\n",
       "      <th>3</th>\n",
       "      <td>589.288064</td>\n",
       "      <td>382.08</td>\n",
       "      <td>905625.0001</td>\n",
       "      <td>1500375</td>\n",
       "      <td>126.481948</td>\n",
       "      <td>33.493837</td>\n",
       "    </tr>\n",
       "    <tr>\n",
       "      <th>4</th>\n",
       "      <td>227.062581</td>\n",
       "      <td>162.91</td>\n",
       "      <td>905875.0001</td>\n",
       "      <td>1500625</td>\n",
       "      <td>126.484612</td>\n",
       "      <td>33.496114</td>\n",
       "    </tr>\n",
       "    <tr>\n",
       "      <th>...</th>\n",
       "      <td>...</td>\n",
       "      <td>...</td>\n",
       "      <td>...</td>\n",
       "      <td>...</td>\n",
       "      <td>...</td>\n",
       "      <td>...</td>\n",
       "    </tr>\n",
       "    <tr>\n",
       "      <th>13319</th>\n",
       "      <td>0.386452</td>\n",
       "      <td>0.34</td>\n",
       "      <td>928375.0001</td>\n",
       "      <td>1500375</td>\n",
       "      <td>126.726827</td>\n",
       "      <td>33.495604</td>\n",
       "    </tr>\n",
       "    <tr>\n",
       "      <th>13320</th>\n",
       "      <td>0.091613</td>\n",
       "      <td>1.76</td>\n",
       "      <td>948125.0001</td>\n",
       "      <td>1501875</td>\n",
       "      <td>126.939343</td>\n",
       "      <td>33.510274</td>\n",
       "    </tr>\n",
       "    <tr>\n",
       "      <th>13321</th>\n",
       "      <td>0.054194</td>\n",
       "      <td>0.04</td>\n",
       "      <td>920125.0001</td>\n",
       "      <td>1498625</td>\n",
       "      <td>126.638178</td>\n",
       "      <td>33.479237</td>\n",
       "    </tr>\n",
       "    <tr>\n",
       "      <th>13322</th>\n",
       "      <td>0.079677</td>\n",
       "      <td>0.12</td>\n",
       "      <td>948375.0001</td>\n",
       "      <td>1500625</td>\n",
       "      <td>126.942107</td>\n",
       "      <td>33.499012</td>\n",
       "    </tr>\n",
       "    <tr>\n",
       "      <th>13323</th>\n",
       "      <td>0.116129</td>\n",
       "      <td>1.42</td>\n",
       "      <td>896875.0001</td>\n",
       "      <td>1496375</td>\n",
       "      <td>126.388229</td>\n",
       "      <td>33.456957</td>\n",
       "    </tr>\n",
       "  </tbody>\n",
       "</table>\n",
       "<p>13324 rows × 6 columns</p>\n",
       "</div>"
      ],
      "text/plain": [
       "          0131유동인구  1031유동인구         가로좌표     세로좌표         lon        lat\n",
       "0      1003.061613    572.16  906625.0001  1500375  126.492711  33.493925\n",
       "1       164.109032    158.71  906625.0001  1500625  126.492685  33.496180\n",
       "2       163.104194    225.12  905125.0001  1499375  126.476672  33.484775\n",
       "3       589.288064    382.08  905625.0001  1500375  126.481948  33.493837\n",
       "4       227.062581    162.91  905875.0001  1500625  126.484612  33.496114\n",
       "...            ...       ...          ...      ...         ...        ...\n",
       "13319     0.386452      0.34  928375.0001  1500375  126.726827  33.495604\n",
       "13320     0.091613      1.76  948125.0001  1501875  126.939343  33.510274\n",
       "13321     0.054194      0.04  920125.0001  1498625  126.638178  33.479237\n",
       "13322     0.079677      0.12  948375.0001  1500625  126.942107  33.499012\n",
       "13323     0.116129      1.42  896875.0001  1496375  126.388229  33.456957\n",
       "\n",
       "[13324 rows x 6 columns]"
      ]
     },
     "execution_count": 91,
     "metadata": {
      "tags": []
     },
     "output_type": "execute_result"
    }
   ],
   "source": [
    "dataset2"
   ]
  },
  {
   "cell_type": "code",
   "execution_count": null,
   "metadata": {
    "colab": {
     "base_uri": "https://localhost:8080/"
    },
    "executionInfo": {
     "elapsed": 849,
     "status": "ok",
     "timestamp": 1627995425922,
     "user": {
      "displayName": "Jinyou Kim",
      "photoUrl": "",
      "userId": "13762645804023943081"
     },
     "user_tz": -540
    },
    "id": "zF41kXTSFm68",
    "outputId": "74362bab-f7fb-41ee-eee9-45868272935e"
   },
   "outputs": [
    {
     "name": "stderr",
     "output_type": "stream",
     "text": [
      "/usr/local/lib/python3.7/dist-packages/ipykernel_launcher.py:6: DeprecationWarning: This function is deprecated. See: https://pyproj4.github.io/pyproj/stable/gotchas.html#upgrading-to-pyproj-2-from-pyproj-1\n",
      "  \n"
     ]
    }
   ],
   "source": [
    "x_list = []\n",
    "y_list = []\n",
    "\n",
    "for idx, row in DataFrame[:5].iterrows():\n",
    "    x, y = row['세로좌표'], row['가로좌표']\n",
    "    x_, y_ = transform(proj_1, proj_2, x, y)"
   ]
  },
  {
   "cell_type": "code",
   "execution_count": null,
   "metadata": {
    "id": "_y-r_ZOu4Od0"
   },
   "outputs": [],
   "source": [
    "dataset2.to_csv(path + '1501_1510_위경도별유동인구.csv', index=False)"
   ]
  },
  {
   "cell_type": "code",
   "execution_count": null,
   "metadata": {
    "colab": {
     "base_uri": "https://localhost:8080/",
     "height": 414
    },
    "executionInfo": {
     "elapsed": 235,
     "status": "ok",
     "timestamp": 1627998767062,
     "user": {
      "displayName": "Jinyou Kim",
      "photoUrl": "",
      "userId": "13762645804023943081"
     },
     "user_tz": -540
    },
    "id": "m0jPSNLj9kOu",
    "outputId": "69d9e92d-c396-4fb5-fe16-6231f7ee2b48"
   },
   "outputs": [
    {
     "data": {
      "text/html": [
       "<div>\n",
       "<style scoped>\n",
       "    .dataframe tbody tr th:only-of-type {\n",
       "        vertical-align: middle;\n",
       "    }\n",
       "\n",
       "    .dataframe tbody tr th {\n",
       "        vertical-align: top;\n",
       "    }\n",
       "\n",
       "    .dataframe thead th {\n",
       "        text-align: right;\n",
       "    }\n",
       "</style>\n",
       "<table border=\"1\" class=\"dataframe\">\n",
       "  <thead>\n",
       "    <tr style=\"text-align: right;\">\n",
       "      <th></th>\n",
       "      <th>0131유동인구</th>\n",
       "      <th>1031유동인구</th>\n",
       "      <th>가로좌표</th>\n",
       "      <th>세로좌표</th>\n",
       "      <th>lon</th>\n",
       "      <th>lat</th>\n",
       "    </tr>\n",
       "  </thead>\n",
       "  <tbody>\n",
       "    <tr>\n",
       "      <th>0</th>\n",
       "      <td>1003.061613</td>\n",
       "      <td>572.16</td>\n",
       "      <td>906625.0001</td>\n",
       "      <td>1500375</td>\n",
       "      <td>126.492711</td>\n",
       "      <td>33.493925</td>\n",
       "    </tr>\n",
       "    <tr>\n",
       "      <th>1</th>\n",
       "      <td>164.109032</td>\n",
       "      <td>158.71</td>\n",
       "      <td>906625.0001</td>\n",
       "      <td>1500625</td>\n",
       "      <td>126.492685</td>\n",
       "      <td>33.496180</td>\n",
       "    </tr>\n",
       "    <tr>\n",
       "      <th>2</th>\n",
       "      <td>163.104194</td>\n",
       "      <td>225.12</td>\n",
       "      <td>905125.0001</td>\n",
       "      <td>1499375</td>\n",
       "      <td>126.476672</td>\n",
       "      <td>33.484775</td>\n",
       "    </tr>\n",
       "    <tr>\n",
       "      <th>3</th>\n",
       "      <td>589.288064</td>\n",
       "      <td>382.08</td>\n",
       "      <td>905625.0001</td>\n",
       "      <td>1500375</td>\n",
       "      <td>126.481948</td>\n",
       "      <td>33.493837</td>\n",
       "    </tr>\n",
       "    <tr>\n",
       "      <th>4</th>\n",
       "      <td>227.062581</td>\n",
       "      <td>162.91</td>\n",
       "      <td>905875.0001</td>\n",
       "      <td>1500625</td>\n",
       "      <td>126.484612</td>\n",
       "      <td>33.496114</td>\n",
       "    </tr>\n",
       "    <tr>\n",
       "      <th>...</th>\n",
       "      <td>...</td>\n",
       "      <td>...</td>\n",
       "      <td>...</td>\n",
       "      <td>...</td>\n",
       "      <td>...</td>\n",
       "      <td>...</td>\n",
       "    </tr>\n",
       "    <tr>\n",
       "      <th>13319</th>\n",
       "      <td>0.386452</td>\n",
       "      <td>0.34</td>\n",
       "      <td>928375.0001</td>\n",
       "      <td>1500375</td>\n",
       "      <td>126.726827</td>\n",
       "      <td>33.495604</td>\n",
       "    </tr>\n",
       "    <tr>\n",
       "      <th>13320</th>\n",
       "      <td>0.091613</td>\n",
       "      <td>1.76</td>\n",
       "      <td>948125.0001</td>\n",
       "      <td>1501875</td>\n",
       "      <td>126.939343</td>\n",
       "      <td>33.510274</td>\n",
       "    </tr>\n",
       "    <tr>\n",
       "      <th>13321</th>\n",
       "      <td>0.054194</td>\n",
       "      <td>0.04</td>\n",
       "      <td>920125.0001</td>\n",
       "      <td>1498625</td>\n",
       "      <td>126.638178</td>\n",
       "      <td>33.479237</td>\n",
       "    </tr>\n",
       "    <tr>\n",
       "      <th>13322</th>\n",
       "      <td>0.079677</td>\n",
       "      <td>0.12</td>\n",
       "      <td>948375.0001</td>\n",
       "      <td>1500625</td>\n",
       "      <td>126.942107</td>\n",
       "      <td>33.499012</td>\n",
       "    </tr>\n",
       "    <tr>\n",
       "      <th>13323</th>\n",
       "      <td>0.116129</td>\n",
       "      <td>1.42</td>\n",
       "      <td>896875.0001</td>\n",
       "      <td>1496375</td>\n",
       "      <td>126.388229</td>\n",
       "      <td>33.456957</td>\n",
       "    </tr>\n",
       "  </tbody>\n",
       "</table>\n",
       "<p>13324 rows × 6 columns</p>\n",
       "</div>"
      ],
      "text/plain": [
       "          0131유동인구  1031유동인구         가로좌표     세로좌표         lon        lat\n",
       "0      1003.061613    572.16  906625.0001  1500375  126.492711  33.493925\n",
       "1       164.109032    158.71  906625.0001  1500625  126.492685  33.496180\n",
       "2       163.104194    225.12  905125.0001  1499375  126.476672  33.484775\n",
       "3       589.288064    382.08  905625.0001  1500375  126.481948  33.493837\n",
       "4       227.062581    162.91  905875.0001  1500625  126.484612  33.496114\n",
       "...            ...       ...          ...      ...         ...        ...\n",
       "13319     0.386452      0.34  928375.0001  1500375  126.726827  33.495604\n",
       "13320     0.091613      1.76  948125.0001  1501875  126.939343  33.510274\n",
       "13321     0.054194      0.04  920125.0001  1498625  126.638178  33.479237\n",
       "13322     0.079677      0.12  948375.0001  1500625  126.942107  33.499012\n",
       "13323     0.116129      1.42  896875.0001  1496375  126.388229  33.456957\n",
       "\n",
       "[13324 rows x 6 columns]"
      ]
     },
     "execution_count": 101,
     "metadata": {
      "tags": []
     },
     "output_type": "execute_result"
    }
   ],
   "source": [
    "dataset2"
   ]
  },
  {
   "cell_type": "code",
   "execution_count": null,
   "metadata": {
    "id": "w9Ro4Vhw-Cav"
   },
   "outputs": [],
   "source": [
    "df = dataset2.copy()"
   ]
  },
  {
   "cell_type": "code",
   "execution_count": null,
   "metadata": {
    "id": "805TdkiS-LEP"
   },
   "outputs": [],
   "source": [
    "df.sort_values(by='0131유동인구', ascending=False).reset_index(inplace=True)"
   ]
  },
  {
   "cell_type": "code",
   "execution_count": null,
   "metadata": {
    "colab": {
     "base_uri": "https://localhost:8080/",
     "height": 662
    },
    "executionInfo": {
     "elapsed": 221,
     "status": "ok",
     "timestamp": 1627997219191,
     "user": {
      "displayName": "Jinyou Kim",
      "photoUrl": "",
      "userId": "13762645804023943081"
     },
     "user_tz": -540
    },
    "id": "C92NtOAe-sjS",
    "outputId": "0e34a068-9b62-42e2-b9bb-1b292a5f12ff"
   },
   "outputs": [
    {
     "data": {
      "text/html": [
       "<div>\n",
       "<style scoped>\n",
       "    .dataframe tbody tr th:only-of-type {\n",
       "        vertical-align: middle;\n",
       "    }\n",
       "\n",
       "    .dataframe tbody tr th {\n",
       "        vertical-align: top;\n",
       "    }\n",
       "\n",
       "    .dataframe thead th {\n",
       "        text-align: right;\n",
       "    }\n",
       "</style>\n",
       "<table border=\"1\" class=\"dataframe\">\n",
       "  <thead>\n",
       "    <tr style=\"text-align: right;\">\n",
       "      <th></th>\n",
       "      <th>0131유동인구</th>\n",
       "      <th>1031유동인구</th>\n",
       "      <th>가로좌표</th>\n",
       "      <th>세로좌표</th>\n",
       "      <th>lon</th>\n",
       "      <th>lat</th>\n",
       "    </tr>\n",
       "  </thead>\n",
       "  <tbody>\n",
       "    <tr>\n",
       "      <th>0</th>\n",
       "      <td>1003.061613</td>\n",
       "      <td>572.16</td>\n",
       "      <td>906625.0001</td>\n",
       "      <td>1500375</td>\n",
       "      <td>126.492711</td>\n",
       "      <td>33.493925</td>\n",
       "    </tr>\n",
       "    <tr>\n",
       "      <th>1</th>\n",
       "      <td>164.109032</td>\n",
       "      <td>158.71</td>\n",
       "      <td>906625.0001</td>\n",
       "      <td>1500625</td>\n",
       "      <td>126.492685</td>\n",
       "      <td>33.496180</td>\n",
       "    </tr>\n",
       "    <tr>\n",
       "      <th>2</th>\n",
       "      <td>163.104194</td>\n",
       "      <td>225.12</td>\n",
       "      <td>905125.0001</td>\n",
       "      <td>1499375</td>\n",
       "      <td>126.476672</td>\n",
       "      <td>33.484775</td>\n",
       "    </tr>\n",
       "    <tr>\n",
       "      <th>3</th>\n",
       "      <td>589.288064</td>\n",
       "      <td>382.08</td>\n",
       "      <td>905625.0001</td>\n",
       "      <td>1500375</td>\n",
       "      <td>126.481948</td>\n",
       "      <td>33.493837</td>\n",
       "    </tr>\n",
       "    <tr>\n",
       "      <th>4</th>\n",
       "      <td>227.062581</td>\n",
       "      <td>162.91</td>\n",
       "      <td>905875.0001</td>\n",
       "      <td>1500625</td>\n",
       "      <td>126.484612</td>\n",
       "      <td>33.496114</td>\n",
       "    </tr>\n",
       "    <tr>\n",
       "      <th>5</th>\n",
       "      <td>496.523871</td>\n",
       "      <td>395.20</td>\n",
       "      <td>906375.0001</td>\n",
       "      <td>1500375</td>\n",
       "      <td>126.490020</td>\n",
       "      <td>33.493903</td>\n",
       "    </tr>\n",
       "    <tr>\n",
       "      <th>6</th>\n",
       "      <td>165.781613</td>\n",
       "      <td>152.67</td>\n",
       "      <td>908625.0001</td>\n",
       "      <td>1502375</td>\n",
       "      <td>126.514034</td>\n",
       "      <td>33.512134</td>\n",
       "    </tr>\n",
       "    <tr>\n",
       "      <th>7</th>\n",
       "      <td>69.073548</td>\n",
       "      <td>24.88</td>\n",
       "      <td>908375.0001</td>\n",
       "      <td>1503125</td>\n",
       "      <td>126.511266</td>\n",
       "      <td>33.518877</td>\n",
       "    </tr>\n",
       "    <tr>\n",
       "      <th>8</th>\n",
       "      <td>90.465484</td>\n",
       "      <td>66.27</td>\n",
       "      <td>907375.0001</td>\n",
       "      <td>1503125</td>\n",
       "      <td>126.500499</td>\n",
       "      <td>33.518790</td>\n",
       "    </tr>\n",
       "    <tr>\n",
       "      <th>9</th>\n",
       "      <td>85.765484</td>\n",
       "      <td>97.61</td>\n",
       "      <td>908125.0001</td>\n",
       "      <td>1502125</td>\n",
       "      <td>126.508677</td>\n",
       "      <td>33.509837</td>\n",
       "    </tr>\n",
       "    <tr>\n",
       "      <th>10</th>\n",
       "      <td>54.247419</td>\n",
       "      <td>26.84</td>\n",
       "      <td>907375.0001</td>\n",
       "      <td>1502625</td>\n",
       "      <td>126.500551</td>\n",
       "      <td>33.514281</td>\n",
       "    </tr>\n",
       "    <tr>\n",
       "      <th>11</th>\n",
       "      <td>193.300968</td>\n",
       "      <td>185.55</td>\n",
       "      <td>908875.0001</td>\n",
       "      <td>1502625</td>\n",
       "      <td>126.516700</td>\n",
       "      <td>33.514410</td>\n",
       "    </tr>\n",
       "    <tr>\n",
       "      <th>12</th>\n",
       "      <td>126.736129</td>\n",
       "      <td>36.08</td>\n",
       "      <td>906125.0001</td>\n",
       "      <td>1502125</td>\n",
       "      <td>126.487146</td>\n",
       "      <td>33.509663</td>\n",
       "    </tr>\n",
       "    <tr>\n",
       "      <th>13</th>\n",
       "      <td>85.289032</td>\n",
       "      <td>60.09</td>\n",
       "      <td>911625.0001</td>\n",
       "      <td>1501125</td>\n",
       "      <td>126.546455</td>\n",
       "      <td>33.501114</td>\n",
       "    </tr>\n",
       "    <tr>\n",
       "      <th>14</th>\n",
       "      <td>617.307097</td>\n",
       "      <td>590.02</td>\n",
       "      <td>909375.0001</td>\n",
       "      <td>1502625</td>\n",
       "      <td>126.522083</td>\n",
       "      <td>33.514453</td>\n",
       "    </tr>\n",
       "    <tr>\n",
       "      <th>15</th>\n",
       "      <td>272.430968</td>\n",
       "      <td>173.60</td>\n",
       "      <td>910625.0001</td>\n",
       "      <td>1501125</td>\n",
       "      <td>126.535690</td>\n",
       "      <td>33.501031</td>\n",
       "    </tr>\n",
       "    <tr>\n",
       "      <th>16</th>\n",
       "      <td>315.757419</td>\n",
       "      <td>174.07</td>\n",
       "      <td>910125.0001</td>\n",
       "      <td>1502875</td>\n",
       "      <td>126.530132</td>\n",
       "      <td>33.516771</td>\n",
       "    </tr>\n",
       "    <tr>\n",
       "      <th>17</th>\n",
       "      <td>285.583871</td>\n",
       "      <td>193.55</td>\n",
       "      <td>910125.0001</td>\n",
       "      <td>1501625</td>\n",
       "      <td>126.530258</td>\n",
       "      <td>33.505498</td>\n",
       "    </tr>\n",
       "    <tr>\n",
       "      <th>18</th>\n",
       "      <td>227.733226</td>\n",
       "      <td>111.97</td>\n",
       "      <td>910875.0001</td>\n",
       "      <td>1502625</td>\n",
       "      <td>126.538232</td>\n",
       "      <td>33.514579</td>\n",
       "    </tr>\n",
       "    <tr>\n",
       "      <th>19</th>\n",
       "      <td>1000.530323</td>\n",
       "      <td>666.11</td>\n",
       "      <td>906125.0001</td>\n",
       "      <td>1500125</td>\n",
       "      <td>126.487355</td>\n",
       "      <td>33.491627</td>\n",
       "    </tr>\n",
       "  </tbody>\n",
       "</table>\n",
       "</div>"
      ],
      "text/plain": [
       "       0131유동인구  1031유동인구         가로좌표     세로좌표         lon        lat\n",
       "0   1003.061613    572.16  906625.0001  1500375  126.492711  33.493925\n",
       "1    164.109032    158.71  906625.0001  1500625  126.492685  33.496180\n",
       "2    163.104194    225.12  905125.0001  1499375  126.476672  33.484775\n",
       "3    589.288064    382.08  905625.0001  1500375  126.481948  33.493837\n",
       "4    227.062581    162.91  905875.0001  1500625  126.484612  33.496114\n",
       "5    496.523871    395.20  906375.0001  1500375  126.490020  33.493903\n",
       "6    165.781613    152.67  908625.0001  1502375  126.514034  33.512134\n",
       "7     69.073548     24.88  908375.0001  1503125  126.511266  33.518877\n",
       "8     90.465484     66.27  907375.0001  1503125  126.500499  33.518790\n",
       "9     85.765484     97.61  908125.0001  1502125  126.508677  33.509837\n",
       "10    54.247419     26.84  907375.0001  1502625  126.500551  33.514281\n",
       "11   193.300968    185.55  908875.0001  1502625  126.516700  33.514410\n",
       "12   126.736129     36.08  906125.0001  1502125  126.487146  33.509663\n",
       "13    85.289032     60.09  911625.0001  1501125  126.546455  33.501114\n",
       "14   617.307097    590.02  909375.0001  1502625  126.522083  33.514453\n",
       "15   272.430968    173.60  910625.0001  1501125  126.535690  33.501031\n",
       "16   315.757419    174.07  910125.0001  1502875  126.530132  33.516771\n",
       "17   285.583871    193.55  910125.0001  1501625  126.530258  33.505498\n",
       "18   227.733226    111.97  910875.0001  1502625  126.538232  33.514579\n",
       "19  1000.530323    666.11  906125.0001  1500125  126.487355  33.491627"
      ]
     },
     "execution_count": 96,
     "metadata": {
      "tags": []
     },
     "output_type": "execute_result"
    }
   ],
   "source": [
    "df[:20]"
   ]
  },
  {
   "cell_type": "code",
   "execution_count": null,
   "metadata": {},
   "outputs": [],
   "source": [
    "lat_c = 33.493925\n",
    "lon_c = 126.492711\n",
    "\n",
    "m = folium.Map(location=[lat_c, lon_c], zoom_start=11)\n",
    "\n",
    "for idx, row in df[:20].iterrows():\n",
    "\n",
    "    lat_ = row['lat']\n",
    "    lon_ = row['lon']\n",
    "\n",
    "    folium.Marker(location=[lat_, lon_],radical=10).add_to(m)"
   ]
  },
  {
   "cell_type": "code",
   "execution_count": null,
   "metadata": {
    "id": "6sEI3e1pe6JI"
   },
   "outputs": [],
   "source": [
    "path = '데이터\\\\'"
   ]
  },
  {
   "cell_type": "code",
   "execution_count": null,
   "metadata": {
    "id": "Rou_enn9_Wh8"
   },
   "outputs": [],
   "source": [
    "file1 = pd.read_excel(path + 'DATA_1.xlsx')\n",
    "# file2 = pd.read_csv(path + '제주도_시간대별_그리드_유동인구_비율포함_20151031.csv', encoding='cp949')"
   ]
  },
  {
   "cell_type": "code",
   "execution_count": null,
   "metadata": {
    "id": "EvSRiSRv_XpM"
   },
   "outputs": [],
   "source": [
    "file1.drop(['지역'], axis=1, inplace=True)"
   ]
  },
  {
   "cell_type": "code",
   "execution_count": null,
   "metadata": {
    "id": "8gxiuq50fJYg"
   },
   "outputs": [],
   "source": [
    "file1.rename(columns={'2021-01-01 00:00:00':'2020년 1월 방문객 수'}, inplace=True)"
   ]
  },
  {
   "cell_type": "code",
   "execution_count": null,
   "metadata": {
    "id": "7u6qDvlsgSfX"
   },
   "outputs": [],
   "source": [
    "file1.dropna(inplace=True)"
   ]
  },
  {
   "cell_type": "code",
   "execution_count": null,
   "metadata": {
    "colab": {
     "base_uri": "https://localhost:8080/"
    },
    "executionInfo": {
     "elapsed": 2,
     "status": "ok",
     "timestamp": 1628144982773,
     "user": {
      "displayName": "Jinyou Kim",
      "photoUrl": "",
      "userId": "13762645804023943081"
     },
     "user_tz": -540
    },
    "id": "M7FeV-1khHLf",
    "outputId": "19f429de-84f7-4310-dca3-cd5c3da71e61"
   },
   "outputs": [
    {
     "name": "stdout",
     "output_type": "stream",
     "text": [
      "<class 'pandas.core.frame.DataFrame'>\n",
      "Int64Index: 43 entries, 0 to 43\n",
      "Data columns (total 8 columns):\n",
      " #   Column          Non-Null Count  Dtype  \n",
      "---  ------          --------------  -----  \n",
      " 0   지역명             43 non-null     object \n",
      " 1   맛집수             43 non-null     int64  \n",
      " 2   관광지 수           43 non-null     int64  \n",
      " 3   숙박업소수           43 non-null     int64  \n",
      " 4   버스정류장 수         43 non-null     int64  \n",
      " 5   해수욕장유무          43 non-null     int64  \n",
      " 6   2020년 1월 방문객 수  43 non-null     float64\n",
      " 7   2021년 1월 방문객 수  43 non-null     float64\n",
      "dtypes: float64(2), int64(5), object(1)\n",
      "memory usage: 3.0+ KB\n"
     ]
    }
   ],
   "source": [
    "file1.info()"
   ]
  },
  {
   "cell_type": "code",
   "execution_count": null,
   "metadata": {
    "id": "3P1RPg7mhMc6"
   },
   "outputs": [],
   "source": [
    "file1.set_index('지역명', inplace=True)"
   ]
  },
  {
   "cell_type": "code",
   "execution_count": null,
   "metadata": {
    "id": "fuNdgGY6frf5"
   },
   "outputs": [],
   "source": [
    "from sklearn.linear_model import LinearRegression\n",
    "from sklearn.model_selection import train_test_split\n",
    "from sklearn.metrics import mean_squared_error\n",
    "from sklearn.preprocessing import StandardScaler"
   ]
  },
  {
   "cell_type": "code",
   "execution_count": null,
   "metadata": {
    "colab": {
     "base_uri": "https://localhost:8080/",
     "height": 232
    },
    "executionInfo": {
     "elapsed": 3,
     "status": "ok",
     "timestamp": 1628144985789,
     "user": {
      "displayName": "Jinyou Kim",
      "photoUrl": "",
      "userId": "13762645804023943081"
     },
     "user_tz": -540
    },
    "id": "sh5Nhrb4giAT",
    "outputId": "777d2b93-82f4-4f47-a79e-ff19c878f36a"
   },
   "outputs": [
    {
     "data": {
      "text/html": [
       "<div>\n",
       "<style scoped>\n",
       "    .dataframe tbody tr th:only-of-type {\n",
       "        vertical-align: middle;\n",
       "    }\n",
       "\n",
       "    .dataframe tbody tr th {\n",
       "        vertical-align: top;\n",
       "    }\n",
       "\n",
       "    .dataframe thead th {\n",
       "        text-align: right;\n",
       "    }\n",
       "</style>\n",
       "<table border=\"1\" class=\"dataframe\">\n",
       "  <thead>\n",
       "    <tr style=\"text-align: right;\">\n",
       "      <th></th>\n",
       "      <th>맛집수</th>\n",
       "      <th>관광지 수</th>\n",
       "      <th>숙박업소수</th>\n",
       "      <th>버스정류장 수</th>\n",
       "      <th>해수욕장유무</th>\n",
       "      <th>2020년 1월 방문객 수</th>\n",
       "      <th>2021년 1월 방문객 수</th>\n",
       "    </tr>\n",
       "    <tr>\n",
       "      <th>지역명</th>\n",
       "      <th></th>\n",
       "      <th></th>\n",
       "      <th></th>\n",
       "      <th></th>\n",
       "      <th></th>\n",
       "      <th></th>\n",
       "      <th></th>\n",
       "    </tr>\n",
       "  </thead>\n",
       "  <tbody>\n",
       "    <tr>\n",
       "      <th>한림읍</th>\n",
       "      <td>7</td>\n",
       "      <td>23</td>\n",
       "      <td>65</td>\n",
       "      <td>19874</td>\n",
       "      <td>1</td>\n",
       "      <td>408817.0</td>\n",
       "      <td>245540.0</td>\n",
       "    </tr>\n",
       "    <tr>\n",
       "      <th>애월읍</th>\n",
       "      <td>17</td>\n",
       "      <td>25</td>\n",
       "      <td>113</td>\n",
       "      <td>52414</td>\n",
       "      <td>2</td>\n",
       "      <td>734535.0</td>\n",
       "      <td>442606.0</td>\n",
       "    </tr>\n",
       "    <tr>\n",
       "      <th>구좌읍</th>\n",
       "      <td>7</td>\n",
       "      <td>28</td>\n",
       "      <td>32</td>\n",
       "      <td>23134</td>\n",
       "      <td>5</td>\n",
       "      <td>438797.0</td>\n",
       "      <td>245380.0</td>\n",
       "    </tr>\n",
       "    <tr>\n",
       "      <th>조천읍</th>\n",
       "      <td>26</td>\n",
       "      <td>24</td>\n",
       "      <td>58</td>\n",
       "      <td>45480</td>\n",
       "      <td>1</td>\n",
       "      <td>566892.0</td>\n",
       "      <td>278139.0</td>\n",
       "    </tr>\n",
       "    <tr>\n",
       "      <th>한경면</th>\n",
       "      <td>2</td>\n",
       "      <td>14</td>\n",
       "      <td>11</td>\n",
       "      <td>0</td>\n",
       "      <td>1</td>\n",
       "      <td>176047.0</td>\n",
       "      <td>107564.0</td>\n",
       "    </tr>\n",
       "  </tbody>\n",
       "</table>\n",
       "</div>"
      ],
      "text/plain": [
       "     맛집수  관광지 수  숙박업소수  버스정류장 수  해수욕장유무  2020년 1월 방문객 수  2021년 1월 방문객 수\n",
       "지역명                                                                    \n",
       "한림읍    7     23     65    19874       1        408817.0        245540.0\n",
       "애월읍   17     25    113    52414       2        734535.0        442606.0\n",
       "구좌읍    7     28     32    23134       5        438797.0        245380.0\n",
       "조천읍   26     24     58    45480       1        566892.0        278139.0\n",
       "한경면    2     14     11        0       1        176047.0        107564.0"
      ]
     },
     "execution_count": 40,
     "metadata": {
      "tags": []
     },
     "output_type": "execute_result"
    }
   ],
   "source": [
    "file1.head()"
   ]
  },
  {
   "cell_type": "code",
   "execution_count": null,
   "metadata": {
    "id": "Kzk3ALJeh9PH"
   },
   "outputs": [],
   "source": [
    "df = file1.copy()"
   ]
  },
  {
   "cell_type": "code",
   "execution_count": null,
   "metadata": {
    "id": "0dw-Pxg8h_oz"
   },
   "outputs": [],
   "source": [
    "col_list = df.columns.tolist()"
   ]
  },
  {
   "cell_type": "code",
   "execution_count": null,
   "metadata": {
    "id": "ymoFYkQnhtY8"
   },
   "outputs": [],
   "source": [
    "sc = StandardScaler()\n",
    "df[col_list] = sc.fit_transform(df[col_list])"
   ]
  },
  {
   "cell_type": "code",
   "execution_count": null,
   "metadata": {
    "id": "evhwWr4iiIlp"
   },
   "outputs": [],
   "source": [
    "df.head()"
   ]
  },
  {
   "cell_type": "code",
   "execution_count": null,
   "metadata": {
    "id": "6v0AgFPIjHvQ"
   },
   "outputs": [],
   "source": [
    "cols = list(df.columns) \n",
    "cols \n",
    "\n",
    "x_col = cols[:5] \n",
    "y_col = cols[6] \n",
    "x_col  \n",
    "y_col "
   ]
  },
  {
   "cell_type": "code",
   "execution_count": null,
   "metadata": {
    "colab": {
     "base_uri": "https://localhost:8080/"
    },
    "executionInfo": {
     "elapsed": 8,
     "status": "ok",
     "timestamp": 1628043651546,
     "user": {
      "displayName": "Jinyou Kim",
      "photoUrl": "",
      "userId": "13762645804023943081"
     },
     "user_tz": -540
    },
    "id": "Fy2uOzTRjdCl",
    "outputId": "3bc8e292-9f9c-4b3f-bfb9-6dce8df31070"
   },
   "outputs": [
    {
     "data": {
      "text/plain": [
       "(9, 7)"
      ]
     },
     "execution_count": 52,
     "metadata": {
      "tags": []
     },
     "output_type": "execute_result"
    }
   ],
   "source": [
    "train, test = train_test_split(df, test_size = 0.2, random_state=42) \n",
    "\n",
    "train.shape \n",
    "test.shape"
   ]
  },
  {
   "cell_type": "code",
   "execution_count": null,
   "metadata": {
    "colab": {
     "base_uri": "https://localhost:8080/"
    },
    "executionInfo": {
     "elapsed": 3,
     "status": "ok",
     "timestamp": 1628043652277,
     "user": {
      "displayName": "Jinyou Kim",
      "photoUrl": "",
      "userId": "13762645804023943081"
     },
     "user_tz": -540
    },
    "id": "YZzxmfxbjv5i",
    "outputId": "4509ddd5-0eb8-4d07-c1b8-aa207f60d691"
   },
   "outputs": [
    {
     "data": {
      "text/plain": [
       "LinearRegression(copy_X=True, fit_intercept=True, n_jobs=None, normalize=False)"
      ]
     },
     "execution_count": 53,
     "metadata": {
      "tags": []
     },
     "output_type": "execute_result"
    }
   ],
   "source": [
    "model = LinearRegression() \n",
    "model.fit(X = train[x_col], y = train[y_col])\n",
    "\n",
    "\n"
   ]
  },
  {
   "cell_type": "code",
   "execution_count": null,
   "metadata": {
    "colab": {
     "base_uri": "https://localhost:8080/"
    },
    "executionInfo": {
     "elapsed": 5,
     "status": "ok",
     "timestamp": 1628043653520,
     "user": {
      "displayName": "Jinyou Kim",
      "photoUrl": "",
      "userId": "13762645804023943081"
     },
     "user_tz": -540
    },
    "id": "SSnAE7ry9oPX",
    "outputId": "66567831-5d2f-414a-89dd-a2eeda9292ba"
   },
   "outputs": [
    {
     "data": {
      "text/plain": [
       "array([ 0.13227012,  0.3985421 ,  0.18785542,  0.25773582, -0.14794459])"
      ]
     },
     "execution_count": 54,
     "metadata": {
      "tags": []
     },
     "output_type": "execute_result"
    }
   ],
   "source": [
    "model.coef_    "
   ]
  },
  {
   "cell_type": "code",
   "execution_count": null,
   "metadata": {
    "colab": {
     "base_uri": "https://localhost:8080/"
    },
    "executionInfo": {
     "elapsed": 297,
     "status": "ok",
     "timestamp": 1628043680943,
     "user": {
      "displayName": "Jinyou Kim",
      "photoUrl": "",
      "userId": "13762645804023943081"
     },
     "user_tz": -540
    },
    "id": "miNdWwTNjyo5",
    "outputId": "58755bf5-6f99-444d-8e78-8799de186c1d"
   },
   "outputs": [
    {
     "data": {
      "text/plain": [
       "0.007001797049292269"
      ]
     },
     "execution_count": 55,
     "metadata": {
      "tags": []
     },
     "output_type": "execute_result"
    }
   ],
   "source": [
    "model.intercept_ "
   ]
  },
  {
   "cell_type": "code",
   "execution_count": null,
   "metadata": {
    "colab": {
     "base_uri": "https://localhost:8080/"
    },
    "executionInfo": {
     "elapsed": 357,
     "status": "ok",
     "timestamp": 1628043712977,
     "user": {
      "displayName": "Jinyou Kim",
      "photoUrl": "",
      "userId": "13762645804023943081"
     },
     "user_tz": -540
    },
    "id": "YIBgBE5rkGgV",
    "outputId": "53910b7a-c6da-4210-8421-b78827266e18"
   },
   "outputs": [
    {
     "data": {
      "text/plain": [
       "9"
      ]
     },
     "execution_count": 56,
     "metadata": {
      "tags": []
     },
     "output_type": "execute_result"
    }
   ],
   "source": [
    "y_pred = model.predict(X=test[x_col]) \n",
    "y_pred \n",
    "len(y_pred)\n",
    "\n",
    "\n",
    "Y = test[y_col] \n",
    "Y \n",
    "len(Y)"
   ]
  },
  {
   "cell_type": "code",
   "execution_count": null,
   "metadata": {
    "colab": {
     "base_uri": "https://localhost:8080/"
    },
    "executionInfo": {
     "elapsed": 2,
     "status": "ok",
     "timestamp": 1628043713408,
     "user": {
      "displayName": "Jinyou Kim",
      "photoUrl": "",
      "userId": "13762645804023943081"
     },
     "user_tz": -540
    },
    "id": "ZcApZ5jpkZ3B",
    "outputId": "a441f0ac-8050-4b2c-bd50-fc59d50c030d"
   },
   "outputs": [
    {
     "name": "stdout",
     "output_type": "stream",
     "text": [
      "mse = 0.18493997338949558\n"
     ]
    }
   ],
   "source": [
    "mse = mean_squared_error(y_true = Y, y_pred = y_pred) \n",
    "print('mse =', mse) "
   ]
  },
  {
   "cell_type": "code",
   "execution_count": null,
   "metadata": {
    "colab": {
     "base_uri": "https://localhost:8080/",
     "height": 503,
     "referenced_widgets": [
      "9a22efcf26ca4513bc861a5515359daf",
      "812ab5bd2ab5482cb9233dc6d8f5202e",
      "2bc84ee417b248539095e02548781195",
      "b3ad30f91fb046bf81c4edd829d9bfdb",
      "4d4e6cc1eeff45818808c3769312f45c",
      "4a13b786db854913981b25cfa91541a3",
      "e9ff30f975a04be0881053f25d76fe61"
     ]
    },
    "executionInfo": {
     "elapsed": 835,
     "status": "ok",
     "timestamp": 1628041805460,
     "user": {
      "displayName": "Jinyou Kim",
      "photoUrl": "",
      "userId": "13762645804023943081"
     },
     "user_tz": -540
    },
    "id": "1r1VrsIGkj6R",
    "outputId": "2de99f59-e887-4d24-81c4-485681c0e9c2"
   },
   "outputs": [
    {
     "data": {
      "application/vnd.jupyter.widget-view+json": {
       "model_id": "9a22efcf26ca4513bc861a5515359daf",
       "version_major": 2,
       "version_minor": 0
      },
      "text/plain": [
       "interactive(children=(IntSlider(value=2, description='x', max=6, min=-2), Output()), _dom_classes=('widget-int…"
      ]
     },
     "metadata": {
      "tags": []
     },
     "output_type": "display_data"
    },
    {
     "data": {
      "text/plain": [
       "<function __main__.lm_plot>"
      ]
     },
     "execution_count": 39,
     "metadata": {
      "tags": []
     },
     "output_type": "execute_result"
    }
   ],
   "source": [
    "import seaborn as sns\n",
    "\n",
    "from ipywidgets import interact\n",
    "def lm_plot(x):\n",
    "    sns.lmplot(x=\"버스정류장 수\",\n",
    "               y=\"2021년 1월 방문객 수\",\n",
    "               data=df,\n",
    "               order = x,\n",
    "               line_kws={'color':\"red\"}, scatter_kws={'edgecolor':\"white\"})\n",
    "    \n",
    "interact(lm_plot, x=2)"
   ]
  },
  {
   "cell_type": "code",
   "execution_count": null,
   "metadata": {
    "colab": {
     "base_uri": "https://localhost:8080/",
     "height": 34
    },
    "executionInfo": {
     "elapsed": 282,
     "status": "ok",
     "timestamp": 1628144994391,
     "user": {
      "displayName": "Jinyou Kim",
      "photoUrl": "",
      "userId": "13762645804023943081"
     },
     "user_tz": -540
    },
    "id": "QC7NsN7NlbN8",
    "outputId": "16ff1f2c-c957-4ec5-cb1f-779e6a6fe232"
   },
   "outputs": [
    {
     "data": {
      "application/vnd.google.colaboratory.intrinsic+json": {
       "type": "string"
      },
      "text/plain": [
       "'2021년 1월 방문객 수'"
      ]
     },
     "execution_count": 44,
     "metadata": {
      "tags": []
     },
     "output_type": "execute_result"
    }
   ],
   "source": [
    "cols = list(df.columns) \n",
    "cols \n",
    "\n",
    "x_col = cols[:4] \n",
    "y_col = cols[6] \n",
    "x_col  \n",
    "y_col "
   ]
  },
  {
   "cell_type": "code",
   "execution_count": null,
   "metadata": {
    "colab": {
     "base_uri": "https://localhost:8080/"
    },
    "executionInfo": {
     "elapsed": 2,
     "status": "ok",
     "timestamp": 1628144995432,
     "user": {
      "displayName": "Jinyou Kim",
      "photoUrl": "",
      "userId": "13762645804023943081"
     },
     "user_tz": -540
    },
    "id": "NDu7V7lhxcJF",
    "outputId": "31193b81-e514-42cd-9a8b-19971f2561f8"
   },
   "outputs": [
    {
     "data": {
      "text/plain": [
       "(9, 7)"
      ]
     },
     "execution_count": 45,
     "metadata": {
      "tags": []
     },
     "output_type": "execute_result"
    }
   ],
   "source": [
    "train, test = train_test_split(df, test_size = 0.2, random_state=42) \n",
    "\n",
    "train.shape \n",
    "test.shape"
   ]
  },
  {
   "cell_type": "code",
   "execution_count": null,
   "metadata": {
    "colab": {
     "base_uri": "https://localhost:8080/"
    },
    "executionInfo": {
     "elapsed": 5,
     "status": "ok",
     "timestamp": 1628144997542,
     "user": {
      "displayName": "Jinyou Kim",
      "photoUrl": "",
      "userId": "13762645804023943081"
     },
     "user_tz": -540
    },
    "id": "RYLw-WzyxfNV",
    "outputId": "71b7d9bb-806f-470a-ce99-1ff8a9428f22"
   },
   "outputs": [
    {
     "data": {
      "text/plain": [
       "array([0.11649801, 0.29867698, 0.17433582, 0.28172223])"
      ]
     },
     "execution_count": 46,
     "metadata": {
      "tags": []
     },
     "output_type": "execute_result"
    }
   ],
   "source": [
    "model = LinearRegression() \n",
    "model.fit(X = train[x_col], y = train[y_col])\n",
    "\n",
    "model.coef_    "
   ]
  },
  {
   "cell_type": "code",
   "execution_count": null,
   "metadata": {
    "colab": {
     "base_uri": "https://localhost:8080/"
    },
    "executionInfo": {
     "elapsed": 4,
     "status": "ok",
     "timestamp": 1628145079337,
     "user": {
      "displayName": "Jinyou Kim",
      "photoUrl": "",
      "userId": "13762645804023943081"
     },
     "user_tz": -540
    },
    "id": "KGG4U0V3xgqH",
    "outputId": "a91df8ce-7882-4cf7-f97c-92383b7aa164"
   },
   "outputs": [
    {
     "data": {
      "text/plain": [
       "0.0010555726987038078"
      ]
     },
     "execution_count": 47,
     "metadata": {
      "tags": []
     },
     "output_type": "execute_result"
    }
   ],
   "source": [
    "model.intercept_ "
   ]
  },
  {
   "cell_type": "code",
   "execution_count": null,
   "metadata": {
    "colab": {
     "base_uri": "https://localhost:8080/"
    },
    "executionInfo": {
     "elapsed": 400,
     "status": "ok",
     "timestamp": 1628145121390,
     "user": {
      "displayName": "Jinyou Kim",
      "photoUrl": "",
      "userId": "13762645804023943081"
     },
     "user_tz": -540
    },
    "id": "At6KENmoxivY",
    "outputId": "bab6c8b0-07dc-446e-bd3d-86f8269e5d47"
   },
   "outputs": [
    {
     "data": {
      "text/plain": [
       "9"
      ]
     },
     "execution_count": 48,
     "metadata": {
      "tags": []
     },
     "output_type": "execute_result"
    }
   ],
   "source": [
    "y_pred = model.predict(X=test[x_col]) \n",
    "y_pred \n",
    "len(y_pred)\n",
    "\n",
    "\n",
    "Y = test[y_col] \n",
    "Y \n",
    "len(Y)"
   ]
  },
  {
   "cell_type": "code",
   "execution_count": null,
   "metadata": {
    "colab": {
     "base_uri": "https://localhost:8080/"
    },
    "executionInfo": {
     "elapsed": 6,
     "status": "ok",
     "timestamp": 1628145121390,
     "user": {
      "displayName": "Jinyou Kim",
      "photoUrl": "",
      "userId": "13762645804023943081"
     },
     "user_tz": -540
    },
    "id": "TlNGYXs4xj_6",
    "outputId": "7b2200dc-f451-4f91-bc74-0dc8de83e4bb"
   },
   "outputs": [
    {
     "name": "stdout",
     "output_type": "stream",
     "text": [
      "mse = 0.17506134926280523\n"
     ]
    }
   ],
   "source": [
    "mse = mean_squared_error(y_true = Y, y_pred = y_pred) \n",
    "print('mse =', mse) "
   ]
  },
  {
   "cell_type": "code",
   "execution_count": null,
   "metadata": {
    "id": "mmnh2YhbxoWO"
   },
   "outputs": [],
   "source": []
  }
 ],
 "metadata": {
  "colab": {
   "collapsed_sections": [],
   "name": "샘플_전처리_분석.ipynb",
   "provenance": []
  },
  "kernelspec": {
   "display_name": "Python 3 (ipykernel)",
   "language": "python",
   "name": "python3"
  },
  "language_info": {
   "codemirror_mode": {
    "name": "ipython",
    "version": 3
   },
   "file_extension": ".py",
   "mimetype": "text/x-python",
   "name": "python",
   "nbconvert_exporter": "python",
   "pygments_lexer": "ipython3",
   "version": "3.8.10"
  },
  "widgets": {
   "application/vnd.jupyter.widget-state+json": {
    "2bc84ee417b248539095e02548781195": {
     "model_module": "@jupyter-widgets/controls",
     "model_module_version": "1.5.0",
     "model_name": "IntSliderModel",
     "state": {
      "_dom_classes": [],
      "_model_module": "@jupyter-widgets/controls",
      "_model_module_version": "1.5.0",
      "_model_name": "IntSliderModel",
      "_view_count": null,
      "_view_module": "@jupyter-widgets/controls",
      "_view_module_version": "1.5.0",
      "_view_name": "IntSliderView",
      "continuous_update": true,
      "description": "x",
      "description_tooltip": null,
      "disabled": false,
      "layout": "IPY_MODEL_4a13b786db854913981b25cfa91541a3",
      "max": 6,
      "min": -2,
      "orientation": "horizontal",
      "readout": true,
      "readout_format": "d",
      "step": 1,
      "style": "IPY_MODEL_4d4e6cc1eeff45818808c3769312f45c",
      "value": 2
     }
    },
    "4a13b786db854913981b25cfa91541a3": {
     "model_module": "@jupyter-widgets/base",
     "model_module_version": "1.2.0",
     "model_name": "LayoutModel",
     "state": {
      "_model_module": "@jupyter-widgets/base",
      "_model_module_version": "1.2.0",
      "_model_name": "LayoutModel",
      "_view_count": null,
      "_view_module": "@jupyter-widgets/base",
      "_view_module_version": "1.2.0",
      "_view_name": "LayoutView",
      "align_content": null,
      "align_items": null,
      "align_self": null,
      "border": null,
      "bottom": null,
      "display": null,
      "flex": null,
      "flex_flow": null,
      "grid_area": null,
      "grid_auto_columns": null,
      "grid_auto_flow": null,
      "grid_auto_rows": null,
      "grid_column": null,
      "grid_gap": null,
      "grid_row": null,
      "grid_template_areas": null,
      "grid_template_columns": null,
      "grid_template_rows": null,
      "height": null,
      "justify_content": null,
      "justify_items": null,
      "left": null,
      "margin": null,
      "max_height": null,
      "max_width": null,
      "min_height": null,
      "min_width": null,
      "object_fit": null,
      "object_position": null,
      "order": null,
      "overflow": null,
      "overflow_x": null,
      "overflow_y": null,
      "padding": null,
      "right": null,
      "top": null,
      "visibility": null,
      "width": null
     }
    },
    "4d4e6cc1eeff45818808c3769312f45c": {
     "model_module": "@jupyter-widgets/controls",
     "model_module_version": "1.5.0",
     "model_name": "SliderStyleModel",
     "state": {
      "_model_module": "@jupyter-widgets/controls",
      "_model_module_version": "1.5.0",
      "_model_name": "SliderStyleModel",
      "_view_count": null,
      "_view_module": "@jupyter-widgets/base",
      "_view_module_version": "1.2.0",
      "_view_name": "StyleView",
      "description_width": "",
      "handle_color": null
     }
    },
    "812ab5bd2ab5482cb9233dc6d8f5202e": {
     "model_module": "@jupyter-widgets/base",
     "model_module_version": "1.2.0",
     "model_name": "LayoutModel",
     "state": {
      "_model_module": "@jupyter-widgets/base",
      "_model_module_version": "1.2.0",
      "_model_name": "LayoutModel",
      "_view_count": null,
      "_view_module": "@jupyter-widgets/base",
      "_view_module_version": "1.2.0",
      "_view_name": "LayoutView",
      "align_content": null,
      "align_items": null,
      "align_self": null,
      "border": null,
      "bottom": null,
      "display": null,
      "flex": null,
      "flex_flow": null,
      "grid_area": null,
      "grid_auto_columns": null,
      "grid_auto_flow": null,
      "grid_auto_rows": null,
      "grid_column": null,
      "grid_gap": null,
      "grid_row": null,
      "grid_template_areas": null,
      "grid_template_columns": null,
      "grid_template_rows": null,
      "height": null,
      "justify_content": null,
      "justify_items": null,
      "left": null,
      "margin": null,
      "max_height": null,
      "max_width": null,
      "min_height": null,
      "min_width": null,
      "object_fit": null,
      "object_position": null,
      "order": null,
      "overflow": null,
      "overflow_x": null,
      "overflow_y": null,
      "padding": null,
      "right": null,
      "top": null,
      "visibility": null,
      "width": null
     }
    },
    "9a22efcf26ca4513bc861a5515359daf": {
     "model_module": "@jupyter-widgets/controls",
     "model_module_version": "1.5.0",
     "model_name": "VBoxModel",
     "state": {
      "_dom_classes": [
       "widget-interact"
      ],
      "_model_module": "@jupyter-widgets/controls",
      "_model_module_version": "1.5.0",
      "_model_name": "VBoxModel",
      "_view_count": null,
      "_view_module": "@jupyter-widgets/controls",
      "_view_module_version": "1.5.0",
      "_view_name": "VBoxView",
      "box_style": "",
      "children": [
       "IPY_MODEL_2bc84ee417b248539095e02548781195",
       "IPY_MODEL_b3ad30f91fb046bf81c4edd829d9bfdb"
      ],
      "layout": "IPY_MODEL_812ab5bd2ab5482cb9233dc6d8f5202e"
     }
    },
    "b3ad30f91fb046bf81c4edd829d9bfdb": {
     "model_module": "@jupyter-widgets/output",
     "model_module_version": "1.0.0",
     "model_name": "OutputModel",
     "state": {
      "_dom_classes": [],
      "_model_module": "@jupyter-widgets/output",
      "_model_module_version": "1.0.0",
      "_model_name": "OutputModel",
      "_view_count": null,
      "_view_module": "@jupyter-widgets/output",
      "_view_module_version": "1.0.0",
      "_view_name": "OutputView",
      "layout": "IPY_MODEL_e9ff30f975a04be0881053f25d76fe61",
      "msg_id": "",
      "outputs": [
       {
        "metadata": {
         "tags": []
        },
        "output_type": "stream",
        "stream": "stderr",
        "text": "/usr/local/lib/python3.7/dist-packages/matplotlib/backends/backend_agg.py:214: RuntimeWarning: Glyph 8722 missing from current font.\n  font.set_text(s, 0.0, flags=flags)\n/usr/local/lib/python3.7/dist-packages/matplotlib/backends/backend_agg.py:183: RuntimeWarning: Glyph 8722 missing from current font.\n  font.set_text(s, 0, flags=flags)\n"
       },
       {
        "image/png": "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\n",
        "metadata": {
         "needs_background": "light",
         "tags": []
        },
        "output_type": "display_data",
        "text/plain": "<Figure size 360x360 with 1 Axes>"
       }
      ]
     }
    },
    "e9ff30f975a04be0881053f25d76fe61": {
     "model_module": "@jupyter-widgets/base",
     "model_module_version": "1.2.0",
     "model_name": "LayoutModel",
     "state": {
      "_model_module": "@jupyter-widgets/base",
      "_model_module_version": "1.2.0",
      "_model_name": "LayoutModel",
      "_view_count": null,
      "_view_module": "@jupyter-widgets/base",
      "_view_module_version": "1.2.0",
      "_view_name": "LayoutView",
      "align_content": null,
      "align_items": null,
      "align_self": null,
      "border": null,
      "bottom": null,
      "display": null,
      "flex": null,
      "flex_flow": null,
      "grid_area": null,
      "grid_auto_columns": null,
      "grid_auto_flow": null,
      "grid_auto_rows": null,
      "grid_column": null,
      "grid_gap": null,
      "grid_row": null,
      "grid_template_areas": null,
      "grid_template_columns": null,
      "grid_template_rows": null,
      "height": null,
      "justify_content": null,
      "justify_items": null,
      "left": null,
      "margin": null,
      "max_height": null,
      "max_width": null,
      "min_height": null,
      "min_width": null,
      "object_fit": null,
      "object_position": null,
      "order": null,
      "overflow": null,
      "overflow_x": null,
      "overflow_y": null,
      "padding": null,
      "right": null,
      "top": null,
      "visibility": null,
      "width": null
     }
    }
   }
  }
 },
 "nbformat": 4,
 "nbformat_minor": 1
}
